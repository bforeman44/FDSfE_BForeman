{
 "cells": [
  {
   "cell_type": "markdown",
   "metadata": {
    "colab_type": "text",
    "id": "view-in-github"
   },
   "source": [
    "<a href=\"https://colab.research.google.com/github/bforeman44/FDSfE_BForeman/blob/main/HW6/FDSfA_titanictree.ipynb\" target=\"_parent\"><img src=\"https://colab.research.google.com/assets/colab-badge.svg\" alt=\"Open In Colab\"/></a>"
   ]
  },
  {
   "cell_type": "code",
   "execution_count": 1,
   "metadata": {
    "ExecuteTime": {
     "end_time": "2019-10-28T03:54:27.722114Z",
     "start_time": "2019-10-28T03:54:26.787711Z"
    },
    "colab": {
     "base_uri": "https://localhost:8080/"
    },
    "id": "gCbLLA_Bg12Z",
    "outputId": "5b6ba5dd-f57f-43af-ead4-87829431dcc9"
   },
   "outputs": [
    {
     "name": "stdout",
     "output_type": "stream",
     "text": [
      "Populating the interactive namespace from numpy and matplotlib\n"
     ]
    }
   ],
   "source": [
    "import pandas as pd\n",
    "import numpy as np\n",
    "import pylab as pl\n",
    "import os\n",
    "import json \n",
    "%pylab inline\n",
    "#pl.style.use(\"https://raw.githubusercontent.com/fedhere/DSPS/master/fbb.mplstyle\")"
   ]
  },
  {
   "cell_type": "markdown",
   "metadata": {
    "id": "iPgdtu9gsinm"
   },
   "source": [
    "# 0.1 reading data from kaggle"
   ]
  },
  {
   "cell_type": "code",
   "execution_count": 2,
   "metadata": {
    "id": "pCUXEwM5g12d"
   },
   "outputs": [],
   "source": [
    "# pip install kaggle "
   ]
  },
  {
   "cell_type": "code",
   "execution_count": 3,
   "metadata": {
    "id": "udnrVbAXFHdV"
   },
   "outputs": [],
   "source": [
    "# !kaggle --version"
   ]
  },
  {
   "cell_type": "markdown",
   "metadata": {
    "id": "Am1XS9yFu5_H"
   },
   "source": [
    "## create a file kaggle.json by requesting and API key to kaggle (under account) \n",
    "## https://www.kaggle.com/docs/api\n",
    "## and upload it to your google drive. \n",
    "## Upload and read in the credential, store them as environmental variables\n",
    "\n",
    "### Before class\n",
    "Please register for an account at kaggle.com, all the work we will do together in class as well as your next homework will require it.\n",
    "To register do the following:\n",
    "- go to kaggle.com\n",
    "- click on “Register” in the upper right corner\n",
    "select either Register with Google, or Register with your email (it’s up to you)\n",
    "- follow the instructions provided by kaggle to create an account (enter your email address, create a password, and choose a username), all of which are up to you, this will be your account after all\n",
    "- Make sure that at the end, you have an account that you can log in with, and be logged in and ready next class\n",
    "\n",
    "### In class\n",
    "\n",
    "- Go to https://www.kaggle.com/ and sign in\n",
    "- click on the icon of your avatar on the top right\n",
    "- select account from the drop menu\n",
    "- scroll down to API and click `create New API Token`. This will download a json file on your computer \n",
    "- open google drive at https://drive.google.com/drive/u/0/my-drive in your browser\n",
    "-  upload the kaggle.json file from your laptop to the drive\n"
   ]
  },
  {
   "cell_type": "code",
   "execution_count": 4,
   "metadata": {
    "colab": {
     "base_uri": "https://localhost:8080/"
    },
    "id": "d8O5LOhWrF2s",
    "outputId": "78c8e890-53b8-401b-80f8-dce5122ca5b0"
   },
   "outputs": [
    {
     "name": "stdout",
     "output_type": "stream",
     "text": [
      "Drive already mounted at /content/gdrive; to attempt to forcibly remount, call drive.mount(\"/content/gdrive\", force_remount=True).\n"
     ]
    }
   ],
   "source": [
    "from google.colab import drive\n",
    "drive.mount(\"/content/gdrive\")\n"
   ]
  },
  {
   "cell_type": "code",
   "execution_count": 5,
   "metadata": {
    "colab": {
     "base_uri": "https://localhost:8080/"
    },
    "id": "tFeYhc7icChm",
    "outputId": "130362fb-de3c-4c78-e535-5debe944f785"
   },
   "outputs": [
    {
     "name": "stdout",
     "output_type": "stream",
     "text": [
      "/content/gdrive/My Drive\n"
     ]
    }
   ],
   "source": [
    "cd gdrive/My\\ Drive/"
   ]
  },
  {
   "cell_type": "markdown",
   "metadata": {
    "id": "AHURoEtdC-bv"
   },
   "source": [
    "make sure the file is there: this cell should return \"kaggle.json\""
   ]
  },
  {
   "cell_type": "code",
   "execution_count": 6,
   "metadata": {
    "id": "6_m5iYc-vHq7"
   },
   "outputs": [],
   "source": [
    "# ls kaggle.json"
   ]
  },
  {
   "cell_type": "markdown",
   "metadata": {
    "id": "6jzCNriJD16O"
   },
   "source": [
    "the next cell changes who can access this file. Tokens are a seriously private thing! they are used to access sites. If someone were to hack the kaggle site and steal information from the user using your token you would be legally responsible for that! So keep your files secret. Don't share them with any one, don't print the content of the json file we use in your notebook. "
   ]
  },
  {
   "cell_type": "code",
   "execution_count": 7,
   "metadata": {
    "id": "jsICrTrsvKMq"
   },
   "outputs": [],
   "source": [
    "# !chmod 600 kaggle.json"
   ]
  },
  {
   "cell_type": "code",
   "execution_count": 8,
   "metadata": {
    "id": "AbS20L4_mQry"
   },
   "outputs": [],
   "source": [
    "# envs = json.load(open(\"kaggle.json\", \"r\"))\n",
    "# os.environ[\"KAGGLE_USERNAME\"] = envs['username']\n",
    "# os.environ[\"KAGGLE_KEY\"] = \"e60b57c215e877e01a22375a3058eec1\"#envs['key']"
   ]
  },
  {
   "cell_type": "code",
   "execution_count": 9,
   "metadata": {
    "id": "fmjKsHsChHnm"
   },
   "outputs": [],
   "source": [
    "#check that it worked by listing the kaggle datasets\n",
    "# !kaggle competitions list"
   ]
  },
  {
   "cell_type": "markdown",
   "metadata": {
    "id": "NNsvw8PgGqKr"
   },
   "source": [
    "create a directory for these data\n"
   ]
  },
  {
   "cell_type": "code",
   "execution_count": 10,
   "metadata": {
    "id": "JlZyIqNprVo_"
   },
   "outputs": [],
   "source": [
    "# !mkdir kaggleTitanic"
   ]
  },
  {
   "cell_type": "markdown",
   "metadata": {
    "id": "AlsS_BEIGoHL"
   },
   "source": [
    "move to that directory\n"
   ]
  },
  {
   "cell_type": "code",
   "execution_count": 11,
   "metadata": {
    "colab": {
     "base_uri": "https://localhost:8080/"
    },
    "id": "mqDrRNAKrZy8",
    "outputId": "708a31db-c421-47a5-c4bf-6e7ef408c0a2"
   },
   "outputs": [
    {
     "name": "stdout",
     "output_type": "stream",
     "text": [
      "/content/gdrive/My Drive/kaggleTitanic\n"
     ]
    }
   ],
   "source": [
    "cd kaggleTitanic"
   ]
  },
  {
   "cell_type": "markdown",
   "metadata": {
    "id": "f2U_0rHYv0Qk"
   },
   "source": [
    "download the titanic data into the directory you created for it"
   ]
  },
  {
   "cell_type": "code",
   "execution_count": 12,
   "metadata": {
    "id": "Pk-m5nEZp7ua"
   },
   "outputs": [],
   "source": [
    "# !kaggle competitions download -c titanic"
   ]
  },
  {
   "cell_type": "code",
   "execution_count": 13,
   "metadata": {
    "id": "k0oX-TFgp-df"
   },
   "outputs": [],
   "source": [
    "# !ls"
   ]
  },
  {
   "cell_type": "code",
   "execution_count": 14,
   "metadata": {
    "id": "9CpX_DcAHFuf"
   },
   "outputs": [],
   "source": [
    "# !unzip titanic.zip"
   ]
  },
  {
   "cell_type": "markdown",
   "metadata": {
    "id": "QnlbzVpwwSxU"
   },
   "source": [
    "read in the data"
   ]
  },
  {
   "cell_type": "code",
   "execution_count": 15,
   "metadata": {
    "ExecuteTime": {
     "end_time": "2018-11-28T13:09:38.694413Z",
     "start_time": "2018-11-28T13:09:38.661437Z"
    },
    "id": "WXM9gKq6g12e"
   },
   "outputs": [],
   "source": [
    "titanic = pd.read_csv(\"train.csv\").dropna(subset=[\"Survived\", \"Sex\", \"Pclass\", \"Age\"])"
   ]
  },
  {
   "cell_type": "code",
   "execution_count": 16,
   "metadata": {
    "ExecuteTime": {
     "end_time": "2018-11-28T13:09:38.712717Z",
     "start_time": "2018-11-28T13:09:38.700624Z"
    },
    "colab": {
     "base_uri": "https://localhost:8080/"
    },
    "id": "Cswjv-15g12g",
    "outputId": "0a7ba7e6-9a7a-4601-8699-e064d853853b"
   },
   "outputs": [
    {
     "data": {
      "text/plain": [
       "(714, 12)"
      ]
     },
     "execution_count": 16,
     "metadata": {},
     "output_type": "execute_result"
    }
   ],
   "source": [
    "titanic.shape"
   ]
  },
  {
   "cell_type": "code",
   "execution_count": 17,
   "metadata": {
    "ExecuteTime": {
     "end_time": "2018-11-28T13:09:38.844735Z",
     "start_time": "2018-11-28T13:09:38.803001Z"
    },
    "colab": {
     "base_uri": "https://localhost:8080/",
     "height": 143
    },
    "id": "PmupK5Jsg12j",
    "outputId": "c783a0c6-30ad-405b-96be-2e27df6812e8"
   },
   "outputs": [
    {
     "data": {
      "text/html": [
       "\n",
       "  <div id=\"df-d6094cb2-54f2-412b-b6c0-008ebc0fb4b9\">\n",
       "    <div class=\"colab-df-container\">\n",
       "      <div>\n",
       "<style scoped>\n",
       "    .dataframe tbody tr th:only-of-type {\n",
       "        vertical-align: middle;\n",
       "    }\n",
       "\n",
       "    .dataframe tbody tr th {\n",
       "        vertical-align: top;\n",
       "    }\n",
       "\n",
       "    .dataframe thead th {\n",
       "        text-align: right;\n",
       "    }\n",
       "</style>\n",
       "<table border=\"1\" class=\"dataframe\">\n",
       "  <thead>\n",
       "    <tr style=\"text-align: right;\">\n",
       "      <th></th>\n",
       "      <th>PassengerId</th>\n",
       "      <th>Survived</th>\n",
       "      <th>Pclass</th>\n",
       "      <th>Name</th>\n",
       "      <th>Sex</th>\n",
       "      <th>Age</th>\n",
       "      <th>SibSp</th>\n",
       "      <th>Parch</th>\n",
       "      <th>Ticket</th>\n",
       "      <th>Fare</th>\n",
       "      <th>Cabin</th>\n",
       "      <th>Embarked</th>\n",
       "    </tr>\n",
       "  </thead>\n",
       "  <tbody>\n",
       "    <tr>\n",
       "      <th>0</th>\n",
       "      <td>1</td>\n",
       "      <td>0</td>\n",
       "      <td>3</td>\n",
       "      <td>Braund, Mr. Owen Harris</td>\n",
       "      <td>male</td>\n",
       "      <td>22.0</td>\n",
       "      <td>1</td>\n",
       "      <td>0</td>\n",
       "      <td>A/5 21171</td>\n",
       "      <td>7.2500</td>\n",
       "      <td>NaN</td>\n",
       "      <td>S</td>\n",
       "    </tr>\n",
       "    <tr>\n",
       "      <th>1</th>\n",
       "      <td>2</td>\n",
       "      <td>1</td>\n",
       "      <td>1</td>\n",
       "      <td>Cumings, Mrs. John Bradley (Florence Briggs Th...</td>\n",
       "      <td>female</td>\n",
       "      <td>38.0</td>\n",
       "      <td>1</td>\n",
       "      <td>0</td>\n",
       "      <td>PC 17599</td>\n",
       "      <td>71.2833</td>\n",
       "      <td>C85</td>\n",
       "      <td>C</td>\n",
       "    </tr>\n",
       "    <tr>\n",
       "      <th>2</th>\n",
       "      <td>3</td>\n",
       "      <td>1</td>\n",
       "      <td>3</td>\n",
       "      <td>Heikkinen, Miss. Laina</td>\n",
       "      <td>female</td>\n",
       "      <td>26.0</td>\n",
       "      <td>0</td>\n",
       "      <td>0</td>\n",
       "      <td>STON/O2. 3101282</td>\n",
       "      <td>7.9250</td>\n",
       "      <td>NaN</td>\n",
       "      <td>S</td>\n",
       "    </tr>\n",
       "  </tbody>\n",
       "</table>\n",
       "</div>\n",
       "      <button class=\"colab-df-convert\" onclick=\"convertToInteractive('df-d6094cb2-54f2-412b-b6c0-008ebc0fb4b9')\"\n",
       "              title=\"Convert this dataframe to an interactive table.\"\n",
       "              style=\"display:none;\">\n",
       "        \n",
       "  <svg xmlns=\"http://www.w3.org/2000/svg\" height=\"24px\"viewBox=\"0 0 24 24\"\n",
       "       width=\"24px\">\n",
       "    <path d=\"M0 0h24v24H0V0z\" fill=\"none\"/>\n",
       "    <path d=\"M18.56 5.44l.94 2.06.94-2.06 2.06-.94-2.06-.94-.94-2.06-.94 2.06-2.06.94zm-11 1L8.5 8.5l.94-2.06 2.06-.94-2.06-.94L8.5 2.5l-.94 2.06-2.06.94zm10 10l.94 2.06.94-2.06 2.06-.94-2.06-.94-.94-2.06-.94 2.06-2.06.94z\"/><path d=\"M17.41 7.96l-1.37-1.37c-.4-.4-.92-.59-1.43-.59-.52 0-1.04.2-1.43.59L10.3 9.45l-7.72 7.72c-.78.78-.78 2.05 0 2.83L4 21.41c.39.39.9.59 1.41.59.51 0 1.02-.2 1.41-.59l7.78-7.78 2.81-2.81c.8-.78.8-2.07 0-2.86zM5.41 20L4 18.59l7.72-7.72 1.47 1.35L5.41 20z\"/>\n",
       "  </svg>\n",
       "      </button>\n",
       "      \n",
       "  <style>\n",
       "    .colab-df-container {\n",
       "      display:flex;\n",
       "      flex-wrap:wrap;\n",
       "      gap: 12px;\n",
       "    }\n",
       "\n",
       "    .colab-df-convert {\n",
       "      background-color: #E8F0FE;\n",
       "      border: none;\n",
       "      border-radius: 50%;\n",
       "      cursor: pointer;\n",
       "      display: none;\n",
       "      fill: #1967D2;\n",
       "      height: 32px;\n",
       "      padding: 0 0 0 0;\n",
       "      width: 32px;\n",
       "    }\n",
       "\n",
       "    .colab-df-convert:hover {\n",
       "      background-color: #E2EBFA;\n",
       "      box-shadow: 0px 1px 2px rgba(60, 64, 67, 0.3), 0px 1px 3px 1px rgba(60, 64, 67, 0.15);\n",
       "      fill: #174EA6;\n",
       "    }\n",
       "\n",
       "    [theme=dark] .colab-df-convert {\n",
       "      background-color: #3B4455;\n",
       "      fill: #D2E3FC;\n",
       "    }\n",
       "\n",
       "    [theme=dark] .colab-df-convert:hover {\n",
       "      background-color: #434B5C;\n",
       "      box-shadow: 0px 1px 3px 1px rgba(0, 0, 0, 0.15);\n",
       "      filter: drop-shadow(0px 1px 2px rgba(0, 0, 0, 0.3));\n",
       "      fill: #FFFFFF;\n",
       "    }\n",
       "  </style>\n",
       "\n",
       "      <script>\n",
       "        const buttonEl =\n",
       "          document.querySelector('#df-d6094cb2-54f2-412b-b6c0-008ebc0fb4b9 button.colab-df-convert');\n",
       "        buttonEl.style.display =\n",
       "          google.colab.kernel.accessAllowed ? 'block' : 'none';\n",
       "\n",
       "        async function convertToInteractive(key) {\n",
       "          const element = document.querySelector('#df-d6094cb2-54f2-412b-b6c0-008ebc0fb4b9');\n",
       "          const dataTable =\n",
       "            await google.colab.kernel.invokeFunction('convertToInteractive',\n",
       "                                                     [key], {});\n",
       "          if (!dataTable) return;\n",
       "\n",
       "          const docLinkHtml = 'Like what you see? Visit the ' +\n",
       "            '<a target=\"_blank\" href=https://colab.research.google.com/notebooks/data_table.ipynb>data table notebook</a>'\n",
       "            + ' to learn more about interactive tables.';\n",
       "          element.innerHTML = '';\n",
       "          dataTable['output_type'] = 'display_data';\n",
       "          await google.colab.output.renderOutput(dataTable, element);\n",
       "          const docLink = document.createElement('div');\n",
       "          docLink.innerHTML = docLinkHtml;\n",
       "          element.appendChild(docLink);\n",
       "        }\n",
       "      </script>\n",
       "    </div>\n",
       "  </div>\n",
       "  "
      ],
      "text/plain": [
       "   PassengerId  Survived  Pclass  \\\n",
       "0            1         0       3   \n",
       "1            2         1       1   \n",
       "2            3         1       3   \n",
       "\n",
       "                                                Name     Sex   Age  SibSp  \\\n",
       "0                            Braund, Mr. Owen Harris    male  22.0      1   \n",
       "1  Cumings, Mrs. John Bradley (Florence Briggs Th...  female  38.0      1   \n",
       "2                             Heikkinen, Miss. Laina  female  26.0      0   \n",
       "\n",
       "   Parch            Ticket     Fare Cabin Embarked  \n",
       "0      0         A/5 21171   7.2500   NaN        S  \n",
       "1      0          PC 17599  71.2833   C85        C  \n",
       "2      0  STON/O2. 3101282   7.9250   NaN        S  "
      ]
     },
     "execution_count": 17,
     "metadata": {},
     "output_type": "execute_result"
    }
   ],
   "source": [
    "titanic.head(3)"
   ]
  },
  {
   "cell_type": "markdown",
   "metadata": {
    "id": "SxLksqpssnuR"
   },
   "source": [
    "# 0.2 data cleaning and wrangling"
   ]
  },
  {
   "cell_type": "markdown",
   "metadata": {
    "id": "7FvP8SQGsqa6"
   },
   "source": [
    "### turn gender into numeric"
   ]
  },
  {
   "cell_type": "code",
   "execution_count": 18,
   "metadata": {
    "ExecuteTime": {
     "end_time": "2018-11-28T13:09:39.069804Z",
     "start_time": "2018-11-28T13:09:39.012148Z"
    },
    "id": "W28RcjATg12k"
   },
   "outputs": [],
   "source": [
    "titanic[\"gender\"] = titanic.Sex.map({'male':0, 'female':1})"
   ]
  },
  {
   "cell_type": "markdown",
   "metadata": {
    "id": "uRA3-q3DsuOi"
   },
   "source": [
    "### throw away data that you will not use"
   ]
  },
  {
   "cell_type": "code",
   "execution_count": 19,
   "metadata": {
    "ExecuteTime": {
     "end_time": "2018-11-28T13:09:39.330446Z",
     "start_time": "2018-11-28T13:09:39.320109Z"
    },
    "id": "tIFPunfDg12m"
   },
   "outputs": [],
   "source": [
    "titanic_short = titanic.drop([\"PassengerId\",\"Survived\", \"Name\",\"Sex\",\"SibSp\", \"Parch\", \"Ticket\", \"Fare\", \"Cabin\",\"Embarked\"], axis=1)\n"
   ]
  },
  {
   "cell_type": "code",
   "execution_count": 20,
   "metadata": {
    "colab": {
     "base_uri": "https://localhost:8080/",
     "height": 0
    },
    "id": "izlx1Uw3sIw6",
    "outputId": "f871bf43-d7b6-41f2-d257-f1c1ec56385f"
   },
   "outputs": [
    {
     "data": {
      "text/html": [
       "\n",
       "  <div id=\"df-8fb3b99f-29c4-4ab4-ac8f-4d58469b123e\">\n",
       "    <div class=\"colab-df-container\">\n",
       "      <div>\n",
       "<style scoped>\n",
       "    .dataframe tbody tr th:only-of-type {\n",
       "        vertical-align: middle;\n",
       "    }\n",
       "\n",
       "    .dataframe tbody tr th {\n",
       "        vertical-align: top;\n",
       "    }\n",
       "\n",
       "    .dataframe thead th {\n",
       "        text-align: right;\n",
       "    }\n",
       "</style>\n",
       "<table border=\"1\" class=\"dataframe\">\n",
       "  <thead>\n",
       "    <tr style=\"text-align: right;\">\n",
       "      <th></th>\n",
       "      <th>Pclass</th>\n",
       "      <th>Age</th>\n",
       "      <th>gender</th>\n",
       "    </tr>\n",
       "  </thead>\n",
       "  <tbody>\n",
       "    <tr>\n",
       "      <th>0</th>\n",
       "      <td>3</td>\n",
       "      <td>22.0</td>\n",
       "      <td>0</td>\n",
       "    </tr>\n",
       "    <tr>\n",
       "      <th>1</th>\n",
       "      <td>1</td>\n",
       "      <td>38.0</td>\n",
       "      <td>1</td>\n",
       "    </tr>\n",
       "    <tr>\n",
       "      <th>2</th>\n",
       "      <td>3</td>\n",
       "      <td>26.0</td>\n",
       "      <td>1</td>\n",
       "    </tr>\n",
       "    <tr>\n",
       "      <th>3</th>\n",
       "      <td>1</td>\n",
       "      <td>35.0</td>\n",
       "      <td>1</td>\n",
       "    </tr>\n",
       "    <tr>\n",
       "      <th>4</th>\n",
       "      <td>3</td>\n",
       "      <td>35.0</td>\n",
       "      <td>0</td>\n",
       "    </tr>\n",
       "  </tbody>\n",
       "</table>\n",
       "</div>\n",
       "      <button class=\"colab-df-convert\" onclick=\"convertToInteractive('df-8fb3b99f-29c4-4ab4-ac8f-4d58469b123e')\"\n",
       "              title=\"Convert this dataframe to an interactive table.\"\n",
       "              style=\"display:none;\">\n",
       "        \n",
       "  <svg xmlns=\"http://www.w3.org/2000/svg\" height=\"24px\"viewBox=\"0 0 24 24\"\n",
       "       width=\"24px\">\n",
       "    <path d=\"M0 0h24v24H0V0z\" fill=\"none\"/>\n",
       "    <path d=\"M18.56 5.44l.94 2.06.94-2.06 2.06-.94-2.06-.94-.94-2.06-.94 2.06-2.06.94zm-11 1L8.5 8.5l.94-2.06 2.06-.94-2.06-.94L8.5 2.5l-.94 2.06-2.06.94zm10 10l.94 2.06.94-2.06 2.06-.94-2.06-.94-.94-2.06-.94 2.06-2.06.94z\"/><path d=\"M17.41 7.96l-1.37-1.37c-.4-.4-.92-.59-1.43-.59-.52 0-1.04.2-1.43.59L10.3 9.45l-7.72 7.72c-.78.78-.78 2.05 0 2.83L4 21.41c.39.39.9.59 1.41.59.51 0 1.02-.2 1.41-.59l7.78-7.78 2.81-2.81c.8-.78.8-2.07 0-2.86zM5.41 20L4 18.59l7.72-7.72 1.47 1.35L5.41 20z\"/>\n",
       "  </svg>\n",
       "      </button>\n",
       "      \n",
       "  <style>\n",
       "    .colab-df-container {\n",
       "      display:flex;\n",
       "      flex-wrap:wrap;\n",
       "      gap: 12px;\n",
       "    }\n",
       "\n",
       "    .colab-df-convert {\n",
       "      background-color: #E8F0FE;\n",
       "      border: none;\n",
       "      border-radius: 50%;\n",
       "      cursor: pointer;\n",
       "      display: none;\n",
       "      fill: #1967D2;\n",
       "      height: 32px;\n",
       "      padding: 0 0 0 0;\n",
       "      width: 32px;\n",
       "    }\n",
       "\n",
       "    .colab-df-convert:hover {\n",
       "      background-color: #E2EBFA;\n",
       "      box-shadow: 0px 1px 2px rgba(60, 64, 67, 0.3), 0px 1px 3px 1px rgba(60, 64, 67, 0.15);\n",
       "      fill: #174EA6;\n",
       "    }\n",
       "\n",
       "    [theme=dark] .colab-df-convert {\n",
       "      background-color: #3B4455;\n",
       "      fill: #D2E3FC;\n",
       "    }\n",
       "\n",
       "    [theme=dark] .colab-df-convert:hover {\n",
       "      background-color: #434B5C;\n",
       "      box-shadow: 0px 1px 3px 1px rgba(0, 0, 0, 0.15);\n",
       "      filter: drop-shadow(0px 1px 2px rgba(0, 0, 0, 0.3));\n",
       "      fill: #FFFFFF;\n",
       "    }\n",
       "  </style>\n",
       "\n",
       "      <script>\n",
       "        const buttonEl =\n",
       "          document.querySelector('#df-8fb3b99f-29c4-4ab4-ac8f-4d58469b123e button.colab-df-convert');\n",
       "        buttonEl.style.display =\n",
       "          google.colab.kernel.accessAllowed ? 'block' : 'none';\n",
       "\n",
       "        async function convertToInteractive(key) {\n",
       "          const element = document.querySelector('#df-8fb3b99f-29c4-4ab4-ac8f-4d58469b123e');\n",
       "          const dataTable =\n",
       "            await google.colab.kernel.invokeFunction('convertToInteractive',\n",
       "                                                     [key], {});\n",
       "          if (!dataTable) return;\n",
       "\n",
       "          const docLinkHtml = 'Like what you see? Visit the ' +\n",
       "            '<a target=\"_blank\" href=https://colab.research.google.com/notebooks/data_table.ipynb>data table notebook</a>'\n",
       "            + ' to learn more about interactive tables.';\n",
       "          element.innerHTML = '';\n",
       "          dataTable['output_type'] = 'display_data';\n",
       "          await google.colab.output.renderOutput(dataTable, element);\n",
       "          const docLink = document.createElement('div');\n",
       "          docLink.innerHTML = docLinkHtml;\n",
       "          element.appendChild(docLink);\n",
       "        }\n",
       "      </script>\n",
       "    </div>\n",
       "  </div>\n",
       "  "
      ],
      "text/plain": [
       "   Pclass   Age  gender\n",
       "0       3  22.0       0\n",
       "1       1  38.0       1\n",
       "2       3  26.0       1\n",
       "3       1  35.0       1\n",
       "4       3  35.0       0"
      ]
     },
     "execution_count": 20,
     "metadata": {},
     "output_type": "execute_result"
    }
   ],
   "source": [
    "titanic_short.head()"
   ]
  },
  {
   "cell_type": "code",
   "execution_count": 21,
   "metadata": {
    "ExecuteTime": {
     "end_time": "2018-11-28T13:09:39.541028Z",
     "start_time": "2018-11-28T13:09:39.530005Z"
    },
    "colab": {
     "base_uri": "https://localhost:8080/"
    },
    "id": "yEpaxVgCg12o",
    "outputId": "75d74bf6-cae8-491d-cf69-e9cc496890b3"
   },
   "outputs": [
    {
     "data": {
      "text/plain": [
       "array([[ 3., 22.,  0.],\n",
       "       [ 1., 38.,  1.],\n",
       "       [ 3., 26.,  1.],\n",
       "       ...,\n",
       "       [ 1., 19.,  1.],\n",
       "       [ 1., 26.,  0.],\n",
       "       [ 3., 32.,  0.]])"
      ]
     },
     "execution_count": 21,
     "metadata": {},
     "output_type": "execute_result"
    }
   ],
   "source": [
    "titanic_short.values"
   ]
  },
  {
   "cell_type": "markdown",
   "metadata": {
    "id": "aFzbJSrRHU2Z"
   },
   "source": [
    "# IDEALLY GET TO HERE IN CLASS TOGETHER - the rest can just be left in the notebook for the students to inspect. Its the by-hand flow chart I made for the slides"
   ]
  },
  {
   "cell_type": "markdown",
   "metadata": {
    "id": "-AZM8hC8s0WK"
   },
   "source": [
    "# 0.3 test the purity of various splits\n",
    "## first split"
   ]
  },
  {
   "cell_type": "markdown",
   "metadata": {
    "id": "MNAJzyWag12u"
   },
   "source": [
    "### split by gender"
   ]
  },
  {
   "cell_type": "code",
   "execution_count": 22,
   "metadata": {
    "ExecuteTime": {
     "end_time": "2018-11-28T13:09:40.488815Z",
     "start_time": "2018-11-28T13:09:40.475944Z"
    },
    "colab": {
     "base_uri": "https://localhost:8080/"
    },
    "id": "h_BcJqubg12u",
    "outputId": "de90a888-28f4-4198-a916-2c8edad7344b",
    "run_control": {
     "marked": false
    }
   },
   "outputs": [
    {
     "name": "stdout",
     "output_type": "stream",
     "text": [
      "Survived fraction\n",
      " M     F \n",
      " 0.21 0.75\n"
     ]
    }
   ],
   "source": [
    "print (\"Survived fraction\\n M     F \\n {0:.2f} {1:.2f}\".format\n",
    "    (((titanic_short.gender.values == 0) & (titanic.Survived.values == 1)).sum() * 1.0 / \n",
    "       (titanic_short.gender.values == 0).sum(),\n",
    "     ((titanic_short.gender.values == 1) & (titanic.Survived.values == 1)).sum() * 1.0 / \n",
    "       (titanic_short.gender.values == 1).sum()))"
   ]
  },
  {
   "cell_type": "code",
   "execution_count": 23,
   "metadata": {
    "ExecuteTime": {
     "end_time": "2018-11-28T13:09:40.731240Z",
     "start_time": "2018-11-28T13:09:40.724366Z"
    },
    "colab": {
     "base_uri": "https://localhost:8080/"
    },
    "id": "Buxu_UpFg12w",
    "outputId": "80a9b4d8-680d-4b97-bd7d-db605435fa77"
   },
   "outputs": [
    {
     "name": "stdout",
     "output_type": "stream",
     "text": [
      "Died fraction\n",
      " M     F \n",
      " 0.79 0.25\n"
     ]
    }
   ],
   "source": [
    "print (\"Died fraction\\n M     F \\n {0:.2f} {1:.2f}\".format\n",
    "    (((titanic_short.gender.values == 0) & (titanic.Survived.values == 0)).sum() * 1.0 / \n",
    "       (titanic_short.gender.values == 0).sum(),\n",
    "       ((titanic_short.gender.values == 1) & (titanic.Survived.values == 0)).sum() * 1.0 / \n",
    "      (titanic_short.gender.values == 1).sum()))"
   ]
  },
  {
   "cell_type": "markdown",
   "metadata": {
    "id": "knRmb0s1g12y"
   },
   "source": [
    "### split by age (at 6.5)"
   ]
  },
  {
   "cell_type": "code",
   "execution_count": 24,
   "metadata": {
    "ExecuteTime": {
     "end_time": "2018-11-28T13:09:41.365283Z",
     "start_time": "2018-11-28T13:09:41.358825Z"
    },
    "colab": {
     "base_uri": "https://localhost:8080/"
    },
    "id": "qNeFGsuzg12z",
    "outputId": "82b6000a-e8a2-4a7e-8c55-16db418eabd1"
   },
   "outputs": [
    {
     "name": "stdout",
     "output_type": "stream",
     "text": [
      "Survived fraction\n",
      " >6.5  <6.5 \n",
      " 0.39  0.70\n"
     ]
    }
   ],
   "source": [
    "print (\"Survived fraction\\n >6.5  <6.5 \\n {0:.2f}  {1:.2f}\".format\n",
    "      (((titanic_short.Age.values >6.5) & (titanic.Survived.values == 1)).sum() * 1.0 / \n",
    "       (titanic_short.Age.values >6.5).sum(),\n",
    "      ((titanic_short.Age.values <=6.5) & (titanic.Survived.values == 1)).sum() * 1.0 / \n",
    "       (titanic_short.Age.values <=6.5).sum()))"
   ]
  },
  {
   "cell_type": "code",
   "execution_count": 25,
   "metadata": {
    "ExecuteTime": {
     "end_time": "2018-11-28T13:09:41.800766Z",
     "start_time": "2018-11-28T13:09:41.788626Z"
    },
    "colab": {
     "base_uri": "https://localhost:8080/"
    },
    "id": "CZZhLCPSg120",
    "outputId": "c710f5ff-7175-4418-df0f-405807772a89"
   },
   "outputs": [
    {
     "name": "stdout",
     "output_type": "stream",
     "text": [
      "Died fraction\n",
      " >6.5  <6.5 \n",
      " 0.61  0.30\n"
     ]
    }
   ],
   "source": [
    "print (\"Died fraction\\n >6.5  <6.5 \\n {0:.2f}  {1:.2f}\".format\n",
    "      (((titanic_short.Age.values >6.5) & (titanic.Survived.values == 0)).sum() * 1.0 / \n",
    "       (titanic_short.Age.values >6.5).sum(),\n",
    "      ((titanic_short.Age.values <=6.5) & (titanic.Survived.values == 0)).sum() * 1.0 / \n",
    "       (titanic_short.Age.values <=6.5).sum()))"
   ]
  },
  {
   "cell_type": "markdown",
   "metadata": {
    "id": "wSRTJgwmg122"
   },
   "source": [
    "### split by travel class"
   ]
  },
  {
   "cell_type": "code",
   "execution_count": 26,
   "metadata": {
    "ExecuteTime": {
     "end_time": "2018-11-28T13:09:42.656895Z",
     "start_time": "2018-11-28T13:09:42.642363Z"
    },
    "colab": {
     "base_uri": "https://localhost:8080/"
    },
    "id": "Sms6s_E8g123",
    "outputId": "0e7a73be-79b7-4589-bad6-d8c3495e629e"
   },
   "outputs": [
    {
     "name": "stdout",
     "output_type": "stream",
     "text": [
      "Survived fraction\n",
      " 1st   2nd \n",
      " 0.66  0.48\n"
     ]
    }
   ],
   "source": [
    "print (\"Survived fraction\\n 1st   2nd \\n {0:.2f}  {1:.2f}\".format\n",
    "     (((titanic_short.Pclass.values == 1) & (titanic.Survived.values == 1)).sum() * 1.0 / \n",
    "      (titanic_short.Pclass.values == 1).sum(),\n",
    "       ((titanic_short.Pclass.values == 2) & (titanic.Survived.values == 1)).sum() * 1.0 / \n",
    "      (titanic_short.Pclass.values == 2).sum()))"
   ]
  },
  {
   "cell_type": "code",
   "execution_count": 27,
   "metadata": {
    "ExecuteTime": {
     "end_time": "2018-11-28T13:09:43.049658Z",
     "start_time": "2018-11-28T13:09:43.044122Z"
    },
    "colab": {
     "base_uri": "https://localhost:8080/"
    },
    "id": "KS6RfFx_g124",
    "outputId": "2589baea-ae78-44b4-84b4-f065bd1064a8"
   },
   "outputs": [
    {
     "name": "stdout",
     "output_type": "stream",
     "text": [
      "Survived fraction\n",
      " 2nd   3rd \n",
      " 0.48  0.24\n"
     ]
    }
   ],
   "source": [
    "print (\"Survived fraction\\n 2nd   3rd \\n {0:.2f}  {1:.2f}\".format\n",
    "      (((titanic_short.Pclass.values == 2) & (titanic.Survived.values == 1)).sum() * 1.0 / \n",
    "       (titanic_short.Pclass.values == 2).sum(),\n",
    "        ((titanic_short.Pclass.values == 3) & (titanic.Survived.values == 1)).sum() * 1.0 / \n",
    "      (titanic_short.Pclass.values == 3).sum()))"
   ]
  },
  {
   "cell_type": "code",
   "execution_count": 28,
   "metadata": {
    "ExecuteTime": {
     "end_time": "2018-11-28T13:09:43.652574Z",
     "start_time": "2018-11-28T13:09:43.645860Z"
    },
    "colab": {
     "base_uri": "https://localhost:8080/"
    },
    "id": "8unypVofg126",
    "outputId": "c5d093a2-fc3c-46f8-910e-77be55e64054"
   },
   "outputs": [
    {
     "name": "stdout",
     "output_type": "stream",
     "text": [
      "Survived fraction\n",
      " 1st   3rd \n",
      " 0.66  0.24\n"
     ]
    }
   ],
   "source": [
    "print (\"Survived fraction\\n 1st   3rd \\n {0:.2f}  {1:.2f}\".format\n",
    "      (((titanic_short.Pclass.values == 1) & (titanic.Survived.values == 1)).sum() * 1.0 / \n",
    "       (titanic_short.Pclass.values == 1).sum(),\n",
    "        ((titanic_short.Pclass.values == 3) & (titanic.Survived.values == 1)).sum() * 1.0 / \n",
    "      (titanic_short.Pclass.values == 3).sum()))"
   ]
  },
  {
   "cell_type": "code",
   "execution_count": 29,
   "metadata": {
    "ExecuteTime": {
     "end_time": "2018-11-28T13:09:44.245202Z",
     "start_time": "2018-11-28T13:09:44.230460Z"
    },
    "colab": {
     "base_uri": "https://localhost:8080/"
    },
    "id": "CILoiJb9g127",
    "outputId": "e7b810fa-b0ef-4bb3-d5a2-c67b3bb1a09e"
   },
   "outputs": [
    {
     "name": "stdout",
     "output_type": "stream",
     "text": [
      "Survived fraction\n",
      " 1st   2nd or 3rd \n",
      " 0.66  0.47\n"
     ]
    }
   ],
   "source": [
    "print (\"Survived fraction\\n 1st   2nd or 3rd \\n {0:.2f}  {1:.2f}\".format\n",
    "      (((titanic_short.Pclass.values == 1) & (titanic.Survived.values == 1)).sum() * 1.0 / \n",
    "       (titanic_short.Pclass.values == 1).sum(),\n",
    "        (((titanic_short.Pclass.values == 3) | (titanic_short.Pclass.values == 2)) & (titanic.Survived.values == 1)).sum() * 1.0 / \n",
    "      ((titanic_short.Pclass.values == 3) | (titanic_short.Pclass.values == 3)).sum()))"
   ]
  },
  {
   "cell_type": "markdown",
   "metadata": {
    "id": "TJBRNmgjg12-"
   },
   "source": [
    "# The purest split is by gender, so that is chosen as the first node"
   ]
  },
  {
   "cell_type": "markdown",
   "metadata": {
    "id": "1PaE2qUzg12_"
   },
   "source": [
    "# second split"
   ]
  },
  {
   "cell_type": "markdown",
   "metadata": {
    "id": "UHczabkDg12_"
   },
   "source": [
    "### by travel class"
   ]
  },
  {
   "cell_type": "code",
   "execution_count": 30,
   "metadata": {
    "ExecuteTime": {
     "end_time": "2018-11-28T13:09:46.216158Z",
     "start_time": "2018-11-28T13:09:46.207263Z"
    },
    "colab": {
     "base_uri": "https://localhost:8080/"
    },
    "id": "oT5_zuaRg13A",
    "outputId": "fcce30b0-b9ff-44bb-c4ae-dd463bb01511",
    "run_control": {
     "marked": false
    }
   },
   "outputs": [
    {
     "name": "stdout",
     "output_type": "stream",
     "text": [
      "Survived fraction of females: \n",
      " 1st   2nd,3rd\n",
      " 0.96  0.65\n"
     ]
    }
   ],
   "source": [
    "print (\"Survived fraction of females: \\n 1st   2nd,3rd\\n {0:.2f}  {1:.2f}\".format\n",
    "       (((titanic_short.gender.values == 1) & \n",
    "        (titanic_short.Pclass.values == 1) & (titanic.Survived.values == 1)).sum() * 1.0 / \n",
    "       ((titanic_short.gender.values == 1) & (titanic_short.Pclass.values == 1)).sum(),\n",
    "        ((titanic_short.gender.values == 1) & \n",
    "        ~(titanic_short.Pclass.values == 1) & (titanic.Survived.values == 1)).sum() * 1.0 / \n",
    "       ((titanic_short.gender.values == 1) & ~(titanic_short.Pclass.values == 1)).sum()))"
   ]
  },
  {
   "cell_type": "code",
   "execution_count": 31,
   "metadata": {
    "ExecuteTime": {
     "end_time": "2018-11-28T13:09:46.907705Z",
     "start_time": "2018-11-28T13:09:46.893404Z"
    },
    "colab": {
     "base_uri": "https://localhost:8080/"
    },
    "id": "dIWg-4X2g13C",
    "outputId": "46f3d6e6-4c98-4109-c3d5-5ddff44bc3bb"
   },
   "outputs": [
    {
     "name": "stdout",
     "output_type": "stream",
     "text": [
      "Survived fraction of males: \n",
      " 1st   2nd,3rd\n",
      " 0.40  0.15\n"
     ]
    }
   ],
   "source": [
    "print (\"Survived fraction of males: \\n 1st   2nd,3rd\\n {0:.2f}  {1:.2f}\".format\n",
    "        (((titanic_short.gender.values == 0) & \n",
    "        (titanic_short.Pclass.values == 1) & (titanic.Survived.values == 1)).sum() * 1.0 / \n",
    "       ((titanic_short.gender.values == 0) & (titanic_short.Pclass.values == 1)).sum(), \n",
    "        ((titanic_short.gender.values == 0) & \n",
    "        (~(titanic_short.Pclass.values == 1)) & (titanic.Survived.values == 1)).sum() * 1.0 / \n",
    "       ((titanic_short.gender.values == 0) & (~(titanic_short.Pclass.values == 1))).sum() ))"
   ]
  },
  {
   "cell_type": "markdown",
   "metadata": {
    "ExecuteTime": {
     "end_time": "2017-12-12T08:47:52.293498",
     "start_time": "2017-12-12T08:47:52.289236"
    },
    "id": "VYJwqL7Eg13H"
   },
   "source": [
    "### by age"
   ]
  },
  {
   "cell_type": "code",
   "execution_count": 32,
   "metadata": {
    "ExecuteTime": {
     "end_time": "2018-11-28T13:09:48.097535Z",
     "start_time": "2018-11-28T13:09:48.084522Z"
    },
    "colab": {
     "base_uri": "https://localhost:8080/"
    },
    "id": "p51dnJGLg13J",
    "outputId": "94e4e93d-95bd-45b9-9d31-9050bf82e3a5"
   },
   "outputs": [
    {
     "name": "stdout",
     "output_type": "stream",
     "text": [
      "Survived fraction of females: \n",
      " <6.5  >=6.5   \n",
      " 0.74 0.76\n"
     ]
    }
   ],
   "source": [
    "print (\"Survived fraction of females: \\n <6.5  >=6.5   \\n {0:.2f} {1:.2f}\".format\n",
    "        (((titanic_short.gender.values == 1) & \n",
    "        (titanic_short.Age.values < 6.5) & (titanic.Survived.values == 1)).sum() * 1.0 / \n",
    "       ((titanic_short.gender.values == 1) & (titanic_short.Age.values < 6.5)).sum(),\n",
    "      \n",
    "       ((titanic_short.gender.values == 1) & \n",
    "        (titanic_short.Age.values >= 6.5) & (titanic.Survived.values == 1)).sum() * 1.0 / \n",
    "       ((titanic_short.gender.values == 1) & (titanic_short.Age.values >= 6.5)).sum()))"
   ]
  },
  {
   "cell_type": "code",
   "execution_count": 33,
   "metadata": {
    "ExecuteTime": {
     "end_time": "2018-11-28T13:09:48.650616Z",
     "start_time": "2018-11-28T13:09:48.639223Z"
    },
    "colab": {
     "base_uri": "https://localhost:8080/"
    },
    "id": "mW9H41Mqg13K",
    "outputId": "10eca5c8-a55a-42c1-e4f9-70d44c6e2d61"
   },
   "outputs": [
    {
     "name": "stdout",
     "output_type": "stream",
     "text": [
      "Survived fraction of males: \n",
      " <6.5 >=6.5   \n",
      " 0.67  0.18\n"
     ]
    }
   ],
   "source": [
    "print (\"Survived fraction of males: \\n <6.5 >=6.5   \\n {0:.2f}  {1:.2f}\".format\n",
    "     (((titanic_short.gender.values == 0) & \n",
    "        (titanic_short.Age.values < 6.5) & (titanic.Survived.values == 1)).sum() * 1.0 / \n",
    "       ((titanic_short.gender.values == 0) & (titanic_short.Age.values < 6.5)).sum(),\n",
    "     ((titanic_short.gender.values == 0) & \n",
    "        (titanic_short.Age.values >= 6.5) & (titanic.Survived.values == 1)).sum() * 1.0 / \n",
    "       ((titanic_short.gender.values == 0) & (titanic_short.Age.values >= 6.5)).sum()))"
   ]
  },
  {
   "cell_type": "markdown",
   "metadata": {
    "id": "oEWlCoRpg13M"
   },
   "source": [
    "## The purest split is \n",
    "## - for females by travel class\n",
    "## - for males by age"
   ]
  },
  {
   "cell_type": "markdown",
   "metadata": {
    "id": "7S2SN4dSsejR"
   },
   "source": [
    "# 0.4 actually run a tree model\n",
    "\n",
    "Below I run a tree model, a simple Decision tree. Check out the syntax of the call and the hyperparameters. Next you will run tree ensamble models by yourself for the homework, but the syntax is generally the same"
   ]
  },
  {
   "cell_type": "code",
   "execution_count": 34,
   "metadata": {
    "ExecuteTime": {
     "end_time": "2018-11-28T13:09:50.794182Z",
     "start_time": "2018-11-28T13:09:49.925197Z"
    },
    "colab": {
     "base_uri": "https://localhost:8080/"
    },
    "id": "JI9y8ccgg13N",
    "outputId": "48af85b0-372f-48f2-d57f-f48e88165517"
   },
   "outputs": [
    {
     "data": {
      "text/plain": [
       "0.8081232492997199"
      ]
     },
     "execution_count": 34,
     "metadata": {},
     "output_type": "execute_result"
    }
   ],
   "source": [
    "from sklearn import tree\n",
    "clf =  tree.DecisionTreeClassifier(max_depth=3, criterion=\"gini\", \n",
    "                        random_state=222).fit(titanic_short.values, \n",
    "                                              titanic[\"Survived\"])\n",
    "clf.score(titanic_short.values, titanic[\"Survived\"])"
   ]
  },
  {
   "cell_type": "markdown",
   "metadata": {
    "id": "dJ9qzAzNsbcI"
   },
   "source": [
    "# 0.5 create the dendrogram viz"
   ]
  },
  {
   "cell_type": "code",
   "execution_count": 35,
   "metadata": {
    "ExecuteTime": {
     "end_time": "2018-11-28T13:11:47.928354Z",
     "start_time": "2018-11-28T13:11:47.908993Z"
    },
    "id": "OepK1Xoog13P"
   },
   "outputs": [],
   "source": [
    "import graphviz \n",
    "dot_data = tree.export_graphviz(clf, feature_names=titanic_short.columns, \n",
    "                                out_file=None) \n",
    "graph = graphviz.Source(dot_data) "
   ]
  },
  {
   "cell_type": "code",
   "execution_count": 36,
   "metadata": {
    "ExecuteTime": {
     "end_time": "2018-11-28T13:11:50.327060Z",
     "start_time": "2018-11-28T13:11:49.158795Z"
    },
    "colab": {
     "base_uri": "https://localhost:8080/",
     "height": 519
    },
    "id": "y4qLKPb1g13Q",
    "outputId": "332a96dc-a681-4193-8295-2847dafe7d86"
   },
   "outputs": [
    {
     "data": {
      "image/svg+xml": [
       "<?xml version=\"1.0\" encoding=\"UTF-8\" standalone=\"no\"?>\n",
       "<!DOCTYPE svg PUBLIC \"-//W3C//DTD SVG 1.1//EN\"\n",
       " \"http://www.w3.org/Graphics/SVG/1.1/DTD/svg11.dtd\">\n",
       "<!-- Generated by graphviz version 2.40.1 (20161225.0304)\n",
       " -->\n",
       "<!-- Title: Tree Pages: 1 -->\n",
       "<svg width=\"1025pt\" height=\"373pt\"\n",
       " viewBox=\"0.00 0.00 1025.00 373.00\" xmlns=\"http://www.w3.org/2000/svg\" xmlns:xlink=\"http://www.w3.org/1999/xlink\">\n",
       "<g id=\"graph0\" class=\"graph\" transform=\"scale(1 1) rotate(0) translate(4 369)\">\n",
       "<title>Tree</title>\n",
       "<polygon fill=\"#ffffff\" stroke=\"transparent\" points=\"-4,4 -4,-369 1021,-369 1021,4 -4,4\"/>\n",
       "<!-- 0 -->\n",
       "<g id=\"node1\" class=\"node\">\n",
       "<title>0</title>\n",
       "<polygon fill=\"none\" stroke=\"#000000\" points=\"568.5,-365 436.5,-365 436.5,-297 568.5,-297 568.5,-365\"/>\n",
       "<text text-anchor=\"middle\" x=\"502.5\" y=\"-349.8\" font-family=\"Helvetica,sans-Serif\" font-size=\"14.00\" fill=\"#000000\">gender &lt;= 0.5</text>\n",
       "<text text-anchor=\"middle\" x=\"502.5\" y=\"-334.8\" font-family=\"Helvetica,sans-Serif\" font-size=\"14.00\" fill=\"#000000\">gini = 0.482</text>\n",
       "<text text-anchor=\"middle\" x=\"502.5\" y=\"-319.8\" font-family=\"Helvetica,sans-Serif\" font-size=\"14.00\" fill=\"#000000\">samples = 714</text>\n",
       "<text text-anchor=\"middle\" x=\"502.5\" y=\"-304.8\" font-family=\"Helvetica,sans-Serif\" font-size=\"14.00\" fill=\"#000000\">value = [424, 290]</text>\n",
       "</g>\n",
       "<!-- 1 -->\n",
       "<g id=\"node2\" class=\"node\">\n",
       "<title>1</title>\n",
       "<polygon fill=\"none\" stroke=\"#000000\" points=\"433.5,-261 309.5,-261 309.5,-193 433.5,-193 433.5,-261\"/>\n",
       "<text text-anchor=\"middle\" x=\"371.5\" y=\"-245.8\" font-family=\"Helvetica,sans-Serif\" font-size=\"14.00\" fill=\"#000000\">Age &lt;= 6.5</text>\n",
       "<text text-anchor=\"middle\" x=\"371.5\" y=\"-230.8\" font-family=\"Helvetica,sans-Serif\" font-size=\"14.00\" fill=\"#000000\">gini = 0.326</text>\n",
       "<text text-anchor=\"middle\" x=\"371.5\" y=\"-215.8\" font-family=\"Helvetica,sans-Serif\" font-size=\"14.00\" fill=\"#000000\">samples = 453</text>\n",
       "<text text-anchor=\"middle\" x=\"371.5\" y=\"-200.8\" font-family=\"Helvetica,sans-Serif\" font-size=\"14.00\" fill=\"#000000\">value = [360, 93]</text>\n",
       "</g>\n",
       "<!-- 0&#45;&gt;1 -->\n",
       "<g id=\"edge1\" class=\"edge\">\n",
       "<title>0&#45;&gt;1</title>\n",
       "<path fill=\"none\" stroke=\"#000000\" d=\"M459.6057,-296.9465C447.7307,-287.519 434.7259,-277.1946 422.4407,-267.4415\"/>\n",
       "<polygon fill=\"#000000\" stroke=\"#000000\" points=\"424.4989,-264.6066 414.4907,-261.13 420.1464,-270.089 424.4989,-264.6066\"/>\n",
       "<text text-anchor=\"middle\" x=\"417.3442\" y=\"-282.2666\" font-family=\"Helvetica,sans-Serif\" font-size=\"14.00\" fill=\"#000000\">True</text>\n",
       "</g>\n",
       "<!-- 8 -->\n",
       "<g id=\"node9\" class=\"node\">\n",
       "<title>8</title>\n",
       "<polygon fill=\"none\" stroke=\"#000000\" points=\"698.5,-261 574.5,-261 574.5,-193 698.5,-193 698.5,-261\"/>\n",
       "<text text-anchor=\"middle\" x=\"636.5\" y=\"-245.8\" font-family=\"Helvetica,sans-Serif\" font-size=\"14.00\" fill=\"#000000\">Pclass &lt;= 2.5</text>\n",
       "<text text-anchor=\"middle\" x=\"636.5\" y=\"-230.8\" font-family=\"Helvetica,sans-Serif\" font-size=\"14.00\" fill=\"#000000\">gini = 0.37</text>\n",
       "<text text-anchor=\"middle\" x=\"636.5\" y=\"-215.8\" font-family=\"Helvetica,sans-Serif\" font-size=\"14.00\" fill=\"#000000\">samples = 261</text>\n",
       "<text text-anchor=\"middle\" x=\"636.5\" y=\"-200.8\" font-family=\"Helvetica,sans-Serif\" font-size=\"14.00\" fill=\"#000000\">value = [64, 197]</text>\n",
       "</g>\n",
       "<!-- 0&#45;&gt;8 -->\n",
       "<g id=\"edge8\" class=\"edge\">\n",
       "<title>0&#45;&gt;8</title>\n",
       "<path fill=\"none\" stroke=\"#000000\" d=\"M546.3766,-296.9465C558.5235,-287.519 571.8262,-277.1946 584.3927,-267.4415\"/>\n",
       "<polygon fill=\"#000000\" stroke=\"#000000\" points=\"586.7709,-270.0262 592.5248,-261.13 582.479,-264.4963 586.7709,-270.0262\"/>\n",
       "<text text-anchor=\"middle\" x=\"589.3983\" y=\"-282.2337\" font-family=\"Helvetica,sans-Serif\" font-size=\"14.00\" fill=\"#000000\">False</text>\n",
       "</g>\n",
       "<!-- 2 -->\n",
       "<g id=\"node3\" class=\"node\">\n",
       "<title>2</title>\n",
       "<polygon fill=\"none\" stroke=\"#000000\" points=\"231,-157 124,-157 124,-89 231,-89 231,-157\"/>\n",
       "<text text-anchor=\"middle\" x=\"177.5\" y=\"-141.8\" font-family=\"Helvetica,sans-Serif\" font-size=\"14.00\" fill=\"#000000\">Pclass &lt;= 2.5</text>\n",
       "<text text-anchor=\"middle\" x=\"177.5\" y=\"-126.8\" font-family=\"Helvetica,sans-Serif\" font-size=\"14.00\" fill=\"#000000\">gini = 0.444</text>\n",
       "<text text-anchor=\"middle\" x=\"177.5\" y=\"-111.8\" font-family=\"Helvetica,sans-Serif\" font-size=\"14.00\" fill=\"#000000\">samples = 24</text>\n",
       "<text text-anchor=\"middle\" x=\"177.5\" y=\"-96.8\" font-family=\"Helvetica,sans-Serif\" font-size=\"14.00\" fill=\"#000000\">value = [8, 16]</text>\n",
       "</g>\n",
       "<!-- 1&#45;&gt;2 -->\n",
       "<g id=\"edge2\" class=\"edge\">\n",
       "<title>1&#45;&gt;2</title>\n",
       "<path fill=\"none\" stroke=\"#000000\" d=\"M309.3167,-193.6646C287.2051,-181.811 262.3105,-168.4654 240.1593,-156.5905\"/>\n",
       "<polygon fill=\"#000000\" stroke=\"#000000\" points=\"241.6412,-153.4138 231.1741,-151.7737 238.3339,-159.5832 241.6412,-153.4138\"/>\n",
       "</g>\n",
       "<!-- 5 -->\n",
       "<g id=\"node6\" class=\"node\">\n",
       "<title>5</title>\n",
       "<polygon fill=\"none\" stroke=\"#000000\" points=\"433.5,-157 309.5,-157 309.5,-89 433.5,-89 433.5,-157\"/>\n",
       "<text text-anchor=\"middle\" x=\"371.5\" y=\"-141.8\" font-family=\"Helvetica,sans-Serif\" font-size=\"14.00\" fill=\"#000000\">Pclass &lt;= 1.5</text>\n",
       "<text text-anchor=\"middle\" x=\"371.5\" y=\"-126.8\" font-family=\"Helvetica,sans-Serif\" font-size=\"14.00\" fill=\"#000000\">gini = 0.295</text>\n",
       "<text text-anchor=\"middle\" x=\"371.5\" y=\"-111.8\" font-family=\"Helvetica,sans-Serif\" font-size=\"14.00\" fill=\"#000000\">samples = 429</text>\n",
       "<text text-anchor=\"middle\" x=\"371.5\" y=\"-96.8\" font-family=\"Helvetica,sans-Serif\" font-size=\"14.00\" fill=\"#000000\">value = [352, 77]</text>\n",
       "</g>\n",
       "<!-- 1&#45;&gt;5 -->\n",
       "<g id=\"edge5\" class=\"edge\">\n",
       "<title>1&#45;&gt;5</title>\n",
       "<path fill=\"none\" stroke=\"#000000\" d=\"M371.5,-192.9465C371.5,-184.776 371.5,-175.9318 371.5,-167.3697\"/>\n",
       "<polygon fill=\"#000000\" stroke=\"#000000\" points=\"375.0001,-167.13 371.5,-157.13 368.0001,-167.13 375.0001,-167.13\"/>\n",
       "</g>\n",
       "<!-- 3 -->\n",
       "<g id=\"node4\" class=\"node\">\n",
       "<title>3</title>\n",
       "<polygon fill=\"none\" stroke=\"#000000\" points=\"107,-53 0,-53 0,0 107,0 107,-53\"/>\n",
       "<text text-anchor=\"middle\" x=\"53.5\" y=\"-37.8\" font-family=\"Helvetica,sans-Serif\" font-size=\"14.00\" fill=\"#000000\">gini = 0.0</text>\n",
       "<text text-anchor=\"middle\" x=\"53.5\" y=\"-22.8\" font-family=\"Helvetica,sans-Serif\" font-size=\"14.00\" fill=\"#000000\">samples = 10</text>\n",
       "<text text-anchor=\"middle\" x=\"53.5\" y=\"-7.8\" font-family=\"Helvetica,sans-Serif\" font-size=\"14.00\" fill=\"#000000\">value = [0, 10]</text>\n",
       "</g>\n",
       "<!-- 2&#45;&gt;3 -->\n",
       "<g id=\"edge3\" class=\"edge\">\n",
       "<title>2&#45;&gt;3</title>\n",
       "<path fill=\"none\" stroke=\"#000000\" d=\"M133.7822,-88.9777C121.5451,-79.4545 108.2645,-69.1191 96.0934,-59.6473\"/>\n",
       "<polygon fill=\"#000000\" stroke=\"#000000\" points=\"97.9125,-56.628 87.8711,-53.2485 93.6134,-62.1523 97.9125,-56.628\"/>\n",
       "</g>\n",
       "<!-- 4 -->\n",
       "<g id=\"node5\" class=\"node\">\n",
       "<title>4</title>\n",
       "<polygon fill=\"none\" stroke=\"#000000\" points=\"229.5,-53 125.5,-53 125.5,0 229.5,0 229.5,-53\"/>\n",
       "<text text-anchor=\"middle\" x=\"177.5\" y=\"-37.8\" font-family=\"Helvetica,sans-Serif\" font-size=\"14.00\" fill=\"#000000\">gini = 0.49</text>\n",
       "<text text-anchor=\"middle\" x=\"177.5\" y=\"-22.8\" font-family=\"Helvetica,sans-Serif\" font-size=\"14.00\" fill=\"#000000\">samples = 14</text>\n",
       "<text text-anchor=\"middle\" x=\"177.5\" y=\"-7.8\" font-family=\"Helvetica,sans-Serif\" font-size=\"14.00\" fill=\"#000000\">value = [8, 6]</text>\n",
       "</g>\n",
       "<!-- 2&#45;&gt;4 -->\n",
       "<g id=\"edge4\" class=\"edge\">\n",
       "<title>2&#45;&gt;4</title>\n",
       "<path fill=\"none\" stroke=\"#000000\" d=\"M177.5,-88.9777C177.5,-80.7364 177.5,-71.887 177.5,-63.5153\"/>\n",
       "<polygon fill=\"#000000\" stroke=\"#000000\" points=\"181.0001,-63.2484 177.5,-53.2485 174.0001,-63.2485 181.0001,-63.2484\"/>\n",
       "</g>\n",
       "<!-- 6 -->\n",
       "<g id=\"node7\" class=\"node\">\n",
       "<title>6</title>\n",
       "<polygon fill=\"none\" stroke=\"#000000\" points=\"363.5,-53 247.5,-53 247.5,0 363.5,0 363.5,-53\"/>\n",
       "<text text-anchor=\"middle\" x=\"305.5\" y=\"-37.8\" font-family=\"Helvetica,sans-Serif\" font-size=\"14.00\" fill=\"#000000\">gini = 0.473</text>\n",
       "<text text-anchor=\"middle\" x=\"305.5\" y=\"-22.8\" font-family=\"Helvetica,sans-Serif\" font-size=\"14.00\" fill=\"#000000\">samples = 99</text>\n",
       "<text text-anchor=\"middle\" x=\"305.5\" y=\"-7.8\" font-family=\"Helvetica,sans-Serif\" font-size=\"14.00\" fill=\"#000000\">value = [61, 38]</text>\n",
       "</g>\n",
       "<!-- 5&#45;&gt;6 -->\n",
       "<g id=\"edge6\" class=\"edge\">\n",
       "<title>5&#45;&gt;6</title>\n",
       "<path fill=\"none\" stroke=\"#000000\" d=\"M348.2309,-88.9777C342.156,-80.0954 335.5979,-70.5067 329.4865,-61.5711\"/>\n",
       "<polygon fill=\"#000000\" stroke=\"#000000\" points=\"332.3286,-59.5267 323.7943,-53.2485 326.5507,-63.4785 332.3286,-59.5267\"/>\n",
       "</g>\n",
       "<!-- 7 -->\n",
       "<g id=\"node8\" class=\"node\">\n",
       "<title>7</title>\n",
       "<polygon fill=\"none\" stroke=\"#000000\" points=\"505.5,-53 381.5,-53 381.5,0 505.5,0 505.5,-53\"/>\n",
       "<text text-anchor=\"middle\" x=\"443.5\" y=\"-37.8\" font-family=\"Helvetica,sans-Serif\" font-size=\"14.00\" fill=\"#000000\">gini = 0.208</text>\n",
       "<text text-anchor=\"middle\" x=\"443.5\" y=\"-22.8\" font-family=\"Helvetica,sans-Serif\" font-size=\"14.00\" fill=\"#000000\">samples = 330</text>\n",
       "<text text-anchor=\"middle\" x=\"443.5\" y=\"-7.8\" font-family=\"Helvetica,sans-Serif\" font-size=\"14.00\" fill=\"#000000\">value = [291, 39]</text>\n",
       "</g>\n",
       "<!-- 5&#45;&gt;7 -->\n",
       "<g id=\"edge7\" class=\"edge\">\n",
       "<title>5&#45;&gt;7</title>\n",
       "<path fill=\"none\" stroke=\"#000000\" d=\"M396.8845,-88.9777C403.58,-80.0039 410.8135,-70.3089 417.539,-61.295\"/>\n",
       "<polygon fill=\"#000000\" stroke=\"#000000\" points=\"420.3677,-63.3565 423.5426,-53.2485 414.7573,-59.1704 420.3677,-63.3565\"/>\n",
       "</g>\n",
       "<!-- 9 -->\n",
       "<g id=\"node10\" class=\"node\">\n",
       "<title>9</title>\n",
       "<polygon fill=\"none\" stroke=\"#000000\" points=\"694.5,-157 578.5,-157 578.5,-89 694.5,-89 694.5,-157\"/>\n",
       "<text text-anchor=\"middle\" x=\"636.5\" y=\"-141.8\" font-family=\"Helvetica,sans-Serif\" font-size=\"14.00\" fill=\"#000000\">Age &lt;= 2.5</text>\n",
       "<text text-anchor=\"middle\" x=\"636.5\" y=\"-126.8\" font-family=\"Helvetica,sans-Serif\" font-size=\"14.00\" fill=\"#000000\">gini = 0.107</text>\n",
       "<text text-anchor=\"middle\" x=\"636.5\" y=\"-111.8\" font-family=\"Helvetica,sans-Serif\" font-size=\"14.00\" fill=\"#000000\">samples = 159</text>\n",
       "<text text-anchor=\"middle\" x=\"636.5\" y=\"-96.8\" font-family=\"Helvetica,sans-Serif\" font-size=\"14.00\" fill=\"#000000\">value = [9, 150]</text>\n",
       "</g>\n",
       "<!-- 8&#45;&gt;9 -->\n",
       "<g id=\"edge9\" class=\"edge\">\n",
       "<title>8&#45;&gt;9</title>\n",
       "<path fill=\"none\" stroke=\"#000000\" d=\"M636.5,-192.9465C636.5,-184.776 636.5,-175.9318 636.5,-167.3697\"/>\n",
       "<polygon fill=\"#000000\" stroke=\"#000000\" points=\"640.0001,-167.13 636.5,-157.13 633.0001,-167.13 640.0001,-167.13\"/>\n",
       "</g>\n",
       "<!-- 12 -->\n",
       "<g id=\"node13\" class=\"node\">\n",
       "<title>12</title>\n",
       "<polygon fill=\"none\" stroke=\"#000000\" points=\"891.5,-157 775.5,-157 775.5,-89 891.5,-89 891.5,-157\"/>\n",
       "<text text-anchor=\"middle\" x=\"833.5\" y=\"-141.8\" font-family=\"Helvetica,sans-Serif\" font-size=\"14.00\" fill=\"#000000\">Age &lt;= 38.5</text>\n",
       "<text text-anchor=\"middle\" x=\"833.5\" y=\"-126.8\" font-family=\"Helvetica,sans-Serif\" font-size=\"14.00\" fill=\"#000000\">gini = 0.497</text>\n",
       "<text text-anchor=\"middle\" x=\"833.5\" y=\"-111.8\" font-family=\"Helvetica,sans-Serif\" font-size=\"14.00\" fill=\"#000000\">samples = 102</text>\n",
       "<text text-anchor=\"middle\" x=\"833.5\" y=\"-96.8\" font-family=\"Helvetica,sans-Serif\" font-size=\"14.00\" fill=\"#000000\">value = [55, 47]</text>\n",
       "</g>\n",
       "<!-- 8&#45;&gt;12 -->\n",
       "<g id=\"edge12\" class=\"edge\">\n",
       "<title>8&#45;&gt;12</title>\n",
       "<path fill=\"none\" stroke=\"#000000\" d=\"M698.5616,-194.2365C720.1709,-182.8286 744.5039,-169.9827 766.4958,-158.3728\"/>\n",
       "<polygon fill=\"#000000\" stroke=\"#000000\" points=\"768.23,-161.4151 775.4393,-153.6513 764.9619,-155.2248 768.23,-161.4151\"/>\n",
       "</g>\n",
       "<!-- 10 -->\n",
       "<g id=\"node11\" class=\"node\">\n",
       "<title>10</title>\n",
       "<polygon fill=\"none\" stroke=\"#000000\" points=\"623,-53 524,-53 524,0 623,0 623,-53\"/>\n",
       "<text text-anchor=\"middle\" x=\"573.5\" y=\"-37.8\" font-family=\"Helvetica,sans-Serif\" font-size=\"14.00\" fill=\"#000000\">gini = 0.5</text>\n",
       "<text text-anchor=\"middle\" x=\"573.5\" y=\"-22.8\" font-family=\"Helvetica,sans-Serif\" font-size=\"14.00\" fill=\"#000000\">samples = 2</text>\n",
       "<text text-anchor=\"middle\" x=\"573.5\" y=\"-7.8\" font-family=\"Helvetica,sans-Serif\" font-size=\"14.00\" fill=\"#000000\">value = [1, 1]</text>\n",
       "</g>\n",
       "<!-- 9&#45;&gt;10 -->\n",
       "<g id=\"edge10\" class=\"edge\">\n",
       "<title>9&#45;&gt;10</title>\n",
       "<path fill=\"none\" stroke=\"#000000\" d=\"M614.2886,-88.9777C608.5496,-80.187 602.3588,-70.7044 596.5767,-61.8477\"/>\n",
       "<polygon fill=\"#000000\" stroke=\"#000000\" points=\"599.3602,-59.7087 590.9627,-53.2485 593.4987,-63.5354 599.3602,-59.7087\"/>\n",
       "</g>\n",
       "<!-- 11 -->\n",
       "<g id=\"node12\" class=\"node\">\n",
       "<title>11</title>\n",
       "<polygon fill=\"none\" stroke=\"#000000\" points=\"757.5,-53 641.5,-53 641.5,0 757.5,0 757.5,-53\"/>\n",
       "<text text-anchor=\"middle\" x=\"699.5\" y=\"-37.8\" font-family=\"Helvetica,sans-Serif\" font-size=\"14.00\" fill=\"#000000\">gini = 0.097</text>\n",
       "<text text-anchor=\"middle\" x=\"699.5\" y=\"-22.8\" font-family=\"Helvetica,sans-Serif\" font-size=\"14.00\" fill=\"#000000\">samples = 157</text>\n",
       "<text text-anchor=\"middle\" x=\"699.5\" y=\"-7.8\" font-family=\"Helvetica,sans-Serif\" font-size=\"14.00\" fill=\"#000000\">value = [8, 149]</text>\n",
       "</g>\n",
       "<!-- 9&#45;&gt;11 -->\n",
       "<g id=\"edge11\" class=\"edge\">\n",
       "<title>9&#45;&gt;11</title>\n",
       "<path fill=\"none\" stroke=\"#000000\" d=\"M658.7114,-88.9777C664.4504,-80.187 670.6412,-70.7044 676.4233,-61.8477\"/>\n",
       "<polygon fill=\"#000000\" stroke=\"#000000\" points=\"679.5013,-63.5354 682.0373,-53.2485 673.6398,-59.7087 679.5013,-63.5354\"/>\n",
       "</g>\n",
       "<!-- 13 -->\n",
       "<g id=\"node14\" class=\"node\">\n",
       "<title>13</title>\n",
       "<polygon fill=\"none\" stroke=\"#000000\" points=\"891.5,-53 775.5,-53 775.5,0 891.5,0 891.5,-53\"/>\n",
       "<text text-anchor=\"middle\" x=\"833.5\" y=\"-37.8\" font-family=\"Helvetica,sans-Serif\" font-size=\"14.00\" fill=\"#000000\">gini = 0.5</text>\n",
       "<text text-anchor=\"middle\" x=\"833.5\" y=\"-22.8\" font-family=\"Helvetica,sans-Serif\" font-size=\"14.00\" fill=\"#000000\">samples = 90</text>\n",
       "<text text-anchor=\"middle\" x=\"833.5\" y=\"-7.8\" font-family=\"Helvetica,sans-Serif\" font-size=\"14.00\" fill=\"#000000\">value = [44, 46]</text>\n",
       "</g>\n",
       "<!-- 12&#45;&gt;13 -->\n",
       "<g id=\"edge13\" class=\"edge\">\n",
       "<title>12&#45;&gt;13</title>\n",
       "<path fill=\"none\" stroke=\"#000000\" d=\"M833.5,-88.9777C833.5,-80.7364 833.5,-71.887 833.5,-63.5153\"/>\n",
       "<polygon fill=\"#000000\" stroke=\"#000000\" points=\"837.0001,-63.2484 833.5,-53.2485 830.0001,-63.2485 837.0001,-63.2484\"/>\n",
       "</g>\n",
       "<!-- 14 -->\n",
       "<g id=\"node15\" class=\"node\">\n",
       "<title>14</title>\n",
       "<polygon fill=\"none\" stroke=\"#000000\" points=\"1017,-53 910,-53 910,0 1017,0 1017,-53\"/>\n",
       "<text text-anchor=\"middle\" x=\"963.5\" y=\"-37.8\" font-family=\"Helvetica,sans-Serif\" font-size=\"14.00\" fill=\"#000000\">gini = 0.153</text>\n",
       "<text text-anchor=\"middle\" x=\"963.5\" y=\"-22.8\" font-family=\"Helvetica,sans-Serif\" font-size=\"14.00\" fill=\"#000000\">samples = 12</text>\n",
       "<text text-anchor=\"middle\" x=\"963.5\" y=\"-7.8\" font-family=\"Helvetica,sans-Serif\" font-size=\"14.00\" fill=\"#000000\">value = [11, 1]</text>\n",
       "</g>\n",
       "<!-- 12&#45;&gt;14 -->\n",
       "<g id=\"edge14\" class=\"edge\">\n",
       "<title>12&#45;&gt;14</title>\n",
       "<path fill=\"none\" stroke=\"#000000\" d=\"M879.3331,-88.9777C892.2857,-79.3629 906.3535,-68.9203 919.2133,-59.3743\"/>\n",
       "<polygon fill=\"#000000\" stroke=\"#000000\" points=\"921.5224,-62.0193 927.4658,-53.2485 917.3501,-56.3986 921.5224,-62.0193\"/>\n",
       "</g>\n",
       "</g>\n",
       "</svg>\n"
      ],
      "text/plain": [
       "<graphviz.files.Source at 0x7f6a95e35110>"
      ]
     },
     "execution_count": 36,
     "metadata": {},
     "output_type": "execute_result"
    }
   ],
   "source": [
    "graph"
   ]
  },
  {
   "cell_type": "code",
   "execution_count": 37,
   "metadata": {
    "ExecuteTime": {
     "end_time": "2017-12-12T10:14:58.113961",
     "start_time": "2017-12-12T10:14:57.944488"
    },
    "colab": {
     "base_uri": "https://localhost:8080/",
     "height": 36
    },
    "id": "hBaMY4rag13S",
    "outputId": "374a1a90-8696-4a81-cca2-0472a9d9500a"
   },
   "outputs": [
    {
     "data": {
      "application/vnd.google.colaboratory.intrinsic+json": {
       "type": "string"
      },
      "text/plain": [
       "'TitanicTree.pdf'"
      ]
     },
     "execution_count": 37,
     "metadata": {},
     "output_type": "execute_result"
    }
   ],
   "source": [
    "graph.render(\"TitanicTree\")"
   ]
  },
  {
   "cell_type": "markdown",
   "metadata": {
    "id": "1Akj19Y9HfRu"
   },
   "source": [
    "## THIS IS WHERE THE HOMEWORK YOU DO BY YOURSELF STARTS"
   ]
  },
  {
   "cell_type": "markdown",
   "metadata": {
    "id": "idvKNoCvg13U"
   },
   "source": [
    "# 1 run ensamble method: \n",
    "## changing model to Random Forest"
   ]
  },
  {
   "cell_type": "code",
   "execution_count": 38,
   "metadata": {
    "colab": {
     "base_uri": "https://localhost:8080/",
     "height": 424
    },
    "id": "ivbe8OxCJqlR",
    "outputId": "d58429bf-1120-4be9-ff65-f76a3532d363"
   },
   "outputs": [
    {
     "data": {
      "text/html": [
       "\n",
       "  <div id=\"df-31e93641-e2d9-4531-bf2e-08d7ec076eeb\">\n",
       "    <div class=\"colab-df-container\">\n",
       "      <div>\n",
       "<style scoped>\n",
       "    .dataframe tbody tr th:only-of-type {\n",
       "        vertical-align: middle;\n",
       "    }\n",
       "\n",
       "    .dataframe tbody tr th {\n",
       "        vertical-align: top;\n",
       "    }\n",
       "\n",
       "    .dataframe thead th {\n",
       "        text-align: right;\n",
       "    }\n",
       "</style>\n",
       "<table border=\"1\" class=\"dataframe\">\n",
       "  <thead>\n",
       "    <tr style=\"text-align: right;\">\n",
       "      <th></th>\n",
       "      <th>Pclass</th>\n",
       "      <th>Age</th>\n",
       "      <th>gender</th>\n",
       "    </tr>\n",
       "  </thead>\n",
       "  <tbody>\n",
       "    <tr>\n",
       "      <th>0</th>\n",
       "      <td>3</td>\n",
       "      <td>22.0</td>\n",
       "      <td>0</td>\n",
       "    </tr>\n",
       "    <tr>\n",
       "      <th>1</th>\n",
       "      <td>1</td>\n",
       "      <td>38.0</td>\n",
       "      <td>1</td>\n",
       "    </tr>\n",
       "    <tr>\n",
       "      <th>2</th>\n",
       "      <td>3</td>\n",
       "      <td>26.0</td>\n",
       "      <td>1</td>\n",
       "    </tr>\n",
       "    <tr>\n",
       "      <th>3</th>\n",
       "      <td>1</td>\n",
       "      <td>35.0</td>\n",
       "      <td>1</td>\n",
       "    </tr>\n",
       "    <tr>\n",
       "      <th>4</th>\n",
       "      <td>3</td>\n",
       "      <td>35.0</td>\n",
       "      <td>0</td>\n",
       "    </tr>\n",
       "    <tr>\n",
       "      <th>...</th>\n",
       "      <td>...</td>\n",
       "      <td>...</td>\n",
       "      <td>...</td>\n",
       "    </tr>\n",
       "    <tr>\n",
       "      <th>885</th>\n",
       "      <td>3</td>\n",
       "      <td>39.0</td>\n",
       "      <td>1</td>\n",
       "    </tr>\n",
       "    <tr>\n",
       "      <th>886</th>\n",
       "      <td>2</td>\n",
       "      <td>27.0</td>\n",
       "      <td>0</td>\n",
       "    </tr>\n",
       "    <tr>\n",
       "      <th>887</th>\n",
       "      <td>1</td>\n",
       "      <td>19.0</td>\n",
       "      <td>1</td>\n",
       "    </tr>\n",
       "    <tr>\n",
       "      <th>889</th>\n",
       "      <td>1</td>\n",
       "      <td>26.0</td>\n",
       "      <td>0</td>\n",
       "    </tr>\n",
       "    <tr>\n",
       "      <th>890</th>\n",
       "      <td>3</td>\n",
       "      <td>32.0</td>\n",
       "      <td>0</td>\n",
       "    </tr>\n",
       "  </tbody>\n",
       "</table>\n",
       "<p>714 rows × 3 columns</p>\n",
       "</div>\n",
       "      <button class=\"colab-df-convert\" onclick=\"convertToInteractive('df-31e93641-e2d9-4531-bf2e-08d7ec076eeb')\"\n",
       "              title=\"Convert this dataframe to an interactive table.\"\n",
       "              style=\"display:none;\">\n",
       "        \n",
       "  <svg xmlns=\"http://www.w3.org/2000/svg\" height=\"24px\"viewBox=\"0 0 24 24\"\n",
       "       width=\"24px\">\n",
       "    <path d=\"M0 0h24v24H0V0z\" fill=\"none\"/>\n",
       "    <path d=\"M18.56 5.44l.94 2.06.94-2.06 2.06-.94-2.06-.94-.94-2.06-.94 2.06-2.06.94zm-11 1L8.5 8.5l.94-2.06 2.06-.94-2.06-.94L8.5 2.5l-.94 2.06-2.06.94zm10 10l.94 2.06.94-2.06 2.06-.94-2.06-.94-.94-2.06-.94 2.06-2.06.94z\"/><path d=\"M17.41 7.96l-1.37-1.37c-.4-.4-.92-.59-1.43-.59-.52 0-1.04.2-1.43.59L10.3 9.45l-7.72 7.72c-.78.78-.78 2.05 0 2.83L4 21.41c.39.39.9.59 1.41.59.51 0 1.02-.2 1.41-.59l7.78-7.78 2.81-2.81c.8-.78.8-2.07 0-2.86zM5.41 20L4 18.59l7.72-7.72 1.47 1.35L5.41 20z\"/>\n",
       "  </svg>\n",
       "      </button>\n",
       "      \n",
       "  <style>\n",
       "    .colab-df-container {\n",
       "      display:flex;\n",
       "      flex-wrap:wrap;\n",
       "      gap: 12px;\n",
       "    }\n",
       "\n",
       "    .colab-df-convert {\n",
       "      background-color: #E8F0FE;\n",
       "      border: none;\n",
       "      border-radius: 50%;\n",
       "      cursor: pointer;\n",
       "      display: none;\n",
       "      fill: #1967D2;\n",
       "      height: 32px;\n",
       "      padding: 0 0 0 0;\n",
       "      width: 32px;\n",
       "    }\n",
       "\n",
       "    .colab-df-convert:hover {\n",
       "      background-color: #E2EBFA;\n",
       "      box-shadow: 0px 1px 2px rgba(60, 64, 67, 0.3), 0px 1px 3px 1px rgba(60, 64, 67, 0.15);\n",
       "      fill: #174EA6;\n",
       "    }\n",
       "\n",
       "    [theme=dark] .colab-df-convert {\n",
       "      background-color: #3B4455;\n",
       "      fill: #D2E3FC;\n",
       "    }\n",
       "\n",
       "    [theme=dark] .colab-df-convert:hover {\n",
       "      background-color: #434B5C;\n",
       "      box-shadow: 0px 1px 3px 1px rgba(0, 0, 0, 0.15);\n",
       "      filter: drop-shadow(0px 1px 2px rgba(0, 0, 0, 0.3));\n",
       "      fill: #FFFFFF;\n",
       "    }\n",
       "  </style>\n",
       "\n",
       "      <script>\n",
       "        const buttonEl =\n",
       "          document.querySelector('#df-31e93641-e2d9-4531-bf2e-08d7ec076eeb button.colab-df-convert');\n",
       "        buttonEl.style.display =\n",
       "          google.colab.kernel.accessAllowed ? 'block' : 'none';\n",
       "\n",
       "        async function convertToInteractive(key) {\n",
       "          const element = document.querySelector('#df-31e93641-e2d9-4531-bf2e-08d7ec076eeb');\n",
       "          const dataTable =\n",
       "            await google.colab.kernel.invokeFunction('convertToInteractive',\n",
       "                                                     [key], {});\n",
       "          if (!dataTable) return;\n",
       "\n",
       "          const docLinkHtml = 'Like what you see? Visit the ' +\n",
       "            '<a target=\"_blank\" href=https://colab.research.google.com/notebooks/data_table.ipynb>data table notebook</a>'\n",
       "            + ' to learn more about interactive tables.';\n",
       "          element.innerHTML = '';\n",
       "          dataTable['output_type'] = 'display_data';\n",
       "          await google.colab.output.renderOutput(dataTable, element);\n",
       "          const docLink = document.createElement('div');\n",
       "          docLink.innerHTML = docLinkHtml;\n",
       "          element.appendChild(docLink);\n",
       "        }\n",
       "      </script>\n",
       "    </div>\n",
       "  </div>\n",
       "  "
      ],
      "text/plain": [
       "     Pclass   Age  gender\n",
       "0         3  22.0       0\n",
       "1         1  38.0       1\n",
       "2         3  26.0       1\n",
       "3         1  35.0       1\n",
       "4         3  35.0       0\n",
       "..      ...   ...     ...\n",
       "885       3  39.0       1\n",
       "886       2  27.0       0\n",
       "887       1  19.0       1\n",
       "889       1  26.0       0\n",
       "890       3  32.0       0\n",
       "\n",
       "[714 rows x 3 columns]"
      ]
     },
     "execution_count": 38,
     "metadata": {},
     "output_type": "execute_result"
    }
   ],
   "source": [
    "titanic_short"
   ]
  },
  {
   "cell_type": "code",
   "execution_count": 39,
   "metadata": {
    "colab": {
     "base_uri": "https://localhost:8080/"
    },
    "id": "cbTFDdHeJJEP",
    "outputId": "50515ecd-9d77-49ec-c8d7-ee63fcb0ad3a"
   },
   "outputs": [
    {
     "data": {
      "text/plain": [
       "((535, 3), (179, 3), (535,), (179,))"
      ]
     },
     "execution_count": 39,
     "metadata": {},
     "output_type": "execute_result"
    }
   ],
   "source": [
    "from sklearn.model_selection import train_test_split\n",
    "#your code\n",
    "X_train, X_test, y_train, y_test = train_test_split(titanic_short.values, titanic[\"Survived\"],test_size=0.25, random_state=333)\n",
    "X_train.shape, X_test.shape, y_train.shape, y_test.shape"
   ]
  },
  {
   "cell_type": "markdown",
   "metadata": {
    "id": "GWipFAtyJE7h"
   },
   "source": [
    "# 1. Split the data into a training and a test set"
   ]
  },
  {
   "cell_type": "code",
   "execution_count": 40,
   "metadata": {
    "ExecuteTime": {
     "end_time": "2018-11-28T13:09:16.763505Z",
     "start_time": "2018-11-28T13:09:16.733856Z"
    },
    "colab": {
     "base_uri": "https://localhost:8080/"
    },
    "id": "efrFemIHg13U",
    "outputId": "b9fd246b-09ce-4c24-86c6-99a1bf76c5b9"
   },
   "outputs": [
    {
     "name": "stdout",
     "output_type": "stream",
     "text": [
      "train score 0.90 test score 0.88\n"
     ]
    }
   ],
   "source": [
    "from sklearn import ensemble\n",
    "rf =  ensemble.RandomForestClassifier(max_depth=None, random_state=222)\n",
    "rf.fit(titanic_short.values,titanic[\"Survived\"])\n",
    "\n",
    "print (\"train score %.2f\"%rf.score(X_train, y_train),\n",
    "       \"test score %.2f\"%rf.score(X_test, y_test))"
   ]
  },
  {
   "cell_type": "markdown",
   "metadata": {
    "id": "WXzxUvziH2Jo"
   },
   "source": [
    "## change the hyper parameters and check the train and test score"
   ]
  },
  {
   "cell_type": "markdown",
   "metadata": {
    "id": "44eq5WgPg13V"
   },
   "source": [
    "changing max depth and check the score of the model"
   ]
  },
  {
   "cell_type": "code",
   "execution_count": 41,
   "metadata": {
    "ExecuteTime": {
     "end_time": "2018-11-28T13:09:18.181974Z",
     "start_time": "2018-11-28T13:09:18.155416Z"
    },
    "colab": {
     "base_uri": "https://localhost:8080/"
    },
    "id": "E2ZxOEvPg13W",
    "outputId": "536a78e5-a198-49ca-a704-505a8dde50d0"
   },
   "outputs": [
    {
     "name": "stdout",
     "output_type": "stream",
     "text": [
      "train score 0.83 test score 0.83\n"
     ]
    }
   ],
   "source": [
    "rf =  ensemble.RandomForestClassifier(max_depth=4, random_state=222)\n",
    "rf.fit(titanic_short.values,titanic[\"Survived\"])\n",
    "print (\"train score %.2f\"%rf.score(X_train, y_train),\n",
    "       \"test score %.2f\"%rf.score(X_test, y_test))"
   ]
  },
  {
   "cell_type": "markdown",
   "metadata": {
    "id": "sVl_POUoIzaG"
   },
   "source": [
    "try another max depth and check the score of the model"
   ]
  },
  {
   "cell_type": "code",
   "execution_count": 42,
   "metadata": {
    "ExecuteTime": {
     "end_time": "2018-11-28T13:09:18.413903Z",
     "start_time": "2018-11-28T13:09:18.378558Z"
    },
    "colab": {
     "base_uri": "https://localhost:8080/"
    },
    "id": "7dbi9T2mg13Y",
    "outputId": "d064cccb-c904-45b0-fa55-27cd63d2b390"
   },
   "outputs": [
    {
     "name": "stdout",
     "output_type": "stream",
     "text": [
      "train score 0.82 test score 0.82\n"
     ]
    }
   ],
   "source": [
    "rf =  ensemble.RandomForestClassifier(max_depth=3, criterion = \"gini\", n_estimators =100, \n",
    "                        random_state=222).fit(titanic_short.values, \n",
    "                                              titanic[\"Survived\"])\n",
    "print (\"train score %.2f\"%rf.score(X_train, y_train),\n",
    "       \"test score %.2f\"%rf.score(X_test, y_test))\n",
    "                                      "
   ]
  },
  {
   "cell_type": "markdown",
   "metadata": {
    "id": "qZXqOQtDKVXm"
   },
   "source": [
    "Which model is better? why? what would you report as your model accuracy?\n",
    "\n",
    "_I think a max depth of None is better because it has a higher percentage and the values for training and testing are very close. I would report the training model percentage as the model accuracy._"
   ]
  },
  {
   "cell_type": "markdown",
   "metadata": {},
   "source": [
    "# <mark>WFF</mark> A few issues here. First is that you trained the models on the entire dataset, not just the training set. This will artificially inflate the testing score. Second, we should be reporting the testing score, not the training score, as the model accuracy. The testing score represents the performance of the model on data it hasn't seen before, therefore the testing score is a measure of the generalizability of the model."
   ]
  },
  {
   "cell_type": "markdown",
   "metadata": {
    "id": "0Ae1iLdag13Z"
   },
   "source": [
    "## changing model: do the same with the Gradient Boosted Trees"
   ]
  },
  {
   "cell_type": "code",
   "execution_count": 43,
   "metadata": {
    "ExecuteTime": {
     "end_time": "2018-11-28T13:05:53.724656Z",
     "start_time": "2018-11-28T13:05:53.574109Z"
    },
    "colab": {
     "base_uri": "https://localhost:8080/"
    },
    "id": "An_1eIupg13a",
    "outputId": "fa7e68c4-4b58-4cff-e3c9-e35cbbc4b8b1"
   },
   "outputs": [
    {
     "name": "stdout",
     "output_type": "stream",
     "text": [
      "the score for the gradient boosting classifier is 0.90\n"
     ]
    }
   ],
   "source": [
    "gbt =  ensemble.GradientBoostingClassifier(max_depth=None,random_state=222).fit(titanic_short.values,titanic[\"Survived\"])\n",
    "print(\"the score for the gradient boosting classifier is %.2f\"%gbt.score(titanic_short.values,titanic[\"Survived\"]))"
   ]
  },
  {
   "cell_type": "markdown",
   "metadata": {
    "id": "8PI0S_w_zaYw"
   },
   "source": [
    "# 2 feature importance"
   ]
  },
  {
   "cell_type": "code",
   "execution_count": 44,
   "metadata": {
    "colab": {
     "base_uri": "https://localhost:8080/"
    },
    "id": "pqS-_50xiAml",
    "outputId": "176b2463-3c42-4853-b8d9-3605cc50f050"
   },
   "outputs": [
    {
     "name": "stdout",
     "output_type": "stream",
     "text": [
      "Random Forest feature importance\n",
      "Pclass 0.3 +/- 0.0\n",
      "Age 0.19 +/- 0.0\n",
      "gender 0.51 +/- 0.0\n"
     ]
    }
   ],
   "source": [
    "# calculate the error on the feature importance as the standard deviation of the feature importance for the trees in the forest\n",
    "fistd = np.std([rf.feature_importances_ for tree in rf.estimators_], # in the [] build a \"list comprehension statement\" that results in a list of one feature importance vector for each tree in the forest\n",
    "             axis=0)\n",
    "print(\"Random Forest feature importance\")\n",
    "for f, fi, s in zip (titanic_short.columns, rf.feature_importances_, fistd):\n",
    "  print (f, fi.round(2), \"+/-\", s.round(2))"
   ]
  },
  {
   "cell_type": "markdown",
   "metadata": {},
   "source": [
    "# <mark>WFF</mark> The list comprehesion here is not quite right. It should have been \n",
    "\n",
    "```\n",
    "[tree.feature_importances_ for tree in rf.estimators_]\n",
    "```"
   ]
  },
  {
   "cell_type": "code",
   "execution_count": 45,
   "metadata": {
    "colab": {
     "base_uri": "https://localhost:8080/",
     "height": 281
    },
    "id": "lqquiPpXiKmg",
    "outputId": "31781ed9-ceb4-48bb-b7f7-bd140cd1590b"
   },
   "outputs": [
    {
     "data": {
      "image/png": "[encoded data removed]",
      "text/plain": [
       "<Figure size 432x288 with 1 Axes>"
      ]
     },
     "metadata": {
      "needs_background": "light"
     },
     "output_type": "display_data"
    }
   ],
   "source": [
    "indices = np.argsort(rf.feature_importances_)\n",
    "pl.figure()\n",
    "pl.title(\"Feature importances\")\n",
    "pl.barh(np.arange(rf.feature_importances_.shape[0]), \n",
    "        rf.feature_importances_[indices],\n",
    "       xerr=fistd[indices], align=\"center\")\n",
    "pl.xticks(range(rf.feature_importances_.shape[0]), indices)\n",
    "pl.yticks(range(rf.feature_importances_.shape[0]), \n",
    "          labels=titanic_short.columns[indices])\n",
    "pl.xlim(0, 1)\n",
    "pl.show();"
   ]
  },
  {
   "cell_type": "markdown",
   "metadata": {
    "id": "2gxi0hFw8TdG"
   },
   "source": [
    "This figure shows the feature importances of each column of the shortened titanic surviving members"
   ]
  },
  {
   "cell_type": "markdown",
   "metadata": {},
   "source": [
    "# <mark>WFF</mark> This figure caption is incomplete. We want you to not only explain *what* the figure is, but *why* it is important."
   ]
  },
  {
   "cell_type": "code",
   "execution_count": 45,
   "metadata": {
    "id": "AnuHWm_xs9AX"
   },
   "outputs": [],
   "source": []
  }
 ],
 "metadata": {
  "anaconda-cloud": {},
  "colab": {
   "include_colab_link": true,
   "provenance": []
  },
  "kernelspec": {
   "display_name": "Python 3 (ipykernel)",
   "language": "python",
   "name": "python3"
  },
  "language_info": {
   "codemirror_mode": {
    "name": "ipython",
    "version": 3
   },
   "file_extension": ".py",
   "mimetype": "text/x-python",
   "name": "python",
   "nbconvert_exporter": "python",
   "pygments_lexer": "ipython3",
   "version": "3.10.6"
  },
  "latex_envs": {
   "LaTeX_envs_menu_present": true,
   "autoclose": false,
   "autocomplete": true,
   "bibliofile": "biblio.bib",
   "cite_by": "apalike",
   "current_citInitial": 1,
   "eqLabelWithNumbers": true,
   "eqNumInitial": 1,
   "hotkeys": {
    "equation": "Ctrl-E",
    "itemize": "Ctrl-I"
   },
   "labels_anchors": false,
   "latex_user_defs": false,
   "report_style_numbering": false,
   "user_envs_cfg": false
  },
  "nbTranslate": {
   "displayLangs": [
    "*"
   ],
   "hotkey": "alt-t",
   "langInMainMenu": true,
   "sourceLang": "en",
   "targetLang": "fr",
   "useGoogleTranslate": true
  },
  "toc": {
   "base_numbering": 1,
   "nav_menu": {
    "height": "203px",
    "width": "252px"
   },
   "number_sections": false,
   "sideBar": true,
   "skip_h1_title": false,
   "title_cell": "Table of Contents",
   "title_sidebar": "Contents",
   "toc_cell": false,
   "toc_position": {},
   "toc_section_display": "block",
   "toc_window_display": false
  }
 },
 "nbformat": 4,
 "nbformat_minor": 4
}
