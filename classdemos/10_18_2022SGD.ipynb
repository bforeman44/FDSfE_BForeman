{
  "nbformat": 4,
  "nbformat_minor": 0,
  "metadata": {
    "colab": {
      "provenance": [],
      "authorship_tag": "ABX9TyOMJnR0UIHC2xLbhCbUzmMJ",
      "include_colab_link": true
    },
    "kernelspec": {
      "name": "python3",
      "display_name": "Python 3"
    },
    "language_info": {
      "name": "python"
    }
  },
  "cells": [
    {
      "cell_type": "markdown",
      "metadata": {
        "id": "view-in-github",
        "colab_type": "text"
      },
      "source": [
        "<a href=\"https://colab.research.google.com/github/bforeman44/FDSfE_BForeman/blob/main/classdemos/10_18_2022SGD.ipynb\" target=\"_parent\"><img src=\"https://colab.research.google.com/assets/colab-badge.svg\" alt=\"Open In Colab\"/></a>"
      ]
    },
    {
      "cell_type": "code",
      "source": [
        "a= 0.8468\n",
        "b = 45.5156486"
      ],
      "metadata": {
        "id": "ZU749odHuQDe"
      },
      "execution_count": 3,
      "outputs": []
    },
    {
      "cell_type": "code",
      "execution_count": 1,
      "metadata": {
        "id": "rmSlGHT4jzmv",
        "colab": {
          "base_uri": "https://localhost:8080/"
        },
        "outputId": "4381cfa9-4442-4ae5-c493-07e96b873d25"
      },
      "outputs": [
        {
          "output_type": "stream",
          "name": "stdout",
          "text": [
            "y=ax+b\n"
          ]
        }
      ],
      "source": [
        "print(\"y=ax+b\")"
      ]
    },
    {
      "cell_type": "code",
      "source": [
        "print(\"y = \"+str(a)+\"*x + b\")"
      ],
      "metadata": {
        "colab": {
          "base_uri": "https://localhost:8080/"
        },
        "id": "6P-QKzMeuOCc",
        "outputId": "fb513b48-e292-452f-c454-35c40f719610"
      },
      "execution_count": 4,
      "outputs": [
        {
          "output_type": "stream",
          "name": "stdout",
          "text": [
            "y = 0.8468*x + b\n"
          ]
        }
      ]
    },
    {
      "cell_type": "code",
      "source": [
        "print(\"y = {0}*x + {1}\".format(a,b))"
      ],
      "metadata": {
        "colab": {
          "base_uri": "https://localhost:8080/"
        },
        "id": "jEGOtW4VufED",
        "outputId": "a096e044-8866-4bc8-aab1-166d8c104daa"
      },
      "execution_count": 5,
      "outputs": [
        {
          "output_type": "stream",
          "name": "stdout",
          "text": [
            "y = 0.8468*x + 45.5156486\n"
          ]
        }
      ]
    },
    {
      "cell_type": "code",
      "source": [
        "print(\"y = {0:.3f}*x + {1:.1f}\".format(a,b))"
      ],
      "metadata": {
        "colab": {
          "base_uri": "https://localhost:8080/"
        },
        "id": "DKwSHP5hurqm",
        "outputId": "0e5d93da-be6c-4778-f023-5943fbee4cf3"
      },
      "execution_count": 7,
      "outputs": [
        {
          "output_type": "stream",
          "name": "stdout",
          "text": [
            "y = 0.847*x + 45.5\n"
          ]
        }
      ]
    },
    {
      "cell_type": "code",
      "source": [
        "print(\"this is {0:05d} and its also {0}\".format(42))"
      ],
      "metadata": {
        "colab": {
          "base_uri": "https://localhost:8080/"
        },
        "id": "UV02uGLDu2hQ",
        "outputId": "bd52b016-806b-4b08-ac17-c25a2c6add67"
      },
      "execution_count": 9,
      "outputs": [
        {
          "output_type": "stream",
          "name": "stdout",
          "text": [
            "this is 00042 and its also 42\n"
          ]
        }
      ]
    },
    {
      "cell_type": "markdown",
      "source": [
        "#Gradient Descent"
      ],
      "metadata": {
        "id": "1sEk_afrvbY0"
      }
    },
    {
      "cell_type": "code",
      "source": [
        "import pandas as pd"
      ],
      "metadata": {
        "id": "AwlfiIXfvKHY"
      },
      "execution_count": 10,
      "outputs": []
    },
    {
      "cell_type": "code",
      "source": [
        "wbdat = pd.read_csv('https://github.com/fedhere/FDSfE_FBianco/raw/main/data/wbank_US_leb.csv')"
      ],
      "metadata": {
        "id": "TK5hAIP3vfwp"
      },
      "execution_count": 11,
      "outputs": []
    },
    {
      "cell_type": "code",
      "source": [
        "wbdat"
      ],
      "metadata": {
        "colab": {
          "base_uri": "https://localhost:8080/",
          "height": 1000
        },
        "id": "6dvU9ejrv6lo",
        "outputId": "630dd1bb-4768-4be7-e7de-3be2fadaa86f"
      },
      "execution_count": 12,
      "outputs": [
        {
          "output_type": "execute_result",
          "data": {
            "text/plain": [
              "    year        leb\n",
              "0   1960  69.770732\n",
              "1   1961  70.270732\n",
              "2   1962  70.119512\n",
              "3   1963  69.917073\n",
              "4   1964  70.165854\n",
              "5   1965  70.214634\n",
              "6   1966  70.212195\n",
              "7   1967  70.560976\n",
              "8   1968  69.951220\n",
              "9   1969  70.507317\n",
              "10  1970  70.807317\n",
              "11  1971  71.107317\n",
              "12  1972  71.156098\n",
              "13  1973  71.356098\n",
              "14  1974  71.956098\n",
              "15  1975  72.604878\n",
              "16  1976  72.856098\n",
              "17  1977  73.256098\n",
              "18  1978  73.356098\n",
              "19  1979  73.804878\n",
              "20  1980  73.609756\n",
              "21  1981  74.009756\n",
              "22  1982  74.360976\n",
              "23  1983  74.463415\n",
              "24  1984  74.563415\n",
              "25  1985  74.563415\n",
              "26  1986  74.614634\n",
              "27  1987  74.765854\n",
              "28  1988  74.765854\n",
              "29  1989  75.017073\n",
              "30  1990  75.214634\n",
              "31  1991  75.365854\n",
              "32  1992  75.617073\n",
              "33  1993  75.419512\n",
              "34  1994  75.619512\n",
              "35  1995  75.621951\n",
              "36  1996  76.026829\n",
              "37  1997  76.429268\n",
              "38  1998  76.580488\n",
              "39  1999  76.582927\n",
              "40  2000  76.636585\n",
              "41  2001  76.836585\n",
              "42  2002  76.936585\n",
              "43  2003  77.036585\n",
              "44  2004  77.487805\n",
              "45  2005  77.487805\n",
              "46  2006  77.687805\n",
              "47  2007  77.987805\n",
              "48  2008  78.039024\n",
              "49  2009  78.390244\n",
              "50  2010  78.541463\n",
              "51  2011  78.641463\n",
              "52  2012  78.741463\n",
              "53  2013  78.741463\n",
              "54  2014  78.841463\n",
              "55  2015  78.690244\n",
              "56  2016  78.539024\n",
              "57  2017  78.539024\n",
              "58  2018  78.639024\n",
              "59  2019  78.787805"
            ],
            "text/html": [
              "\n",
              "  <div id=\"df-dc2d17e7-5925-4b57-b5de-935fc8e887cd\">\n",
              "    <div class=\"colab-df-container\">\n",
              "      <div>\n",
              "<style scoped>\n",
              "    .dataframe tbody tr th:only-of-type {\n",
              "        vertical-align: middle;\n",
              "    }\n",
              "\n",
              "    .dataframe tbody tr th {\n",
              "        vertical-align: top;\n",
              "    }\n",
              "\n",
              "    .dataframe thead th {\n",
              "        text-align: right;\n",
              "    }\n",
              "</style>\n",
              "<table border=\"1\" class=\"dataframe\">\n",
              "  <thead>\n",
              "    <tr style=\"text-align: right;\">\n",
              "      <th></th>\n",
              "      <th>year</th>\n",
              "      <th>leb</th>\n",
              "    </tr>\n",
              "  </thead>\n",
              "  <tbody>\n",
              "    <tr>\n",
              "      <th>0</th>\n",
              "      <td>1960</td>\n",
              "      <td>69.770732</td>\n",
              "    </tr>\n",
              "    <tr>\n",
              "      <th>1</th>\n",
              "      <td>1961</td>\n",
              "      <td>70.270732</td>\n",
              "    </tr>\n",
              "    <tr>\n",
              "      <th>2</th>\n",
              "      <td>1962</td>\n",
              "      <td>70.119512</td>\n",
              "    </tr>\n",
              "    <tr>\n",
              "      <th>3</th>\n",
              "      <td>1963</td>\n",
              "      <td>69.917073</td>\n",
              "    </tr>\n",
              "    <tr>\n",
              "      <th>4</th>\n",
              "      <td>1964</td>\n",
              "      <td>70.165854</td>\n",
              "    </tr>\n",
              "    <tr>\n",
              "      <th>5</th>\n",
              "      <td>1965</td>\n",
              "      <td>70.214634</td>\n",
              "    </tr>\n",
              "    <tr>\n",
              "      <th>6</th>\n",
              "      <td>1966</td>\n",
              "      <td>70.212195</td>\n",
              "    </tr>\n",
              "    <tr>\n",
              "      <th>7</th>\n",
              "      <td>1967</td>\n",
              "      <td>70.560976</td>\n",
              "    </tr>\n",
              "    <tr>\n",
              "      <th>8</th>\n",
              "      <td>1968</td>\n",
              "      <td>69.951220</td>\n",
              "    </tr>\n",
              "    <tr>\n",
              "      <th>9</th>\n",
              "      <td>1969</td>\n",
              "      <td>70.507317</td>\n",
              "    </tr>\n",
              "    <tr>\n",
              "      <th>10</th>\n",
              "      <td>1970</td>\n",
              "      <td>70.807317</td>\n",
              "    </tr>\n",
              "    <tr>\n",
              "      <th>11</th>\n",
              "      <td>1971</td>\n",
              "      <td>71.107317</td>\n",
              "    </tr>\n",
              "    <tr>\n",
              "      <th>12</th>\n",
              "      <td>1972</td>\n",
              "      <td>71.156098</td>\n",
              "    </tr>\n",
              "    <tr>\n",
              "      <th>13</th>\n",
              "      <td>1973</td>\n",
              "      <td>71.356098</td>\n",
              "    </tr>\n",
              "    <tr>\n",
              "      <th>14</th>\n",
              "      <td>1974</td>\n",
              "      <td>71.956098</td>\n",
              "    </tr>\n",
              "    <tr>\n",
              "      <th>15</th>\n",
              "      <td>1975</td>\n",
              "      <td>72.604878</td>\n",
              "    </tr>\n",
              "    <tr>\n",
              "      <th>16</th>\n",
              "      <td>1976</td>\n",
              "      <td>72.856098</td>\n",
              "    </tr>\n",
              "    <tr>\n",
              "      <th>17</th>\n",
              "      <td>1977</td>\n",
              "      <td>73.256098</td>\n",
              "    </tr>\n",
              "    <tr>\n",
              "      <th>18</th>\n",
              "      <td>1978</td>\n",
              "      <td>73.356098</td>\n",
              "    </tr>\n",
              "    <tr>\n",
              "      <th>19</th>\n",
              "      <td>1979</td>\n",
              "      <td>73.804878</td>\n",
              "    </tr>\n",
              "    <tr>\n",
              "      <th>20</th>\n",
              "      <td>1980</td>\n",
              "      <td>73.609756</td>\n",
              "    </tr>\n",
              "    <tr>\n",
              "      <th>21</th>\n",
              "      <td>1981</td>\n",
              "      <td>74.009756</td>\n",
              "    </tr>\n",
              "    <tr>\n",
              "      <th>22</th>\n",
              "      <td>1982</td>\n",
              "      <td>74.360976</td>\n",
              "    </tr>\n",
              "    <tr>\n",
              "      <th>23</th>\n",
              "      <td>1983</td>\n",
              "      <td>74.463415</td>\n",
              "    </tr>\n",
              "    <tr>\n",
              "      <th>24</th>\n",
              "      <td>1984</td>\n",
              "      <td>74.563415</td>\n",
              "    </tr>\n",
              "    <tr>\n",
              "      <th>25</th>\n",
              "      <td>1985</td>\n",
              "      <td>74.563415</td>\n",
              "    </tr>\n",
              "    <tr>\n",
              "      <th>26</th>\n",
              "      <td>1986</td>\n",
              "      <td>74.614634</td>\n",
              "    </tr>\n",
              "    <tr>\n",
              "      <th>27</th>\n",
              "      <td>1987</td>\n",
              "      <td>74.765854</td>\n",
              "    </tr>\n",
              "    <tr>\n",
              "      <th>28</th>\n",
              "      <td>1988</td>\n",
              "      <td>74.765854</td>\n",
              "    </tr>\n",
              "    <tr>\n",
              "      <th>29</th>\n",
              "      <td>1989</td>\n",
              "      <td>75.017073</td>\n",
              "    </tr>\n",
              "    <tr>\n",
              "      <th>30</th>\n",
              "      <td>1990</td>\n",
              "      <td>75.214634</td>\n",
              "    </tr>\n",
              "    <tr>\n",
              "      <th>31</th>\n",
              "      <td>1991</td>\n",
              "      <td>75.365854</td>\n",
              "    </tr>\n",
              "    <tr>\n",
              "      <th>32</th>\n",
              "      <td>1992</td>\n",
              "      <td>75.617073</td>\n",
              "    </tr>\n",
              "    <tr>\n",
              "      <th>33</th>\n",
              "      <td>1993</td>\n",
              "      <td>75.419512</td>\n",
              "    </tr>\n",
              "    <tr>\n",
              "      <th>34</th>\n",
              "      <td>1994</td>\n",
              "      <td>75.619512</td>\n",
              "    </tr>\n",
              "    <tr>\n",
              "      <th>35</th>\n",
              "      <td>1995</td>\n",
              "      <td>75.621951</td>\n",
              "    </tr>\n",
              "    <tr>\n",
              "      <th>36</th>\n",
              "      <td>1996</td>\n",
              "      <td>76.026829</td>\n",
              "    </tr>\n",
              "    <tr>\n",
              "      <th>37</th>\n",
              "      <td>1997</td>\n",
              "      <td>76.429268</td>\n",
              "    </tr>\n",
              "    <tr>\n",
              "      <th>38</th>\n",
              "      <td>1998</td>\n",
              "      <td>76.580488</td>\n",
              "    </tr>\n",
              "    <tr>\n",
              "      <th>39</th>\n",
              "      <td>1999</td>\n",
              "      <td>76.582927</td>\n",
              "    </tr>\n",
              "    <tr>\n",
              "      <th>40</th>\n",
              "      <td>2000</td>\n",
              "      <td>76.636585</td>\n",
              "    </tr>\n",
              "    <tr>\n",
              "      <th>41</th>\n",
              "      <td>2001</td>\n",
              "      <td>76.836585</td>\n",
              "    </tr>\n",
              "    <tr>\n",
              "      <th>42</th>\n",
              "      <td>2002</td>\n",
              "      <td>76.936585</td>\n",
              "    </tr>\n",
              "    <tr>\n",
              "      <th>43</th>\n",
              "      <td>2003</td>\n",
              "      <td>77.036585</td>\n",
              "    </tr>\n",
              "    <tr>\n",
              "      <th>44</th>\n",
              "      <td>2004</td>\n",
              "      <td>77.487805</td>\n",
              "    </tr>\n",
              "    <tr>\n",
              "      <th>45</th>\n",
              "      <td>2005</td>\n",
              "      <td>77.487805</td>\n",
              "    </tr>\n",
              "    <tr>\n",
              "      <th>46</th>\n",
              "      <td>2006</td>\n",
              "      <td>77.687805</td>\n",
              "    </tr>\n",
              "    <tr>\n",
              "      <th>47</th>\n",
              "      <td>2007</td>\n",
              "      <td>77.987805</td>\n",
              "    </tr>\n",
              "    <tr>\n",
              "      <th>48</th>\n",
              "      <td>2008</td>\n",
              "      <td>78.039024</td>\n",
              "    </tr>\n",
              "    <tr>\n",
              "      <th>49</th>\n",
              "      <td>2009</td>\n",
              "      <td>78.390244</td>\n",
              "    </tr>\n",
              "    <tr>\n",
              "      <th>50</th>\n",
              "      <td>2010</td>\n",
              "      <td>78.541463</td>\n",
              "    </tr>\n",
              "    <tr>\n",
              "      <th>51</th>\n",
              "      <td>2011</td>\n",
              "      <td>78.641463</td>\n",
              "    </tr>\n",
              "    <tr>\n",
              "      <th>52</th>\n",
              "      <td>2012</td>\n",
              "      <td>78.741463</td>\n",
              "    </tr>\n",
              "    <tr>\n",
              "      <th>53</th>\n",
              "      <td>2013</td>\n",
              "      <td>78.741463</td>\n",
              "    </tr>\n",
              "    <tr>\n",
              "      <th>54</th>\n",
              "      <td>2014</td>\n",
              "      <td>78.841463</td>\n",
              "    </tr>\n",
              "    <tr>\n",
              "      <th>55</th>\n",
              "      <td>2015</td>\n",
              "      <td>78.690244</td>\n",
              "    </tr>\n",
              "    <tr>\n",
              "      <th>56</th>\n",
              "      <td>2016</td>\n",
              "      <td>78.539024</td>\n",
              "    </tr>\n",
              "    <tr>\n",
              "      <th>57</th>\n",
              "      <td>2017</td>\n",
              "      <td>78.539024</td>\n",
              "    </tr>\n",
              "    <tr>\n",
              "      <th>58</th>\n",
              "      <td>2018</td>\n",
              "      <td>78.639024</td>\n",
              "    </tr>\n",
              "    <tr>\n",
              "      <th>59</th>\n",
              "      <td>2019</td>\n",
              "      <td>78.787805</td>\n",
              "    </tr>\n",
              "  </tbody>\n",
              "</table>\n",
              "</div>\n",
              "      <button class=\"colab-df-convert\" onclick=\"convertToInteractive('df-dc2d17e7-5925-4b57-b5de-935fc8e887cd')\"\n",
              "              title=\"Convert this dataframe to an interactive table.\"\n",
              "              style=\"display:none;\">\n",
              "        \n",
              "  <svg xmlns=\"http://www.w3.org/2000/svg\" height=\"24px\"viewBox=\"0 0 24 24\"\n",
              "       width=\"24px\">\n",
              "    <path d=\"M0 0h24v24H0V0z\" fill=\"none\"/>\n",
              "    <path d=\"M18.56 5.44l.94 2.06.94-2.06 2.06-.94-2.06-.94-.94-2.06-.94 2.06-2.06.94zm-11 1L8.5 8.5l.94-2.06 2.06-.94-2.06-.94L8.5 2.5l-.94 2.06-2.06.94zm10 10l.94 2.06.94-2.06 2.06-.94-2.06-.94-.94-2.06-.94 2.06-2.06.94z\"/><path d=\"M17.41 7.96l-1.37-1.37c-.4-.4-.92-.59-1.43-.59-.52 0-1.04.2-1.43.59L10.3 9.45l-7.72 7.72c-.78.78-.78 2.05 0 2.83L4 21.41c.39.39.9.59 1.41.59.51 0 1.02-.2 1.41-.59l7.78-7.78 2.81-2.81c.8-.78.8-2.07 0-2.86zM5.41 20L4 18.59l7.72-7.72 1.47 1.35L5.41 20z\"/>\n",
              "  </svg>\n",
              "      </button>\n",
              "      \n",
              "  <style>\n",
              "    .colab-df-container {\n",
              "      display:flex;\n",
              "      flex-wrap:wrap;\n",
              "      gap: 12px;\n",
              "    }\n",
              "\n",
              "    .colab-df-convert {\n",
              "      background-color: #E8F0FE;\n",
              "      border: none;\n",
              "      border-radius: 50%;\n",
              "      cursor: pointer;\n",
              "      display: none;\n",
              "      fill: #1967D2;\n",
              "      height: 32px;\n",
              "      padding: 0 0 0 0;\n",
              "      width: 32px;\n",
              "    }\n",
              "\n",
              "    .colab-df-convert:hover {\n",
              "      background-color: #E2EBFA;\n",
              "      box-shadow: 0px 1px 2px rgba(60, 64, 67, 0.3), 0px 1px 3px 1px rgba(60, 64, 67, 0.15);\n",
              "      fill: #174EA6;\n",
              "    }\n",
              "\n",
              "    [theme=dark] .colab-df-convert {\n",
              "      background-color: #3B4455;\n",
              "      fill: #D2E3FC;\n",
              "    }\n",
              "\n",
              "    [theme=dark] .colab-df-convert:hover {\n",
              "      background-color: #434B5C;\n",
              "      box-shadow: 0px 1px 3px 1px rgba(0, 0, 0, 0.15);\n",
              "      filter: drop-shadow(0px 1px 2px rgba(0, 0, 0, 0.3));\n",
              "      fill: #FFFFFF;\n",
              "    }\n",
              "  </style>\n",
              "\n",
              "      <script>\n",
              "        const buttonEl =\n",
              "          document.querySelector('#df-dc2d17e7-5925-4b57-b5de-935fc8e887cd button.colab-df-convert');\n",
              "        buttonEl.style.display =\n",
              "          google.colab.kernel.accessAllowed ? 'block' : 'none';\n",
              "\n",
              "        async function convertToInteractive(key) {\n",
              "          const element = document.querySelector('#df-dc2d17e7-5925-4b57-b5de-935fc8e887cd');\n",
              "          const dataTable =\n",
              "            await google.colab.kernel.invokeFunction('convertToInteractive',\n",
              "                                                     [key], {});\n",
              "          if (!dataTable) return;\n",
              "\n",
              "          const docLinkHtml = 'Like what you see? Visit the ' +\n",
              "            '<a target=\"_blank\" href=https://colab.research.google.com/notebooks/data_table.ipynb>data table notebook</a>'\n",
              "            + ' to learn more about interactive tables.';\n",
              "          element.innerHTML = '';\n",
              "          dataTable['output_type'] = 'display_data';\n",
              "          await google.colab.output.renderOutput(dataTable, element);\n",
              "          const docLink = document.createElement('div');\n",
              "          docLink.innerHTML = docLinkHtml;\n",
              "          element.appendChild(docLink);\n",
              "        }\n",
              "      </script>\n",
              "    </div>\n",
              "  </div>\n",
              "  "
            ]
          },
          "metadata": {},
          "execution_count": 12
        }
      ]
    },
    {
      "cell_type": "code",
      "source": [
        "wbdat.info()"
      ],
      "metadata": {
        "colab": {
          "base_uri": "https://localhost:8080/"
        },
        "id": "23GKfDsRv8g5",
        "outputId": "fab2a623-7a1f-4e19-8684-30c2b07b0402"
      },
      "execution_count": 13,
      "outputs": [
        {
          "output_type": "stream",
          "name": "stdout",
          "text": [
            "<class 'pandas.core.frame.DataFrame'>\n",
            "RangeIndex: 60 entries, 0 to 59\n",
            "Data columns (total 2 columns):\n",
            " #   Column  Non-Null Count  Dtype  \n",
            "---  ------  --------------  -----  \n",
            " 0   year    60 non-null     int64  \n",
            " 1   leb     60 non-null     float64\n",
            "dtypes: float64(1), int64(1)\n",
            "memory usage: 1.1 KB\n"
          ]
        }
      ]
    },
    {
      "cell_type": "code",
      "source": [
        "import pylab as plt\n",
        "wbdat.plot('year','leb')\n",
        "plt.ylabel(\"life expectancy\")"
      ],
      "metadata": {
        "colab": {
          "base_uri": "https://localhost:8080/",
          "height": 296
        },
        "id": "K8Sj5Pwqv-Zk",
        "outputId": "8de2be87-6300-4118-9a2e-8e8703ef2a4c"
      },
      "execution_count": 16,
      "outputs": [
        {
          "output_type": "execute_result",
          "data": {
            "text/plain": [
              "Text(0, 0.5, 'life expectancy')"
            ]
          },
          "metadata": {},
          "execution_count": 16
        },
        {
          "output_type": "display_data",
          "data": {
            "text/plain": [
              "<Figure size 432x288 with 1 Axes>"
            ],
            "image/png": "[encoded data removed]"
          },
          "metadata": {
            "needs_background": "light"
          }
        }
      ]
    },
    {
      "cell_type": "markdown",
      "source": [
        "#Fit a line using a gradient descent\n"
      ],
      "metadata": {
        "id": "vvlzNGPDwtv9"
      }
    },
    {
      "cell_type": "code",
      "source": [
        "def sumsqerr(Y_obs,Y_pred):\n",
        "  return((Y_obs - Y_pred)**2).sum()"
      ],
      "metadata": {
        "id": "hBLz-jNUwGzd"
      },
      "execution_count": 17,
      "outputs": []
    },
    {
      "cell_type": "code",
      "source": [
        "# -- extract the X and Y variables into separate arrays\n",
        "X = wbdat['year'].values\n",
        "Y = wbdat['leb'].values\n",
        "\n",
        "# -- set the initial values for slope and intercept\n",
        "slope = [0.1]\n",
        "intercept = [-250]\n",
        "\n",
        "# -- set the learning rate (step size)\n",
        "Lrate = 1e-9\n",
        "\n",
        "# -- set the number of iterations to perform gradient descent\n",
        "epochs = 20\n",
        "\n",
        "# -- create a list to use for saving SSE values\n",
        "Y_pred = slope[-1] * X + intercept[-1]\n",
        "sse = [sumsqerr(Y, Y_pred)]\n",
        "\n",
        "# -- perform Gradient Descent\n",
        "for i in range(epochs):\n",
        "  # -- calculate the gradients for slope and intercept\n",
        "  D_m = -2 * sum(X * (Y - Y_pred))  # Derivative wrt slope\n",
        "  D_c = -2 * sum(Y - Y_pred)  # Derivative wrt intercept\n",
        "\n",
        "  # -- calculate and update the new slope and intercept\n",
        "  slope.append(slope[-1] - Lrate * D_m)\n",
        "  intercept.append(intercept[-1] - Lrate * D_c)\n",
        "\n",
        "  # -- calculate the new predicted value of Y\n",
        "  Y_pred = slope[-1] * X + intercept[-1]\n",
        "  \n",
        "  # -- calculate and add the new SSE to list\n",
        "  sse.append(sumsqerr(Y, Y_pred))"
      ],
      "metadata": {
        "id": "tVbJOmG8w_Zo"
      },
      "execution_count": 22,
      "outputs": []
    },
    {
      "cell_type": "code",
      "source": [
        "print(\"The final model for predicting life expectancy is : leb = {0:.3f}*year +{1:.1f}\".format(slope[-1],intercept[-1]))"
      ],
      "metadata": {
        "colab": {
          "base_uri": "https://localhost:8080/"
        },
        "id": "RBses_zkxTc-",
        "outputId": "5212f757-e5f1-4378-aa79-e2e1cb157b5b"
      },
      "execution_count": 23,
      "outputs": [
        {
          "output_type": "stream",
          "name": "stdout",
          "text": [
            "The final model for predicting life expectancy is : leb = 0.163*year +-250.0\n"
          ]
        }
      ]
    },
    {
      "cell_type": "code",
      "source": [
        "import numpy as np"
      ],
      "metadata": {
        "id": "qmNzJCR-z_7U"
      },
      "execution_count": 24,
      "outputs": []
    },
    {
      "cell_type": "code",
      "source": [
        "ax = wbdat.plot(\"year\",\"leb\")\n",
        "x = np.arange(1960, 2020,1)\n",
        "y = slope[-1]*x + intercept[-1]\n",
        "ax.plot(x,y, label = \"model\")\n",
        "ax.legend();"
      ],
      "metadata": {
        "colab": {
          "base_uri": "https://localhost:8080/",
          "height": 281
        },
        "id": "O3V3zjyBzzjx",
        "outputId": "81c4b9ce-84b5-41b2-e1a7-3695c88bb7ee"
      },
      "execution_count": 25,
      "outputs": [
        {
          "output_type": "display_data",
          "data": {
            "text/plain": [
              "<Figure size 432x288 with 1 Axes>"
            ],
            "image/png": "[encoded data removed]"
          },
          "metadata": {
            "needs_background": "light"
          }
        }
      ]
    },
    {
      "cell_type": "code",
      "source": [
        "slope"
      ],
      "metadata": {
        "colab": {
          "base_uri": "https://localhost:8080/"
        },
        "id": "tNn4rRog0Xr-",
        "outputId": "fc353fc1-97bc-46e5-aac1-6570822ea1eb"
      },
      "execution_count": 26,
      "outputs": [
        {
          "output_type": "execute_result",
          "data": {
            "text/plain": [
              "[0.1,\n",
              " 0.1300494933902439,\n",
              " 0.14582519675815392,\n",
              " 0.15410729368140766,\n",
              " 0.15845531721143294,\n",
              " 0.160737988954223,\n",
              " 0.16193637029908148,\n",
              " 0.16256550931228833,\n",
              " 0.1628958014180963,\n",
              " 0.1630692016887472,\n",
              " 0.163160235211309,\n",
              " 0.16320802696042871,\n",
              " 0.16323311718236905,\n",
              " 0.1632462893145723,\n",
              " 0.16325320456097844,\n",
              " 0.16325683500078034,\n",
              " 0.16325874094779508,\n",
              " 0.16325974155220332,\n",
              " 0.163260266860199,\n",
              " 0.1632605426420174,\n",
              " 0.16326068742492328]"
            ]
          },
          "metadata": {},
          "execution_count": 26
        }
      ]
    },
    {
      "cell_type": "code",
      "source": [
        "intercept"
      ],
      "metadata": {
        "colab": {
          "base_uri": "https://localhost:8080/"
        },
        "id": "rghkLCNt0ZEr",
        "outputId": "7c6a5e8c-5385-4c6f-ac1d-1e105406126b"
      },
      "execution_count": 27,
      "outputs": [
        {
          "output_type": "execute_result",
          "data": {
            "text/plain": [
              "[-250,\n",
              " -249.99998489721463,\n",
              " -249.99997696844713,\n",
              " -249.999972805972,\n",
              " -249.9999706207652,\n",
              " -249.99996947360577,\n",
              " -249.99996887141157,\n",
              " -249.999968555319,\n",
              " -249.9999683894271,\n",
              " -249.99996830238916,\n",
              " -249.99996825674882,\n",
              " -249.9999682328418,\n",
              " -249.9999682203446,\n",
              " -249.99996821383746,\n",
              " -249.99996821047503,\n",
              " -249.99996820876353,\n",
              " -249.99996820791878,\n",
              " -249.99996820752904,\n",
              " -249.99996820737817,\n",
              " -249.99996820735274,\n",
              " -249.99996820739312]"
            ]
          },
          "metadata": {},
          "execution_count": 27
        }
      ]
    },
    {
      "cell_type": "code",
      "source": [
        "ax = wbdat.plot(\"year\",\"leb\")\n",
        "x = np.arange(1960, 2020,1)\n",
        "for a,b in zip(slope, intercept):\n",
        "  y = a*x + b\n",
        "  ax.plot(x,y)"
      ],
      "metadata": {
        "colab": {
          "base_uri": "https://localhost:8080/",
          "height": 279
        },
        "id": "_97_BvSk0Uk8",
        "outputId": "061b8330-595d-411c-dc11-5c91bbf17ab6"
      },
      "execution_count": 28,
      "outputs": [
        {
          "output_type": "display_data",
          "data": {
            "text/plain": [
              "<Figure size 432x288 with 1 Axes>"
            ],
            "image/png": "[encoded data removed]"
          },
          "metadata": {
            "needs_background": "light"
          }
        }
      ]
    },
    {
      "cell_type": "code",
      "source": [
        "plt.plot(sse)\n",
        "plt.xlabel(\"epoch\")\n",
        "plt.ylabel(\"leb\")"
      ],
      "metadata": {
        "colab": {
          "base_uri": "https://localhost:8080/",
          "height": 296
        },
        "id": "zd-RD3gx0pqz",
        "outputId": "f119e6a0-a268-4500-de4a-70df54182000"
      },
      "execution_count": 29,
      "outputs": [
        {
          "output_type": "execute_result",
          "data": {
            "text/plain": [
              "Text(0, 0.5, 'leb')"
            ]
          },
          "metadata": {},
          "execution_count": 29
        },
        {
          "output_type": "display_data",
          "data": {
            "text/plain": [
              "<Figure size 432x288 with 1 Axes>"
            ],
            "image/png": "[encoded data removed]"
          },
          "metadata": {
            "needs_background": "light"
          }
        }
      ]
    },
    {
      "cell_type": "code",
      "source": [
        "# -- plot the SSE surface and the gradient descent’s search for best slope and intercept\n",
        "from mpl_toolkits import mplot3d\n",
        "fig = plt.figure()\n",
        "ax = plt.axes(projection='3d')\n",
        "ax.plot(slope, intercept, sse)\n",
        "ax.plot(slope, intercept, sse, 'o')\n",
        "ax.set_xlabel('slope')\n",
        "ax.set_ylabel('intercept')\n",
        "ax.set_zlabel('SSE')\n",
        "def error(X, Y, THETA):\n",
        "    Y_pred = THETA[1]*X + THETA[0]\n",
        "    return np.sum((Y_pred - Y)**2)\n",
        "ms = np.linspace(0.09, 0.24, 40)\n",
        "bs = np.linspace(-255, -245, 60)\n",
        "M, B = np.meshgrid(ms, bs)\n",
        "zs = np.array([error(X, Y, theta)\n",
        "               for theta in zip(np.ravel(B), np.ravel(M))])\n",
        "Z = zs.reshape(M.shape)\n",
        "ax.plot_surface(M, B, Z, rstride=1, cstride=1, color='b', alpha=0.2)\n",
        "fig.tight_layout()\n",
        "plt.show()\n",
        "\n",
        "\n",
        "\n",
        "\n",
        "\n",
        "\n",
        "\n"
      ],
      "metadata": {
        "colab": {
          "base_uri": "https://localhost:8080/",
          "height": 297
        },
        "id": "wrr1EH8B0xoZ",
        "outputId": "c5c6ff79-52d7-412d-9ec2-36a3f710f1c4"
      },
      "execution_count": 30,
      "outputs": [
        {
          "output_type": "display_data",
          "data": {
            "text/plain": [
              "<Figure size 432x288 with 1 Axes>"
            ],
            "image/png": "[encoded data removed]"
          },
          "metadata": {
            "needs_background": "light"
          }
        }
      ]
    },
    {
      "cell_type": "code",
      "source": [
        "import statsmodels.api as sm\n",
        "model = sm.OLS(y,X)\n",
        "# Show the summary\n",
        "results = model.fit()\n",
        "results.summary()"
      ],
      "metadata": {
        "colab": {
          "base_uri": "https://localhost:8080/",
          "height": 440
        },
        "id": "f4kgpC8p1IBT",
        "outputId": "542dcbca-cbeb-4be9-8e0c-d6d7c263be44"
      },
      "execution_count": 31,
      "outputs": [
        {
          "output_type": "execute_result",
          "data": {
            "text/plain": [
              "<class 'statsmodels.iolib.summary.Summary'>\n",
              "\"\"\"\n",
              "                                 OLS Regression Results                                \n",
              "=======================================================================================\n",
              "Dep. Variable:                      y   R-squared (uncentered):                   0.999\n",
              "Model:                            OLS   Adj. R-squared (uncentered):              0.999\n",
              "Method:                 Least Squares   F-statistic:                          6.976e+04\n",
              "Date:                Tue, 18 Oct 2022   Prob (F-statistic):                    2.28e-92\n",
              "Time:                        20:46:12   Log-Likelihood:                         -131.79\n",
              "No. Observations:                  60   AIC:                                      265.6\n",
              "Df Residuals:                      59   BIC:                                      267.7\n",
              "Df Model:                           1                                                  \n",
              "Covariance Type:            nonrobust                                                  \n",
              "==============================================================================\n",
              "                 coef    std err          t      P>|t|      [0.025      0.975]\n",
              "------------------------------------------------------------------------------\n",
              "x1             0.0376      0.000    264.129      0.000       0.037       0.038\n",
              "==============================================================================\n",
              "Omnibus:                       15.581   Durbin-Watson:                   0.003\n",
              "Prob(Omnibus):                  0.000   Jarque-Bera (JB):                3.604\n",
              "Skew:                           0.000   Prob(JB):                        0.165\n",
              "Kurtosis:                       1.799   Cond. No.                         1.00\n",
              "==============================================================================\n",
              "\n",
              "Notes:\n",
              "[1] R² is computed without centering (uncentered) since the model does not contain a constant.\n",
              "[2] Standard Errors assume that the covariance matrix of the errors is correctly specified.\n",
              "\"\"\""
            ],
            "text/html": [
              "<table class=\"simpletable\">\n",
              "<caption>OLS Regression Results</caption>\n",
              "<tr>\n",
              "  <th>Dep. Variable:</th>            <td>y</td>        <th>  R-squared (uncentered):</th>      <td>   0.999</td> \n",
              "</tr>\n",
              "<tr>\n",
              "  <th>Model:</th>                   <td>OLS</td>       <th>  Adj. R-squared (uncentered):</th> <td>   0.999</td> \n",
              "</tr>\n",
              "<tr>\n",
              "  <th>Method:</th>             <td>Least Squares</td>  <th>  F-statistic:       </th>          <td>6.976e+04</td>\n",
              "</tr>\n",
              "<tr>\n",
              "  <th>Date:</th>             <td>Tue, 18 Oct 2022</td> <th>  Prob (F-statistic):</th>          <td>2.28e-92</td> \n",
              "</tr>\n",
              "<tr>\n",
              "  <th>Time:</th>                 <td>20:46:12</td>     <th>  Log-Likelihood:    </th>          <td> -131.79</td> \n",
              "</tr>\n",
              "<tr>\n",
              "  <th>No. Observations:</th>      <td>    60</td>      <th>  AIC:               </th>          <td>   265.6</td> \n",
              "</tr>\n",
              "<tr>\n",
              "  <th>Df Residuals:</th>          <td>    59</td>      <th>  BIC:               </th>          <td>   267.7</td> \n",
              "</tr>\n",
              "<tr>\n",
              "  <th>Df Model:</th>              <td>     1</td>      <th>                     </th>              <td> </td>    \n",
              "</tr>\n",
              "<tr>\n",
              "  <th>Covariance Type:</th>      <td>nonrobust</td>    <th>                     </th>              <td> </td>    \n",
              "</tr>\n",
              "</table>\n",
              "<table class=\"simpletable\">\n",
              "<tr>\n",
              "   <td></td>     <th>coef</th>     <th>std err</th>      <th>t</th>      <th>P>|t|</th>  <th>[0.025</th>    <th>0.975]</th>  \n",
              "</tr>\n",
              "<tr>\n",
              "  <th>x1</th> <td>    0.0376</td> <td>    0.000</td> <td>  264.129</td> <td> 0.000</td> <td>    0.037</td> <td>    0.038</td>\n",
              "</tr>\n",
              "</table>\n",
              "<table class=\"simpletable\">\n",
              "<tr>\n",
              "  <th>Omnibus:</th>       <td>15.581</td> <th>  Durbin-Watson:     </th> <td>   0.003</td>\n",
              "</tr>\n",
              "<tr>\n",
              "  <th>Prob(Omnibus):</th> <td> 0.000</td> <th>  Jarque-Bera (JB):  </th> <td>   3.604</td>\n",
              "</tr>\n",
              "<tr>\n",
              "  <th>Skew:</th>          <td> 0.000</td> <th>  Prob(JB):          </th> <td>   0.165</td>\n",
              "</tr>\n",
              "<tr>\n",
              "  <th>Kurtosis:</th>      <td> 1.799</td> <th>  Cond. No.          </th> <td>    1.00</td>\n",
              "</tr>\n",
              "</table><br/><br/>Notes:<br/>[1] R² is computed without centering (uncentered) since the model does not contain a constant.<br/>[2] Standard Errors assume that the covariance matrix of the errors is correctly specified."
            ]
          },
          "metadata": {},
          "execution_count": 31
        }
      ]
    },
    {
      "cell_type": "code",
      "source": [],
      "metadata": {
        "id": "94W8dxTZ2L4Z"
      },
      "execution_count": null,
      "outputs": []
    }
  ]
}