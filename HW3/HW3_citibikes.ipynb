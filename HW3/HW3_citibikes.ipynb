{
  "nbformat": 4,
  "nbformat_minor": 0,
  "metadata": {
    "anaconda-cloud": {},
    "kernelspec": {
      "display_name": "Python 3",
      "name": "python3"
    },
    "language_info": {
      "name": "python"
    },
    "colab": {
      "provenance": [],
      "include_colab_link": true
    }
  },
  "cells": [
    {
      "cell_type": "markdown",
      "metadata": {
        "id": "view-in-github",
        "colab_type": "text"
      },
      "source": [
        "<a href=\"https://colab.research.google.com/github/bforeman44/FDSfE_BForeman/blob/main/HW3/HW3_citibikes.ipynb\" target=\"_parent\"><img src=\"https://colab.research.google.com/assets/colab-badge.svg\" alt=\"Open In Colab\"/></a>"
      ]
    },
    {
      "cell_type": "markdown",
      "metadata": {
        "id": "4aESq4aYc3Tw"
      },
      "source": [
        "# Written by Federica B. Bianco @fedhere\n",
        "# for UDel FDSfE 2022\n",
        "\n",
        "\n",
        "Citibikes is the shared bike services for NYC and they historically have done a great job at making their data public (while respecting people's privacy of course! well... almost always... https://www.wsj.com/articles/SB10001424127887323829104578624263439561672)\n",
        "\n",
        "-  The \"idea\" is that citi bikes, which are farily bulky bikes, may be designed in such a way that they are more comfortable for larger people, and therefore, on average, for men.  \n",
        "\n",
        "-  If the bikes are uncomfortable, the users will not use them for long trips. So to test that you can measure the trip duration for customers that are registered as male and customers that are registered as female and see (1) if they  have the same mean, and (2) if they are \"the same\" distribution (more precisely you will meausre if they come from the \"same parent distribution\"). \n",
        "\n",
        "-  Choose the significance threshold\n",
        "\n",
        "-  Wrangle the data so that it is ready for your analysis.\n",
        "\n",
        "-  Explore the data statistical properties (mean, standard deviation...)\n",
        "\n",
        "-  Clearly state they Null and Alternate hypothesis for the first question\n",
        "\n",
        "-  Answer the first question with a t-test\n",
        "\n",
        "-  Clearly state they Null and Alternate hypothesis for the second question\n",
        "\n",
        "-  Answer the second question with a ks_2sample test\n",
        "\n",
        "\n",
        "-  Extra Credit: split the sample in week-days and weekends and redo the analysis for the week-days and weekend cases separately"
      ]
    },
    {
      "cell_type": "code",
      "metadata": {
        "scrolled": true,
        "id": "LEcE6IScc3Tx"
      },
      "source": [
        "import matplotlib.pyplot as plt\n",
        "import pandas as pd\n",
        "import numpy as np\n",
        "from scipy import stats"
      ],
      "execution_count": 1,
      "outputs": []
    },
    {
      "cell_type": "markdown",
      "metadata": {
        "id": "V-bKj0Xjc3T5"
      },
      "source": [
        "# IDEA:\n",
        " Citibike usage would be different by gender if the bikes are more comfrotable for people who are taller and with larger frames.\n",
        "\n",
        "Remember: \n",
        "### NULL HYPOTHESIS _H0_:\n",
        "You want to falsify it so make it the opposite of your idea\n",
        "\n",
        "\n",
        "### ALTERNATIVE HYPOTHESIS _HA_:\n",
        "This shoudl be the complement of the NULL, including everything that the NULL does not\n",
        "\n",
        "\n"
      ]
    },
    {
      "cell_type": "code",
      "source": [
        "pvalue = 0.05"
      ],
      "metadata": {
        "id": "O-ZZoG1GeqX_"
      },
      "execution_count": 2,
      "outputs": []
    },
    {
      "cell_type": "markdown",
      "metadata": {
        "id": "I-bfLntac3T7"
      },
      "source": [
        "# Data gathering\n",
        "Get a single month of data:  reading data from citibike csv file from May 2019\n",
        "\n",
        "\n",
        "\n",
        "read a csv file with pandas so that the content is stored in a \"DataFrame\". "
      ]
    },
    {
      "cell_type": "code",
      "metadata": {
        "id": "TLDKMJbyc3UL",
        "colab": {
          "base_uri": "https://localhost:8080/",
          "height": 693
        },
        "outputId": "710f8980-8518-4262-83e2-d6454ceeb256"
      },
      "source": [
        "datestring = '201905'\n",
        "cbMay19 = pd.read_csv(\"https://s3.amazonaws.com/tripdata/\"+ datestring + \"-citibike-tripdata.csv.zip\")\n",
        "cbMay19"
      ],
      "execution_count": 3,
      "outputs": [
        {
          "output_type": "execute_result",
          "data": {
            "text/plain": [
              "         tripduration                 starttime                  stoptime  \\\n",
              "0                 139  2019-05-01 00:00:01.9010  2019-05-01 00:02:21.5170   \n",
              "1                 754  2019-05-01 00:00:03.0210  2019-05-01 00:12:37.6920   \n",
              "2                2308  2019-05-01 00:00:04.6270  2019-05-01 00:38:33.1710   \n",
              "3                 143  2019-05-01 00:00:19.3340  2019-05-01 00:02:42.5200   \n",
              "4                 138  2019-05-01 00:00:22.1840  2019-05-01 00:02:40.6480   \n",
              "...               ...                       ...                       ...   \n",
              "1924558           304  2019-05-31 23:59:45.5760  2019-06-01 00:04:50.4620   \n",
              "1924559           324  2019-05-31 23:59:46.4650  2019-06-01 00:05:11.1630   \n",
              "1924560          1926  2019-05-31 23:59:51.5060  2019-06-01 00:31:58.3920   \n",
              "1924561          2047  2019-05-31 23:59:52.4170  2019-06-01 00:34:00.1970   \n",
              "1924562           964  2019-05-31 23:59:55.5500  2019-06-01 00:15:59.8680   \n",
              "\n",
              "         start station id         start station name  start station latitude  \\\n",
              "0                     447            8 Ave & W 52 St               40.763707   \n",
              "1                    3258           W 27 St & 10 Ave               40.750182   \n",
              "2                    3093       N 6 St & Bedford Ave               40.717452   \n",
              "3                    3486  Schermerhorn St & Bond St               40.688417   \n",
              "4                     388           W 26 St & 10 Ave               40.749718   \n",
              "...                   ...                        ...                     ...   \n",
              "1924558              3175    W 70 St & Amsterdam Ave               40.777480   \n",
              "1924559              2003            1 Ave & E 18 St               40.733812   \n",
              "1924560               146       Hudson St & Reade St               40.716250   \n",
              "1924561              3658            W 18 St & 9 Ave               40.743534   \n",
              "1924562               285         Broadway & E 14 St               40.734546   \n",
              "\n",
              "         start station longitude  end station id            end station name  \\\n",
              "0                     -73.985162             423             W 54 St & 9 Ave   \n",
              "1                     -74.002184            3255             8 Ave & W 31 St   \n",
              "2                     -73.958509            3676  Van Brunt St & Van Dyke St   \n",
              "3                     -73.984517            3412      Pacific St & Nevins St   \n",
              "4                     -74.002950             494             W 26 St & 8 Ave   \n",
              "...                          ...             ...                         ...   \n",
              "1924558               -73.982886             423             W 54 St & 9 Ave   \n",
              "1924559               -73.980544             536             1 Ave & E 30 St   \n",
              "1924560               -74.009106             422            W 59 St & 10 Ave   \n",
              "1924561               -74.003676            2008       Little West St & 1 Pl   \n",
              "1924562               -73.990741            3656           E 2 St & Avenue A   \n",
              "\n",
              "         end station latitude  end station longitude  bikeid    usertype  \\\n",
              "0                   40.765849             -73.986905   31170  Subscriber   \n",
              "1                   40.750585             -73.994685   25560    Customer   \n",
              "2                   40.675833             -74.014726   33369  Subscriber   \n",
              "3                   40.685376             -73.983021   32041  Subscriber   \n",
              "4                   40.747348             -73.997236   35237  Subscriber   \n",
              "...                       ...                    ...     ...         ...   \n",
              "1924558             40.765849             -73.986905   32285  Subscriber   \n",
              "1924559             40.741444             -73.975361   33874  Subscriber   \n",
              "1924560             40.770513             -73.988038   33395  Subscriber   \n",
              "1924561             40.705693             -74.016777   27624  Subscriber   \n",
              "1924562             40.723077             -73.985836   32565  Subscriber   \n",
              "\n",
              "         birth year  gender  \n",
              "0              1983       1  \n",
              "1              1969       0  \n",
              "2              1978       1  \n",
              "3              1997       1  \n",
              "4              1967       1  \n",
              "...             ...     ...  \n",
              "1924558        1987       2  \n",
              "1924559        1994       2  \n",
              "1924560        1985       1  \n",
              "1924561        1987       0  \n",
              "1924562        1992       2  \n",
              "\n",
              "[1924563 rows x 15 columns]"
            ],
            "text/html": [
              "\n",
              "  <div id=\"df-1d49914f-4e99-464e-b4cb-62b6392618ac\">\n",
              "    <div class=\"colab-df-container\">\n",
              "      <div>\n",
              "<style scoped>\n",
              "    .dataframe tbody tr th:only-of-type {\n",
              "        vertical-align: middle;\n",
              "    }\n",
              "\n",
              "    .dataframe tbody tr th {\n",
              "        vertical-align: top;\n",
              "    }\n",
              "\n",
              "    .dataframe thead th {\n",
              "        text-align: right;\n",
              "    }\n",
              "</style>\n",
              "<table border=\"1\" class=\"dataframe\">\n",
              "  <thead>\n",
              "    <tr style=\"text-align: right;\">\n",
              "      <th></th>\n",
              "      <th>tripduration</th>\n",
              "      <th>starttime</th>\n",
              "      <th>stoptime</th>\n",
              "      <th>start station id</th>\n",
              "      <th>start station name</th>\n",
              "      <th>start station latitude</th>\n",
              "      <th>start station longitude</th>\n",
              "      <th>end station id</th>\n",
              "      <th>end station name</th>\n",
              "      <th>end station latitude</th>\n",
              "      <th>end station longitude</th>\n",
              "      <th>bikeid</th>\n",
              "      <th>usertype</th>\n",
              "      <th>birth year</th>\n",
              "      <th>gender</th>\n",
              "    </tr>\n",
              "  </thead>\n",
              "  <tbody>\n",
              "    <tr>\n",
              "      <th>0</th>\n",
              "      <td>139</td>\n",
              "      <td>2019-05-01 00:00:01.9010</td>\n",
              "      <td>2019-05-01 00:02:21.5170</td>\n",
              "      <td>447</td>\n",
              "      <td>8 Ave &amp; W 52 St</td>\n",
              "      <td>40.763707</td>\n",
              "      <td>-73.985162</td>\n",
              "      <td>423</td>\n",
              "      <td>W 54 St &amp; 9 Ave</td>\n",
              "      <td>40.765849</td>\n",
              "      <td>-73.986905</td>\n",
              "      <td>31170</td>\n",
              "      <td>Subscriber</td>\n",
              "      <td>1983</td>\n",
              "      <td>1</td>\n",
              "    </tr>\n",
              "    <tr>\n",
              "      <th>1</th>\n",
              "      <td>754</td>\n",
              "      <td>2019-05-01 00:00:03.0210</td>\n",
              "      <td>2019-05-01 00:12:37.6920</td>\n",
              "      <td>3258</td>\n",
              "      <td>W 27 St &amp; 10 Ave</td>\n",
              "      <td>40.750182</td>\n",
              "      <td>-74.002184</td>\n",
              "      <td>3255</td>\n",
              "      <td>8 Ave &amp; W 31 St</td>\n",
              "      <td>40.750585</td>\n",
              "      <td>-73.994685</td>\n",
              "      <td>25560</td>\n",
              "      <td>Customer</td>\n",
              "      <td>1969</td>\n",
              "      <td>0</td>\n",
              "    </tr>\n",
              "    <tr>\n",
              "      <th>2</th>\n",
              "      <td>2308</td>\n",
              "      <td>2019-05-01 00:00:04.6270</td>\n",
              "      <td>2019-05-01 00:38:33.1710</td>\n",
              "      <td>3093</td>\n",
              "      <td>N 6 St &amp; Bedford Ave</td>\n",
              "      <td>40.717452</td>\n",
              "      <td>-73.958509</td>\n",
              "      <td>3676</td>\n",
              "      <td>Van Brunt St &amp; Van Dyke St</td>\n",
              "      <td>40.675833</td>\n",
              "      <td>-74.014726</td>\n",
              "      <td>33369</td>\n",
              "      <td>Subscriber</td>\n",
              "      <td>1978</td>\n",
              "      <td>1</td>\n",
              "    </tr>\n",
              "    <tr>\n",
              "      <th>3</th>\n",
              "      <td>143</td>\n",
              "      <td>2019-05-01 00:00:19.3340</td>\n",
              "      <td>2019-05-01 00:02:42.5200</td>\n",
              "      <td>3486</td>\n",
              "      <td>Schermerhorn St &amp; Bond St</td>\n",
              "      <td>40.688417</td>\n",
              "      <td>-73.984517</td>\n",
              "      <td>3412</td>\n",
              "      <td>Pacific St &amp; Nevins St</td>\n",
              "      <td>40.685376</td>\n",
              "      <td>-73.983021</td>\n",
              "      <td>32041</td>\n",
              "      <td>Subscriber</td>\n",
              "      <td>1997</td>\n",
              "      <td>1</td>\n",
              "    </tr>\n",
              "    <tr>\n",
              "      <th>4</th>\n",
              "      <td>138</td>\n",
              "      <td>2019-05-01 00:00:22.1840</td>\n",
              "      <td>2019-05-01 00:02:40.6480</td>\n",
              "      <td>388</td>\n",
              "      <td>W 26 St &amp; 10 Ave</td>\n",
              "      <td>40.749718</td>\n",
              "      <td>-74.002950</td>\n",
              "      <td>494</td>\n",
              "      <td>W 26 St &amp; 8 Ave</td>\n",
              "      <td>40.747348</td>\n",
              "      <td>-73.997236</td>\n",
              "      <td>35237</td>\n",
              "      <td>Subscriber</td>\n",
              "      <td>1967</td>\n",
              "      <td>1</td>\n",
              "    </tr>\n",
              "    <tr>\n",
              "      <th>...</th>\n",
              "      <td>...</td>\n",
              "      <td>...</td>\n",
              "      <td>...</td>\n",
              "      <td>...</td>\n",
              "      <td>...</td>\n",
              "      <td>...</td>\n",
              "      <td>...</td>\n",
              "      <td>...</td>\n",
              "      <td>...</td>\n",
              "      <td>...</td>\n",
              "      <td>...</td>\n",
              "      <td>...</td>\n",
              "      <td>...</td>\n",
              "      <td>...</td>\n",
              "      <td>...</td>\n",
              "    </tr>\n",
              "    <tr>\n",
              "      <th>1924558</th>\n",
              "      <td>304</td>\n",
              "      <td>2019-05-31 23:59:45.5760</td>\n",
              "      <td>2019-06-01 00:04:50.4620</td>\n",
              "      <td>3175</td>\n",
              "      <td>W 70 St &amp; Amsterdam Ave</td>\n",
              "      <td>40.777480</td>\n",
              "      <td>-73.982886</td>\n",
              "      <td>423</td>\n",
              "      <td>W 54 St &amp; 9 Ave</td>\n",
              "      <td>40.765849</td>\n",
              "      <td>-73.986905</td>\n",
              "      <td>32285</td>\n",
              "      <td>Subscriber</td>\n",
              "      <td>1987</td>\n",
              "      <td>2</td>\n",
              "    </tr>\n",
              "    <tr>\n",
              "      <th>1924559</th>\n",
              "      <td>324</td>\n",
              "      <td>2019-05-31 23:59:46.4650</td>\n",
              "      <td>2019-06-01 00:05:11.1630</td>\n",
              "      <td>2003</td>\n",
              "      <td>1 Ave &amp; E 18 St</td>\n",
              "      <td>40.733812</td>\n",
              "      <td>-73.980544</td>\n",
              "      <td>536</td>\n",
              "      <td>1 Ave &amp; E 30 St</td>\n",
              "      <td>40.741444</td>\n",
              "      <td>-73.975361</td>\n",
              "      <td>33874</td>\n",
              "      <td>Subscriber</td>\n",
              "      <td>1994</td>\n",
              "      <td>2</td>\n",
              "    </tr>\n",
              "    <tr>\n",
              "      <th>1924560</th>\n",
              "      <td>1926</td>\n",
              "      <td>2019-05-31 23:59:51.5060</td>\n",
              "      <td>2019-06-01 00:31:58.3920</td>\n",
              "      <td>146</td>\n",
              "      <td>Hudson St &amp; Reade St</td>\n",
              "      <td>40.716250</td>\n",
              "      <td>-74.009106</td>\n",
              "      <td>422</td>\n",
              "      <td>W 59 St &amp; 10 Ave</td>\n",
              "      <td>40.770513</td>\n",
              "      <td>-73.988038</td>\n",
              "      <td>33395</td>\n",
              "      <td>Subscriber</td>\n",
              "      <td>1985</td>\n",
              "      <td>1</td>\n",
              "    </tr>\n",
              "    <tr>\n",
              "      <th>1924561</th>\n",
              "      <td>2047</td>\n",
              "      <td>2019-05-31 23:59:52.4170</td>\n",
              "      <td>2019-06-01 00:34:00.1970</td>\n",
              "      <td>3658</td>\n",
              "      <td>W 18 St &amp; 9 Ave</td>\n",
              "      <td>40.743534</td>\n",
              "      <td>-74.003676</td>\n",
              "      <td>2008</td>\n",
              "      <td>Little West St &amp; 1 Pl</td>\n",
              "      <td>40.705693</td>\n",
              "      <td>-74.016777</td>\n",
              "      <td>27624</td>\n",
              "      <td>Subscriber</td>\n",
              "      <td>1987</td>\n",
              "      <td>0</td>\n",
              "    </tr>\n",
              "    <tr>\n",
              "      <th>1924562</th>\n",
              "      <td>964</td>\n",
              "      <td>2019-05-31 23:59:55.5500</td>\n",
              "      <td>2019-06-01 00:15:59.8680</td>\n",
              "      <td>285</td>\n",
              "      <td>Broadway &amp; E 14 St</td>\n",
              "      <td>40.734546</td>\n",
              "      <td>-73.990741</td>\n",
              "      <td>3656</td>\n",
              "      <td>E 2 St &amp; Avenue A</td>\n",
              "      <td>40.723077</td>\n",
              "      <td>-73.985836</td>\n",
              "      <td>32565</td>\n",
              "      <td>Subscriber</td>\n",
              "      <td>1992</td>\n",
              "      <td>2</td>\n",
              "    </tr>\n",
              "  </tbody>\n",
              "</table>\n",
              "<p>1924563 rows × 15 columns</p>\n",
              "</div>\n",
              "      <button class=\"colab-df-convert\" onclick=\"convertToInteractive('df-1d49914f-4e99-464e-b4cb-62b6392618ac')\"\n",
              "              title=\"Convert this dataframe to an interactive table.\"\n",
              "              style=\"display:none;\">\n",
              "        \n",
              "  <svg xmlns=\"http://www.w3.org/2000/svg\" height=\"24px\"viewBox=\"0 0 24 24\"\n",
              "       width=\"24px\">\n",
              "    <path d=\"M0 0h24v24H0V0z\" fill=\"none\"/>\n",
              "    <path d=\"M18.56 5.44l.94 2.06.94-2.06 2.06-.94-2.06-.94-.94-2.06-.94 2.06-2.06.94zm-11 1L8.5 8.5l.94-2.06 2.06-.94-2.06-.94L8.5 2.5l-.94 2.06-2.06.94zm10 10l.94 2.06.94-2.06 2.06-.94-2.06-.94-.94-2.06-.94 2.06-2.06.94z\"/><path d=\"M17.41 7.96l-1.37-1.37c-.4-.4-.92-.59-1.43-.59-.52 0-1.04.2-1.43.59L10.3 9.45l-7.72 7.72c-.78.78-.78 2.05 0 2.83L4 21.41c.39.39.9.59 1.41.59.51 0 1.02-.2 1.41-.59l7.78-7.78 2.81-2.81c.8-.78.8-2.07 0-2.86zM5.41 20L4 18.59l7.72-7.72 1.47 1.35L5.41 20z\"/>\n",
              "  </svg>\n",
              "      </button>\n",
              "      \n",
              "  <style>\n",
              "    .colab-df-container {\n",
              "      display:flex;\n",
              "      flex-wrap:wrap;\n",
              "      gap: 12px;\n",
              "    }\n",
              "\n",
              "    .colab-df-convert {\n",
              "      background-color: #E8F0FE;\n",
              "      border: none;\n",
              "      border-radius: 50%;\n",
              "      cursor: pointer;\n",
              "      display: none;\n",
              "      fill: #1967D2;\n",
              "      height: 32px;\n",
              "      padding: 0 0 0 0;\n",
              "      width: 32px;\n",
              "    }\n",
              "\n",
              "    .colab-df-convert:hover {\n",
              "      background-color: #E2EBFA;\n",
              "      box-shadow: 0px 1px 2px rgba(60, 64, 67, 0.3), 0px 1px 3px 1px rgba(60, 64, 67, 0.15);\n",
              "      fill: #174EA6;\n",
              "    }\n",
              "\n",
              "    [theme=dark] .colab-df-convert {\n",
              "      background-color: #3B4455;\n",
              "      fill: #D2E3FC;\n",
              "    }\n",
              "\n",
              "    [theme=dark] .colab-df-convert:hover {\n",
              "      background-color: #434B5C;\n",
              "      box-shadow: 0px 1px 3px 1px rgba(0, 0, 0, 0.15);\n",
              "      filter: drop-shadow(0px 1px 2px rgba(0, 0, 0, 0.3));\n",
              "      fill: #FFFFFF;\n",
              "    }\n",
              "  </style>\n",
              "\n",
              "      <script>\n",
              "        const buttonEl =\n",
              "          document.querySelector('#df-1d49914f-4e99-464e-b4cb-62b6392618ac button.colab-df-convert');\n",
              "        buttonEl.style.display =\n",
              "          google.colab.kernel.accessAllowed ? 'block' : 'none';\n",
              "\n",
              "        async function convertToInteractive(key) {\n",
              "          const element = document.querySelector('#df-1d49914f-4e99-464e-b4cb-62b6392618ac');\n",
              "          const dataTable =\n",
              "            await google.colab.kernel.invokeFunction('convertToInteractive',\n",
              "                                                     [key], {});\n",
              "          if (!dataTable) return;\n",
              "\n",
              "          const docLinkHtml = 'Like what you see? Visit the ' +\n",
              "            '<a target=\"_blank\" href=https://colab.research.google.com/notebooks/data_table.ipynb>data table notebook</a>'\n",
              "            + ' to learn more about interactive tables.';\n",
              "          element.innerHTML = '';\n",
              "          dataTable['output_type'] = 'display_data';\n",
              "          await google.colab.output.renderOutput(dataTable, element);\n",
              "          const docLink = document.createElement('div');\n",
              "          docLink.innerHTML = docLinkHtml;\n",
              "          element.appendChild(docLink);\n",
              "        }\n",
              "      </script>\n",
              "    </div>\n",
              "  </div>\n",
              "  "
            ]
          },
          "metadata": {},
          "execution_count": 3
        }
      ]
    },
    {
      "cell_type": "markdown",
      "source": [
        "# Data Exploration\n",
        "\n",
        "you know what to do!"
      ],
      "metadata": {
        "id": "c-Xh0btXc3UT"
      }
    },
    {
      "cell_type": "code",
      "source": [
        "cbMay19.shape"
      ],
      "metadata": {
        "id": "dqg07sA5fFXK",
        "colab": {
          "base_uri": "https://localhost:8080/"
        },
        "outputId": "596b9219-b9ec-4e89-f12d-dabfcf8639ea"
      },
      "execution_count": 4,
      "outputs": [
        {
          "output_type": "execute_result",
          "data": {
            "text/plain": [
              "(1924563, 15)"
            ]
          },
          "metadata": {},
          "execution_count": 4
        }
      ]
    },
    {
      "cell_type": "code",
      "source": [
        "cbMay19.head()"
      ],
      "metadata": {
        "colab": {
          "base_uri": "https://localhost:8080/",
          "height": 389
        },
        "id": "OHhmcNXsXO7O",
        "outputId": "525cf391-5096-4052-db2b-601ca46b94ea"
      },
      "execution_count": 5,
      "outputs": [
        {
          "output_type": "execute_result",
          "data": {
            "text/plain": [
              "   tripduration                 starttime                  stoptime  \\\n",
              "0           139  2019-05-01 00:00:01.9010  2019-05-01 00:02:21.5170   \n",
              "1           754  2019-05-01 00:00:03.0210  2019-05-01 00:12:37.6920   \n",
              "2          2308  2019-05-01 00:00:04.6270  2019-05-01 00:38:33.1710   \n",
              "3           143  2019-05-01 00:00:19.3340  2019-05-01 00:02:42.5200   \n",
              "4           138  2019-05-01 00:00:22.1840  2019-05-01 00:02:40.6480   \n",
              "\n",
              "   start station id         start station name  start station latitude  \\\n",
              "0               447            8 Ave & W 52 St               40.763707   \n",
              "1              3258           W 27 St & 10 Ave               40.750182   \n",
              "2              3093       N 6 St & Bedford Ave               40.717452   \n",
              "3              3486  Schermerhorn St & Bond St               40.688417   \n",
              "4               388           W 26 St & 10 Ave               40.749718   \n",
              "\n",
              "   start station longitude  end station id            end station name  \\\n",
              "0               -73.985162             423             W 54 St & 9 Ave   \n",
              "1               -74.002184            3255             8 Ave & W 31 St   \n",
              "2               -73.958509            3676  Van Brunt St & Van Dyke St   \n",
              "3               -73.984517            3412      Pacific St & Nevins St   \n",
              "4               -74.002950             494             W 26 St & 8 Ave   \n",
              "\n",
              "   end station latitude  end station longitude  bikeid    usertype  \\\n",
              "0             40.765849             -73.986905   31170  Subscriber   \n",
              "1             40.750585             -73.994685   25560    Customer   \n",
              "2             40.675833             -74.014726   33369  Subscriber   \n",
              "3             40.685376             -73.983021   32041  Subscriber   \n",
              "4             40.747348             -73.997236   35237  Subscriber   \n",
              "\n",
              "   birth year  gender  \n",
              "0        1983       1  \n",
              "1        1969       0  \n",
              "2        1978       1  \n",
              "3        1997       1  \n",
              "4        1967       1  "
            ],
            "text/html": [
              "\n",
              "  <div id=\"df-41564bbd-dc24-4b32-a8be-408c37ad40c5\">\n",
              "    <div class=\"colab-df-container\">\n",
              "      <div>\n",
              "<style scoped>\n",
              "    .dataframe tbody tr th:only-of-type {\n",
              "        vertical-align: middle;\n",
              "    }\n",
              "\n",
              "    .dataframe tbody tr th {\n",
              "        vertical-align: top;\n",
              "    }\n",
              "\n",
              "    .dataframe thead th {\n",
              "        text-align: right;\n",
              "    }\n",
              "</style>\n",
              "<table border=\"1\" class=\"dataframe\">\n",
              "  <thead>\n",
              "    <tr style=\"text-align: right;\">\n",
              "      <th></th>\n",
              "      <th>tripduration</th>\n",
              "      <th>starttime</th>\n",
              "      <th>stoptime</th>\n",
              "      <th>start station id</th>\n",
              "      <th>start station name</th>\n",
              "      <th>start station latitude</th>\n",
              "      <th>start station longitude</th>\n",
              "      <th>end station id</th>\n",
              "      <th>end station name</th>\n",
              "      <th>end station latitude</th>\n",
              "      <th>end station longitude</th>\n",
              "      <th>bikeid</th>\n",
              "      <th>usertype</th>\n",
              "      <th>birth year</th>\n",
              "      <th>gender</th>\n",
              "    </tr>\n",
              "  </thead>\n",
              "  <tbody>\n",
              "    <tr>\n",
              "      <th>0</th>\n",
              "      <td>139</td>\n",
              "      <td>2019-05-01 00:00:01.9010</td>\n",
              "      <td>2019-05-01 00:02:21.5170</td>\n",
              "      <td>447</td>\n",
              "      <td>8 Ave &amp; W 52 St</td>\n",
              "      <td>40.763707</td>\n",
              "      <td>-73.985162</td>\n",
              "      <td>423</td>\n",
              "      <td>W 54 St &amp; 9 Ave</td>\n",
              "      <td>40.765849</td>\n",
              "      <td>-73.986905</td>\n",
              "      <td>31170</td>\n",
              "      <td>Subscriber</td>\n",
              "      <td>1983</td>\n",
              "      <td>1</td>\n",
              "    </tr>\n",
              "    <tr>\n",
              "      <th>1</th>\n",
              "      <td>754</td>\n",
              "      <td>2019-05-01 00:00:03.0210</td>\n",
              "      <td>2019-05-01 00:12:37.6920</td>\n",
              "      <td>3258</td>\n",
              "      <td>W 27 St &amp; 10 Ave</td>\n",
              "      <td>40.750182</td>\n",
              "      <td>-74.002184</td>\n",
              "      <td>3255</td>\n",
              "      <td>8 Ave &amp; W 31 St</td>\n",
              "      <td>40.750585</td>\n",
              "      <td>-73.994685</td>\n",
              "      <td>25560</td>\n",
              "      <td>Customer</td>\n",
              "      <td>1969</td>\n",
              "      <td>0</td>\n",
              "    </tr>\n",
              "    <tr>\n",
              "      <th>2</th>\n",
              "      <td>2308</td>\n",
              "      <td>2019-05-01 00:00:04.6270</td>\n",
              "      <td>2019-05-01 00:38:33.1710</td>\n",
              "      <td>3093</td>\n",
              "      <td>N 6 St &amp; Bedford Ave</td>\n",
              "      <td>40.717452</td>\n",
              "      <td>-73.958509</td>\n",
              "      <td>3676</td>\n",
              "      <td>Van Brunt St &amp; Van Dyke St</td>\n",
              "      <td>40.675833</td>\n",
              "      <td>-74.014726</td>\n",
              "      <td>33369</td>\n",
              "      <td>Subscriber</td>\n",
              "      <td>1978</td>\n",
              "      <td>1</td>\n",
              "    </tr>\n",
              "    <tr>\n",
              "      <th>3</th>\n",
              "      <td>143</td>\n",
              "      <td>2019-05-01 00:00:19.3340</td>\n",
              "      <td>2019-05-01 00:02:42.5200</td>\n",
              "      <td>3486</td>\n",
              "      <td>Schermerhorn St &amp; Bond St</td>\n",
              "      <td>40.688417</td>\n",
              "      <td>-73.984517</td>\n",
              "      <td>3412</td>\n",
              "      <td>Pacific St &amp; Nevins St</td>\n",
              "      <td>40.685376</td>\n",
              "      <td>-73.983021</td>\n",
              "      <td>32041</td>\n",
              "      <td>Subscriber</td>\n",
              "      <td>1997</td>\n",
              "      <td>1</td>\n",
              "    </tr>\n",
              "    <tr>\n",
              "      <th>4</th>\n",
              "      <td>138</td>\n",
              "      <td>2019-05-01 00:00:22.1840</td>\n",
              "      <td>2019-05-01 00:02:40.6480</td>\n",
              "      <td>388</td>\n",
              "      <td>W 26 St &amp; 10 Ave</td>\n",
              "      <td>40.749718</td>\n",
              "      <td>-74.002950</td>\n",
              "      <td>494</td>\n",
              "      <td>W 26 St &amp; 8 Ave</td>\n",
              "      <td>40.747348</td>\n",
              "      <td>-73.997236</td>\n",
              "      <td>35237</td>\n",
              "      <td>Subscriber</td>\n",
              "      <td>1967</td>\n",
              "      <td>1</td>\n",
              "    </tr>\n",
              "  </tbody>\n",
              "</table>\n",
              "</div>\n",
              "      <button class=\"colab-df-convert\" onclick=\"convertToInteractive('df-41564bbd-dc24-4b32-a8be-408c37ad40c5')\"\n",
              "              title=\"Convert this dataframe to an interactive table.\"\n",
              "              style=\"display:none;\">\n",
              "        \n",
              "  <svg xmlns=\"http://www.w3.org/2000/svg\" height=\"24px\"viewBox=\"0 0 24 24\"\n",
              "       width=\"24px\">\n",
              "    <path d=\"M0 0h24v24H0V0z\" fill=\"none\"/>\n",
              "    <path d=\"M18.56 5.44l.94 2.06.94-2.06 2.06-.94-2.06-.94-.94-2.06-.94 2.06-2.06.94zm-11 1L8.5 8.5l.94-2.06 2.06-.94-2.06-.94L8.5 2.5l-.94 2.06-2.06.94zm10 10l.94 2.06.94-2.06 2.06-.94-2.06-.94-.94-2.06-.94 2.06-2.06.94z\"/><path d=\"M17.41 7.96l-1.37-1.37c-.4-.4-.92-.59-1.43-.59-.52 0-1.04.2-1.43.59L10.3 9.45l-7.72 7.72c-.78.78-.78 2.05 0 2.83L4 21.41c.39.39.9.59 1.41.59.51 0 1.02-.2 1.41-.59l7.78-7.78 2.81-2.81c.8-.78.8-2.07 0-2.86zM5.41 20L4 18.59l7.72-7.72 1.47 1.35L5.41 20z\"/>\n",
              "  </svg>\n",
              "      </button>\n",
              "      \n",
              "  <style>\n",
              "    .colab-df-container {\n",
              "      display:flex;\n",
              "      flex-wrap:wrap;\n",
              "      gap: 12px;\n",
              "    }\n",
              "\n",
              "    .colab-df-convert {\n",
              "      background-color: #E8F0FE;\n",
              "      border: none;\n",
              "      border-radius: 50%;\n",
              "      cursor: pointer;\n",
              "      display: none;\n",
              "      fill: #1967D2;\n",
              "      height: 32px;\n",
              "      padding: 0 0 0 0;\n",
              "      width: 32px;\n",
              "    }\n",
              "\n",
              "    .colab-df-convert:hover {\n",
              "      background-color: #E2EBFA;\n",
              "      box-shadow: 0px 1px 2px rgba(60, 64, 67, 0.3), 0px 1px 3px 1px rgba(60, 64, 67, 0.15);\n",
              "      fill: #174EA6;\n",
              "    }\n",
              "\n",
              "    [theme=dark] .colab-df-convert {\n",
              "      background-color: #3B4455;\n",
              "      fill: #D2E3FC;\n",
              "    }\n",
              "\n",
              "    [theme=dark] .colab-df-convert:hover {\n",
              "      background-color: #434B5C;\n",
              "      box-shadow: 0px 1px 3px 1px rgba(0, 0, 0, 0.15);\n",
              "      filter: drop-shadow(0px 1px 2px rgba(0, 0, 0, 0.3));\n",
              "      fill: #FFFFFF;\n",
              "    }\n",
              "  </style>\n",
              "\n",
              "      <script>\n",
              "        const buttonEl =\n",
              "          document.querySelector('#df-41564bbd-dc24-4b32-a8be-408c37ad40c5 button.colab-df-convert');\n",
              "        buttonEl.style.display =\n",
              "          google.colab.kernel.accessAllowed ? 'block' : 'none';\n",
              "\n",
              "        async function convertToInteractive(key) {\n",
              "          const element = document.querySelector('#df-41564bbd-dc24-4b32-a8be-408c37ad40c5');\n",
              "          const dataTable =\n",
              "            await google.colab.kernel.invokeFunction('convertToInteractive',\n",
              "                                                     [key], {});\n",
              "          if (!dataTable) return;\n",
              "\n",
              "          const docLinkHtml = 'Like what you see? Visit the ' +\n",
              "            '<a target=\"_blank\" href=https://colab.research.google.com/notebooks/data_table.ipynb>data table notebook</a>'\n",
              "            + ' to learn more about interactive tables.';\n",
              "          element.innerHTML = '';\n",
              "          dataTable['output_type'] = 'display_data';\n",
              "          await google.colab.output.renderOutput(dataTable, element);\n",
              "          const docLink = document.createElement('div');\n",
              "          docLink.innerHTML = docLinkHtml;\n",
              "          element.appendChild(docLink);\n",
              "        }\n",
              "      </script>\n",
              "    </div>\n",
              "  </div>\n",
              "  "
            ]
          },
          "metadata": {},
          "execution_count": 5
        }
      ]
    },
    {
      "cell_type": "code",
      "source": [
        "cbMay19.tail()"
      ],
      "metadata": {
        "colab": {
          "base_uri": "https://localhost:8080/",
          "height": 389
        },
        "id": "BKhv7iOEXS7w",
        "outputId": "1eb2d1ee-92fa-4e9f-9b4b-4e5326db5267"
      },
      "execution_count": 6,
      "outputs": [
        {
          "output_type": "execute_result",
          "data": {
            "text/plain": [
              "         tripduration                 starttime                  stoptime  \\\n",
              "1924558           304  2019-05-31 23:59:45.5760  2019-06-01 00:04:50.4620   \n",
              "1924559           324  2019-05-31 23:59:46.4650  2019-06-01 00:05:11.1630   \n",
              "1924560          1926  2019-05-31 23:59:51.5060  2019-06-01 00:31:58.3920   \n",
              "1924561          2047  2019-05-31 23:59:52.4170  2019-06-01 00:34:00.1970   \n",
              "1924562           964  2019-05-31 23:59:55.5500  2019-06-01 00:15:59.8680   \n",
              "\n",
              "         start station id       start station name  start station latitude  \\\n",
              "1924558              3175  W 70 St & Amsterdam Ave               40.777480   \n",
              "1924559              2003          1 Ave & E 18 St               40.733812   \n",
              "1924560               146     Hudson St & Reade St               40.716250   \n",
              "1924561              3658          W 18 St & 9 Ave               40.743534   \n",
              "1924562               285       Broadway & E 14 St               40.734546   \n",
              "\n",
              "         start station longitude  end station id       end station name  \\\n",
              "1924558               -73.982886             423        W 54 St & 9 Ave   \n",
              "1924559               -73.980544             536        1 Ave & E 30 St   \n",
              "1924560               -74.009106             422       W 59 St & 10 Ave   \n",
              "1924561               -74.003676            2008  Little West St & 1 Pl   \n",
              "1924562               -73.990741            3656      E 2 St & Avenue A   \n",
              "\n",
              "         end station latitude  end station longitude  bikeid    usertype  \\\n",
              "1924558             40.765849             -73.986905   32285  Subscriber   \n",
              "1924559             40.741444             -73.975361   33874  Subscriber   \n",
              "1924560             40.770513             -73.988038   33395  Subscriber   \n",
              "1924561             40.705693             -74.016777   27624  Subscriber   \n",
              "1924562             40.723077             -73.985836   32565  Subscriber   \n",
              "\n",
              "         birth year  gender  \n",
              "1924558        1987       2  \n",
              "1924559        1994       2  \n",
              "1924560        1985       1  \n",
              "1924561        1987       0  \n",
              "1924562        1992       2  "
            ],
            "text/html": [
              "\n",
              "  <div id=\"df-04ecde36-0403-45a2-8893-ae473fddab15\">\n",
              "    <div class=\"colab-df-container\">\n",
              "      <div>\n",
              "<style scoped>\n",
              "    .dataframe tbody tr th:only-of-type {\n",
              "        vertical-align: middle;\n",
              "    }\n",
              "\n",
              "    .dataframe tbody tr th {\n",
              "        vertical-align: top;\n",
              "    }\n",
              "\n",
              "    .dataframe thead th {\n",
              "        text-align: right;\n",
              "    }\n",
              "</style>\n",
              "<table border=\"1\" class=\"dataframe\">\n",
              "  <thead>\n",
              "    <tr style=\"text-align: right;\">\n",
              "      <th></th>\n",
              "      <th>tripduration</th>\n",
              "      <th>starttime</th>\n",
              "      <th>stoptime</th>\n",
              "      <th>start station id</th>\n",
              "      <th>start station name</th>\n",
              "      <th>start station latitude</th>\n",
              "      <th>start station longitude</th>\n",
              "      <th>end station id</th>\n",
              "      <th>end station name</th>\n",
              "      <th>end station latitude</th>\n",
              "      <th>end station longitude</th>\n",
              "      <th>bikeid</th>\n",
              "      <th>usertype</th>\n",
              "      <th>birth year</th>\n",
              "      <th>gender</th>\n",
              "    </tr>\n",
              "  </thead>\n",
              "  <tbody>\n",
              "    <tr>\n",
              "      <th>1924558</th>\n",
              "      <td>304</td>\n",
              "      <td>2019-05-31 23:59:45.5760</td>\n",
              "      <td>2019-06-01 00:04:50.4620</td>\n",
              "      <td>3175</td>\n",
              "      <td>W 70 St &amp; Amsterdam Ave</td>\n",
              "      <td>40.777480</td>\n",
              "      <td>-73.982886</td>\n",
              "      <td>423</td>\n",
              "      <td>W 54 St &amp; 9 Ave</td>\n",
              "      <td>40.765849</td>\n",
              "      <td>-73.986905</td>\n",
              "      <td>32285</td>\n",
              "      <td>Subscriber</td>\n",
              "      <td>1987</td>\n",
              "      <td>2</td>\n",
              "    </tr>\n",
              "    <tr>\n",
              "      <th>1924559</th>\n",
              "      <td>324</td>\n",
              "      <td>2019-05-31 23:59:46.4650</td>\n",
              "      <td>2019-06-01 00:05:11.1630</td>\n",
              "      <td>2003</td>\n",
              "      <td>1 Ave &amp; E 18 St</td>\n",
              "      <td>40.733812</td>\n",
              "      <td>-73.980544</td>\n",
              "      <td>536</td>\n",
              "      <td>1 Ave &amp; E 30 St</td>\n",
              "      <td>40.741444</td>\n",
              "      <td>-73.975361</td>\n",
              "      <td>33874</td>\n",
              "      <td>Subscriber</td>\n",
              "      <td>1994</td>\n",
              "      <td>2</td>\n",
              "    </tr>\n",
              "    <tr>\n",
              "      <th>1924560</th>\n",
              "      <td>1926</td>\n",
              "      <td>2019-05-31 23:59:51.5060</td>\n",
              "      <td>2019-06-01 00:31:58.3920</td>\n",
              "      <td>146</td>\n",
              "      <td>Hudson St &amp; Reade St</td>\n",
              "      <td>40.716250</td>\n",
              "      <td>-74.009106</td>\n",
              "      <td>422</td>\n",
              "      <td>W 59 St &amp; 10 Ave</td>\n",
              "      <td>40.770513</td>\n",
              "      <td>-73.988038</td>\n",
              "      <td>33395</td>\n",
              "      <td>Subscriber</td>\n",
              "      <td>1985</td>\n",
              "      <td>1</td>\n",
              "    </tr>\n",
              "    <tr>\n",
              "      <th>1924561</th>\n",
              "      <td>2047</td>\n",
              "      <td>2019-05-31 23:59:52.4170</td>\n",
              "      <td>2019-06-01 00:34:00.1970</td>\n",
              "      <td>3658</td>\n",
              "      <td>W 18 St &amp; 9 Ave</td>\n",
              "      <td>40.743534</td>\n",
              "      <td>-74.003676</td>\n",
              "      <td>2008</td>\n",
              "      <td>Little West St &amp; 1 Pl</td>\n",
              "      <td>40.705693</td>\n",
              "      <td>-74.016777</td>\n",
              "      <td>27624</td>\n",
              "      <td>Subscriber</td>\n",
              "      <td>1987</td>\n",
              "      <td>0</td>\n",
              "    </tr>\n",
              "    <tr>\n",
              "      <th>1924562</th>\n",
              "      <td>964</td>\n",
              "      <td>2019-05-31 23:59:55.5500</td>\n",
              "      <td>2019-06-01 00:15:59.8680</td>\n",
              "      <td>285</td>\n",
              "      <td>Broadway &amp; E 14 St</td>\n",
              "      <td>40.734546</td>\n",
              "      <td>-73.990741</td>\n",
              "      <td>3656</td>\n",
              "      <td>E 2 St &amp; Avenue A</td>\n",
              "      <td>40.723077</td>\n",
              "      <td>-73.985836</td>\n",
              "      <td>32565</td>\n",
              "      <td>Subscriber</td>\n",
              "      <td>1992</td>\n",
              "      <td>2</td>\n",
              "    </tr>\n",
              "  </tbody>\n",
              "</table>\n",
              "</div>\n",
              "      <button class=\"colab-df-convert\" onclick=\"convertToInteractive('df-04ecde36-0403-45a2-8893-ae473fddab15')\"\n",
              "              title=\"Convert this dataframe to an interactive table.\"\n",
              "              style=\"display:none;\">\n",
              "        \n",
              "  <svg xmlns=\"http://www.w3.org/2000/svg\" height=\"24px\"viewBox=\"0 0 24 24\"\n",
              "       width=\"24px\">\n",
              "    <path d=\"M0 0h24v24H0V0z\" fill=\"none\"/>\n",
              "    <path d=\"M18.56 5.44l.94 2.06.94-2.06 2.06-.94-2.06-.94-.94-2.06-.94 2.06-2.06.94zm-11 1L8.5 8.5l.94-2.06 2.06-.94-2.06-.94L8.5 2.5l-.94 2.06-2.06.94zm10 10l.94 2.06.94-2.06 2.06-.94-2.06-.94-.94-2.06-.94 2.06-2.06.94z\"/><path d=\"M17.41 7.96l-1.37-1.37c-.4-.4-.92-.59-1.43-.59-.52 0-1.04.2-1.43.59L10.3 9.45l-7.72 7.72c-.78.78-.78 2.05 0 2.83L4 21.41c.39.39.9.59 1.41.59.51 0 1.02-.2 1.41-.59l7.78-7.78 2.81-2.81c.8-.78.8-2.07 0-2.86zM5.41 20L4 18.59l7.72-7.72 1.47 1.35L5.41 20z\"/>\n",
              "  </svg>\n",
              "      </button>\n",
              "      \n",
              "  <style>\n",
              "    .colab-df-container {\n",
              "      display:flex;\n",
              "      flex-wrap:wrap;\n",
              "      gap: 12px;\n",
              "    }\n",
              "\n",
              "    .colab-df-convert {\n",
              "      background-color: #E8F0FE;\n",
              "      border: none;\n",
              "      border-radius: 50%;\n",
              "      cursor: pointer;\n",
              "      display: none;\n",
              "      fill: #1967D2;\n",
              "      height: 32px;\n",
              "      padding: 0 0 0 0;\n",
              "      width: 32px;\n",
              "    }\n",
              "\n",
              "    .colab-df-convert:hover {\n",
              "      background-color: #E2EBFA;\n",
              "      box-shadow: 0px 1px 2px rgba(60, 64, 67, 0.3), 0px 1px 3px 1px rgba(60, 64, 67, 0.15);\n",
              "      fill: #174EA6;\n",
              "    }\n",
              "\n",
              "    [theme=dark] .colab-df-convert {\n",
              "      background-color: #3B4455;\n",
              "      fill: #D2E3FC;\n",
              "    }\n",
              "\n",
              "    [theme=dark] .colab-df-convert:hover {\n",
              "      background-color: #434B5C;\n",
              "      box-shadow: 0px 1px 3px 1px rgba(0, 0, 0, 0.15);\n",
              "      filter: drop-shadow(0px 1px 2px rgba(0, 0, 0, 0.3));\n",
              "      fill: #FFFFFF;\n",
              "    }\n",
              "  </style>\n",
              "\n",
              "      <script>\n",
              "        const buttonEl =\n",
              "          document.querySelector('#df-04ecde36-0403-45a2-8893-ae473fddab15 button.colab-df-convert');\n",
              "        buttonEl.style.display =\n",
              "          google.colab.kernel.accessAllowed ? 'block' : 'none';\n",
              "\n",
              "        async function convertToInteractive(key) {\n",
              "          const element = document.querySelector('#df-04ecde36-0403-45a2-8893-ae473fddab15');\n",
              "          const dataTable =\n",
              "            await google.colab.kernel.invokeFunction('convertToInteractive',\n",
              "                                                     [key], {});\n",
              "          if (!dataTable) return;\n",
              "\n",
              "          const docLinkHtml = 'Like what you see? Visit the ' +\n",
              "            '<a target=\"_blank\" href=https://colab.research.google.com/notebooks/data_table.ipynb>data table notebook</a>'\n",
              "            + ' to learn more about interactive tables.';\n",
              "          element.innerHTML = '';\n",
              "          dataTable['output_type'] = 'display_data';\n",
              "          await google.colab.output.renderOutput(dataTable, element);\n",
              "          const docLink = document.createElement('div');\n",
              "          docLink.innerHTML = docLinkHtml;\n",
              "          element.appendChild(docLink);\n",
              "        }\n",
              "      </script>\n",
              "    </div>\n",
              "  </div>\n",
              "  "
            ]
          },
          "metadata": {},
          "execution_count": 6
        }
      ]
    },
    {
      "cell_type": "code",
      "source": [
        "cbMay19.describe()"
      ],
      "metadata": {
        "id": "WjNbebVDkAXX",
        "colab": {
          "base_uri": "https://localhost:8080/",
          "height": 362
        },
        "outputId": "0a70b8d6-a36a-4008-f198-95bfe4b41cdf"
      },
      "execution_count": 7,
      "outputs": [
        {
          "output_type": "execute_result",
          "data": {
            "text/plain": [
              "       tripduration  start station id  start station latitude  \\\n",
              "count  1.924563e+06      1.924563e+06            1.924563e+06   \n",
              "mean   1.067189e+03      1.671397e+03            4.073698e+01   \n",
              "std    1.254636e+04      1.473509e+03            3.062224e-02   \n",
              "min    6.100000e+01      7.200000e+01            4.065540e+01   \n",
              "25%    3.790000e+02      3.820000e+02            4.071740e+01   \n",
              "50%    6.530000e+02      5.160000e+02            4.073726e+01   \n",
              "75%    1.158000e+03      3.293000e+03            4.075757e+01   \n",
              "max    2.922656e+06      3.790000e+03            4.081439e+01   \n",
              "\n",
              "       start station longitude  end station id  end station latitude  \\\n",
              "count             1.924563e+06    1.924563e+06          1.924563e+06   \n",
              "mean             -7.398223e+01    1.664596e+03          4.073675e+01   \n",
              "std               1.970116e-02    1.473196e+03          3.048823e-02   \n",
              "min              -7.402535e+01    7.200000e+01          4.065540e+01   \n",
              "25%              -7.399595e+01    3.800000e+02          4.071723e+01   \n",
              "50%              -7.398518e+01    5.150000e+02          4.073705e+01   \n",
              "75%              -7.397121e+01    3.292000e+03          4.075715e+01   \n",
              "max              -7.390774e+01    3.790000e+03          4.081439e+01   \n",
              "\n",
              "       end station longitude        bikeid    birth year        gender  \n",
              "count           1.924563e+06  1.924563e+06  1.924563e+06  1.924563e+06  \n",
              "mean           -7.398248e+01  2.712861e+04  1.979833e+03  1.152992e+00  \n",
              "std             1.976340e-02  6.404188e+03  1.199213e+01  5.516776e-01  \n",
              "min            -7.406860e+01  1.452900e+04  1.885000e+03  0.000000e+00  \n",
              "25%            -7.399601e+01  2.082600e+04  1.969000e+03  1.000000e+00  \n",
              "50%            -7.398584e+01  2.878200e+04  1.982000e+03  1.000000e+00  \n",
              "75%            -7.397152e+01  3.257600e+04  1.990000e+03  1.000000e+00  \n",
              "max            -7.390774e+01  3.800200e+04  2.003000e+03  2.000000e+00  "
            ],
            "text/html": [
              "\n",
              "  <div id=\"df-607e6c88-9366-43e8-9d33-a1a6845a955e\">\n",
              "    <div class=\"colab-df-container\">\n",
              "      <div>\n",
              "<style scoped>\n",
              "    .dataframe tbody tr th:only-of-type {\n",
              "        vertical-align: middle;\n",
              "    }\n",
              "\n",
              "    .dataframe tbody tr th {\n",
              "        vertical-align: top;\n",
              "    }\n",
              "\n",
              "    .dataframe thead th {\n",
              "        text-align: right;\n",
              "    }\n",
              "</style>\n",
              "<table border=\"1\" class=\"dataframe\">\n",
              "  <thead>\n",
              "    <tr style=\"text-align: right;\">\n",
              "      <th></th>\n",
              "      <th>tripduration</th>\n",
              "      <th>start station id</th>\n",
              "      <th>start station latitude</th>\n",
              "      <th>start station longitude</th>\n",
              "      <th>end station id</th>\n",
              "      <th>end station latitude</th>\n",
              "      <th>end station longitude</th>\n",
              "      <th>bikeid</th>\n",
              "      <th>birth year</th>\n",
              "      <th>gender</th>\n",
              "    </tr>\n",
              "  </thead>\n",
              "  <tbody>\n",
              "    <tr>\n",
              "      <th>count</th>\n",
              "      <td>1.924563e+06</td>\n",
              "      <td>1.924563e+06</td>\n",
              "      <td>1.924563e+06</td>\n",
              "      <td>1.924563e+06</td>\n",
              "      <td>1.924563e+06</td>\n",
              "      <td>1.924563e+06</td>\n",
              "      <td>1.924563e+06</td>\n",
              "      <td>1.924563e+06</td>\n",
              "      <td>1.924563e+06</td>\n",
              "      <td>1.924563e+06</td>\n",
              "    </tr>\n",
              "    <tr>\n",
              "      <th>mean</th>\n",
              "      <td>1.067189e+03</td>\n",
              "      <td>1.671397e+03</td>\n",
              "      <td>4.073698e+01</td>\n",
              "      <td>-7.398223e+01</td>\n",
              "      <td>1.664596e+03</td>\n",
              "      <td>4.073675e+01</td>\n",
              "      <td>-7.398248e+01</td>\n",
              "      <td>2.712861e+04</td>\n",
              "      <td>1.979833e+03</td>\n",
              "      <td>1.152992e+00</td>\n",
              "    </tr>\n",
              "    <tr>\n",
              "      <th>std</th>\n",
              "      <td>1.254636e+04</td>\n",
              "      <td>1.473509e+03</td>\n",
              "      <td>3.062224e-02</td>\n",
              "      <td>1.970116e-02</td>\n",
              "      <td>1.473196e+03</td>\n",
              "      <td>3.048823e-02</td>\n",
              "      <td>1.976340e-02</td>\n",
              "      <td>6.404188e+03</td>\n",
              "      <td>1.199213e+01</td>\n",
              "      <td>5.516776e-01</td>\n",
              "    </tr>\n",
              "    <tr>\n",
              "      <th>min</th>\n",
              "      <td>6.100000e+01</td>\n",
              "      <td>7.200000e+01</td>\n",
              "      <td>4.065540e+01</td>\n",
              "      <td>-7.402535e+01</td>\n",
              "      <td>7.200000e+01</td>\n",
              "      <td>4.065540e+01</td>\n",
              "      <td>-7.406860e+01</td>\n",
              "      <td>1.452900e+04</td>\n",
              "      <td>1.885000e+03</td>\n",
              "      <td>0.000000e+00</td>\n",
              "    </tr>\n",
              "    <tr>\n",
              "      <th>25%</th>\n",
              "      <td>3.790000e+02</td>\n",
              "      <td>3.820000e+02</td>\n",
              "      <td>4.071740e+01</td>\n",
              "      <td>-7.399595e+01</td>\n",
              "      <td>3.800000e+02</td>\n",
              "      <td>4.071723e+01</td>\n",
              "      <td>-7.399601e+01</td>\n",
              "      <td>2.082600e+04</td>\n",
              "      <td>1.969000e+03</td>\n",
              "      <td>1.000000e+00</td>\n",
              "    </tr>\n",
              "    <tr>\n",
              "      <th>50%</th>\n",
              "      <td>6.530000e+02</td>\n",
              "      <td>5.160000e+02</td>\n",
              "      <td>4.073726e+01</td>\n",
              "      <td>-7.398518e+01</td>\n",
              "      <td>5.150000e+02</td>\n",
              "      <td>4.073705e+01</td>\n",
              "      <td>-7.398584e+01</td>\n",
              "      <td>2.878200e+04</td>\n",
              "      <td>1.982000e+03</td>\n",
              "      <td>1.000000e+00</td>\n",
              "    </tr>\n",
              "    <tr>\n",
              "      <th>75%</th>\n",
              "      <td>1.158000e+03</td>\n",
              "      <td>3.293000e+03</td>\n",
              "      <td>4.075757e+01</td>\n",
              "      <td>-7.397121e+01</td>\n",
              "      <td>3.292000e+03</td>\n",
              "      <td>4.075715e+01</td>\n",
              "      <td>-7.397152e+01</td>\n",
              "      <td>3.257600e+04</td>\n",
              "      <td>1.990000e+03</td>\n",
              "      <td>1.000000e+00</td>\n",
              "    </tr>\n",
              "    <tr>\n",
              "      <th>max</th>\n",
              "      <td>2.922656e+06</td>\n",
              "      <td>3.790000e+03</td>\n",
              "      <td>4.081439e+01</td>\n",
              "      <td>-7.390774e+01</td>\n",
              "      <td>3.790000e+03</td>\n",
              "      <td>4.081439e+01</td>\n",
              "      <td>-7.390774e+01</td>\n",
              "      <td>3.800200e+04</td>\n",
              "      <td>2.003000e+03</td>\n",
              "      <td>2.000000e+00</td>\n",
              "    </tr>\n",
              "  </tbody>\n",
              "</table>\n",
              "</div>\n",
              "      <button class=\"colab-df-convert\" onclick=\"convertToInteractive('df-607e6c88-9366-43e8-9d33-a1a6845a955e')\"\n",
              "              title=\"Convert this dataframe to an interactive table.\"\n",
              "              style=\"display:none;\">\n",
              "        \n",
              "  <svg xmlns=\"http://www.w3.org/2000/svg\" height=\"24px\"viewBox=\"0 0 24 24\"\n",
              "       width=\"24px\">\n",
              "    <path d=\"M0 0h24v24H0V0z\" fill=\"none\"/>\n",
              "    <path d=\"M18.56 5.44l.94 2.06.94-2.06 2.06-.94-2.06-.94-.94-2.06-.94 2.06-2.06.94zm-11 1L8.5 8.5l.94-2.06 2.06-.94-2.06-.94L8.5 2.5l-.94 2.06-2.06.94zm10 10l.94 2.06.94-2.06 2.06-.94-2.06-.94-.94-2.06-.94 2.06-2.06.94z\"/><path d=\"M17.41 7.96l-1.37-1.37c-.4-.4-.92-.59-1.43-.59-.52 0-1.04.2-1.43.59L10.3 9.45l-7.72 7.72c-.78.78-.78 2.05 0 2.83L4 21.41c.39.39.9.59 1.41.59.51 0 1.02-.2 1.41-.59l7.78-7.78 2.81-2.81c.8-.78.8-2.07 0-2.86zM5.41 20L4 18.59l7.72-7.72 1.47 1.35L5.41 20z\"/>\n",
              "  </svg>\n",
              "      </button>\n",
              "      \n",
              "  <style>\n",
              "    .colab-df-container {\n",
              "      display:flex;\n",
              "      flex-wrap:wrap;\n",
              "      gap: 12px;\n",
              "    }\n",
              "\n",
              "    .colab-df-convert {\n",
              "      background-color: #E8F0FE;\n",
              "      border: none;\n",
              "      border-radius: 50%;\n",
              "      cursor: pointer;\n",
              "      display: none;\n",
              "      fill: #1967D2;\n",
              "      height: 32px;\n",
              "      padding: 0 0 0 0;\n",
              "      width: 32px;\n",
              "    }\n",
              "\n",
              "    .colab-df-convert:hover {\n",
              "      background-color: #E2EBFA;\n",
              "      box-shadow: 0px 1px 2px rgba(60, 64, 67, 0.3), 0px 1px 3px 1px rgba(60, 64, 67, 0.15);\n",
              "      fill: #174EA6;\n",
              "    }\n",
              "\n",
              "    [theme=dark] .colab-df-convert {\n",
              "      background-color: #3B4455;\n",
              "      fill: #D2E3FC;\n",
              "    }\n",
              "\n",
              "    [theme=dark] .colab-df-convert:hover {\n",
              "      background-color: #434B5C;\n",
              "      box-shadow: 0px 1px 3px 1px rgba(0, 0, 0, 0.15);\n",
              "      filter: drop-shadow(0px 1px 2px rgba(0, 0, 0, 0.3));\n",
              "      fill: #FFFFFF;\n",
              "    }\n",
              "  </style>\n",
              "\n",
              "      <script>\n",
              "        const buttonEl =\n",
              "          document.querySelector('#df-607e6c88-9366-43e8-9d33-a1a6845a955e button.colab-df-convert');\n",
              "        buttonEl.style.display =\n",
              "          google.colab.kernel.accessAllowed ? 'block' : 'none';\n",
              "\n",
              "        async function convertToInteractive(key) {\n",
              "          const element = document.querySelector('#df-607e6c88-9366-43e8-9d33-a1a6845a955e');\n",
              "          const dataTable =\n",
              "            await google.colab.kernel.invokeFunction('convertToInteractive',\n",
              "                                                     [key], {});\n",
              "          if (!dataTable) return;\n",
              "\n",
              "          const docLinkHtml = 'Like what you see? Visit the ' +\n",
              "            '<a target=\"_blank\" href=https://colab.research.google.com/notebooks/data_table.ipynb>data table notebook</a>'\n",
              "            + ' to learn more about interactive tables.';\n",
              "          element.innerHTML = '';\n",
              "          dataTable['output_type'] = 'display_data';\n",
              "          await google.colab.output.renderOutput(dataTable, element);\n",
              "          const docLink = document.createElement('div');\n",
              "          docLink.innerHTML = docLinkHtml;\n",
              "          element.appendChild(docLink);\n",
              "        }\n",
              "      </script>\n",
              "    </div>\n",
              "  </div>\n",
              "  "
            ]
          },
          "metadata": {},
          "execution_count": 7
        }
      ]
    },
    {
      "cell_type": "code",
      "source": [
        "cbMay19.info()"
      ],
      "metadata": {
        "colab": {
          "base_uri": "https://localhost:8080/"
        },
        "id": "d9MVzFSVl_7J",
        "outputId": "81cfe74b-158b-44e0-9cfa-fa5cf152d73c"
      },
      "execution_count": 8,
      "outputs": [
        {
          "output_type": "stream",
          "name": "stdout",
          "text": [
            "<class 'pandas.core.frame.DataFrame'>\n",
            "RangeIndex: 1924563 entries, 0 to 1924562\n",
            "Data columns (total 15 columns):\n",
            " #   Column                   Dtype  \n",
            "---  ------                   -----  \n",
            " 0   tripduration             int64  \n",
            " 1   starttime                object \n",
            " 2   stoptime                 object \n",
            " 3   start station id         int64  \n",
            " 4   start station name       object \n",
            " 5   start station latitude   float64\n",
            " 6   start station longitude  float64\n",
            " 7   end station id           int64  \n",
            " 8   end station name         object \n",
            " 9   end station latitude     float64\n",
            " 10  end station longitude    float64\n",
            " 11  bikeid                   int64  \n",
            " 12  usertype                 object \n",
            " 13  birth year               int64  \n",
            " 14  gender                   int64  \n",
            "dtypes: float64(4), int64(6), object(5)\n",
            "memory usage: 220.2+ MB\n"
          ]
        }
      ]
    },
    {
      "cell_type": "markdown",
      "source": [
        "You hsould have noticed the column gender: its encoded as a binary - 1 is for customers that identified as male, 2 for customers that identified as female. 0 is for non-binary and not registered genders"
      ],
      "metadata": {
        "id": "CS3tzONafwg0"
      }
    },
    {
      "cell_type": "markdown",
      "source": [
        "Because your variable of interest is \"tripduration\" explore this variable in some more detail. "
      ],
      "metadata": {
        "id": "VG0ywkiUBfXP"
      }
    },
    {
      "cell_type": "markdown",
      "source": [
        "## Plot the trip duration distribution\n",
        "\n",
        "hint: when I say plot the distribution generally that means make a histogram\n"
      ],
      "metadata": {
        "id": "w72NVQw1BlQT"
      }
    },
    {
      "cell_type": "code",
      "source": [
        "cbMay19.columns"
      ],
      "metadata": {
        "colab": {
          "base_uri": "https://localhost:8080/"
        },
        "id": "htwELQlApbpj",
        "outputId": "a8afc85c-cea4-4af7-de8b-cb93979cf1bd"
      },
      "execution_count": 9,
      "outputs": [
        {
          "output_type": "execute_result",
          "data": {
            "text/plain": [
              "Index(['tripduration', 'starttime', 'stoptime', 'start station id',\n",
              "       'start station name', 'start station latitude',\n",
              "       'start station longitude', 'end station id', 'end station name',\n",
              "       'end station latitude', 'end station longitude', 'bikeid', 'usertype',\n",
              "       'birth year', 'gender'],\n",
              "      dtype='object')"
            ]
          },
          "metadata": {},
          "execution_count": 9
        }
      ]
    },
    {
      "cell_type": "code",
      "source": [
        "# your code here\n",
        "plt.hist(cbMay19[\"tripduration\"])\n",
        "plt.title(\"Trip Duration\")\n",
        "plt.xlabel(\"Trip Duration in minutes\")\n",
        "plt.ylabel(\"# of Trips\")"
      ],
      "metadata": {
        "colab": {
          "base_uri": "https://localhost:8080/",
          "height": 312
        },
        "id": "z49jY4_xB4x8",
        "outputId": "55cfe679-996a-49bb-a033-8186933684f8"
      },
      "execution_count": 37,
      "outputs": [
        {
          "output_type": "execute_result",
          "data": {
            "text/plain": [
              "Text(0, 0.5, '# of Trips')"
            ]
          },
          "metadata": {},
          "execution_count": 37
        },
        {
          "output_type": "display_data",
          "data": {
            "text/plain": [
              "<Figure size 432x288 with 1 Axes>"
            ],
            "image/png": "[encoded data removed]"
          },
          "metadata": {
            "needs_background": "light"
          }
        }
      ]
    },
    {
      "cell_type": "markdown",
      "source": [
        "Figure 1:. ..."
      ],
      "metadata": {
        "id": "k67tIw-hB9ea"
      }
    },
    {
      "cell_type": "markdown",
      "source": [
        "there are some really large numbers... trips that last >1000000 minutes...  clearly this is a data curation issue. \n",
        "\n",
        "You need to clean the data by removin all data for which tripduration > 1 day (remember the duration is in minutes) and remake the plot\n",
        "\n",
        "\n",
        "You can do it by setting the condition \n",
        "\n",
        "```cbMay19[\"tripduration\"] < ...```\n",
        "\n",
        "and using this condition as an index\n",
        "\n",
        "```cbMay19_clean = cbMay19[cbMay19[\"tripduration\"]....```\n",
        "\n",
        "Remake the histogram, now the sahape of the tripduration distribution should be much clearer"
      ],
      "metadata": {
        "id": "PJ05tSklhdtJ"
      }
    },
    {
      "cell_type": "code",
      "source": [
        "# your code here\n",
        "cbMay19_clean = cbMay19[cbMay19[\"tripduration\"] < 1440]\n",
        "plt.hist(cbMay19_clean[\"tripduration\"])\n",
        "plt.title(\"Trip Duration\")\n",
        "plt.xlabel(\"Trip Duration in minutes\")\n",
        "plt.ylabel(\"# of Trips\")"
      ],
      "metadata": {
        "id": "-kgSltXXCl6L",
        "colab": {
          "base_uri": "https://localhost:8080/",
          "height": 312
        },
        "outputId": "7dc1ab3d-97dc-44e3-eea5-bb2b575e4ca1"
      },
      "execution_count": 38,
      "outputs": [
        {
          "output_type": "execute_result",
          "data": {
            "text/plain": [
              "Text(0, 0.5, '# of Trips')"
            ]
          },
          "metadata": {},
          "execution_count": 38
        },
        {
          "output_type": "display_data",
          "data": {
            "text/plain": [
              "<Figure size 432x288 with 1 Axes>"
            ],
            "image/png": "[encoded data removed]"
          },
          "metadata": {
            "needs_background": "light"
          }
        }
      ]
    },
    {
      "cell_type": "markdown",
      "source": [
        "Figure 2: ..."
      ],
      "metadata": {
        "id": "4CWrVbvFCnmJ"
      }
    },
    {
      "cell_type": "markdown",
      "metadata": {
        "id": "MNdxEpGHc3Uy"
      },
      "source": [
        "# Data Wrangling \n",
        "\n",
        "Split the data into two dataframes by gender\n",
        "save the data corresponding to \"gender\" == 1 and the data corresponding to \"gender\" == 2 into two separate dataframes. Again you can do it by setting a condition on the column ```[\"gender\"]```"
      ]
    },
    {
      "cell_type": "code",
      "source": [
        "df = pd.DataFrame(cbMay19_clean)\n",
        "men = df[df[\"gender\"] == 1]\n",
        "men\n"
      ],
      "metadata": {
        "id": "PQFl0umSgu4Z",
        "colab": {
          "base_uri": "https://localhost:8080/",
          "height": 693
        },
        "outputId": "7277b833-2d93-47e9-b202-fe4acc2608f0"
      },
      "execution_count": 12,
      "outputs": [
        {
          "output_type": "execute_result",
          "data": {
            "text/plain": [
              "         tripduration                 starttime                  stoptime  \\\n",
              "0                 139  2019-05-01 00:00:01.9010  2019-05-01 00:02:21.5170   \n",
              "3                 143  2019-05-01 00:00:19.3340  2019-05-01 00:02:42.5200   \n",
              "4                 138  2019-05-01 00:00:22.1840  2019-05-01 00:02:40.6480   \n",
              "6                 514  2019-05-01 00:01:06.0520  2019-05-01 00:09:40.1670   \n",
              "7                 524  2019-05-01 00:01:21.0070  2019-05-01 00:10:05.9440   \n",
              "...               ...                       ...                       ...   \n",
              "1924548           187  2019-05-31 23:59:21.1690  2019-06-01 00:02:28.7060   \n",
              "1924549           345  2019-05-31 23:59:22.6070  2019-06-01 00:05:08.5390   \n",
              "1924551           233  2019-05-31 23:59:28.4400  2019-06-01 00:03:21.5050   \n",
              "1924553           824  2019-05-31 23:59:29.8370  2019-06-01 00:13:13.8450   \n",
              "1924555           432  2019-05-31 23:59:41.6790  2019-06-01 00:06:54.2000   \n",
              "\n",
              "         start station id         start station name  start station latitude  \\\n",
              "0                     447            8 Ave & W 52 St               40.763707   \n",
              "3                    3486  Schermerhorn St & Bond St               40.688417   \n",
              "4                     388           W 26 St & 10 Ave               40.749718   \n",
              "6                     439             E 4 St & 2 Ave               40.726281   \n",
              "7                     380           W 4 St & 7 Ave S               40.734011   \n",
              "...                   ...                        ...                     ...   \n",
              "1924548              3496           1 Ave & E 110 St               40.792327   \n",
              "1924549              3298       Warren St & Court St               40.686371   \n",
              "1924551              3232        Bond St & Fulton St               40.689622   \n",
              "1924553              3117    Franklin St & Dupont St               40.735640   \n",
              "1924555               382    University Pl & E 14 St               40.734927   \n",
              "\n",
              "         start station longitude  end station id             end station name  \\\n",
              "0                     -73.985162             423              W 54 St & 9 Ave   \n",
              "3                     -73.984517            3412       Pacific St & Nevins St   \n",
              "4                     -74.002950             494              W 26 St & 8 Ave   \n",
              "6                     -73.989780             336  Sullivan St & Washington Sq   \n",
              "7                     -74.002939             439               E 4 St & 2 Ave   \n",
              "...                          ...             ...                          ...   \n",
              "1924548               -73.938300            3502     Lexington Ave & E 111 St   \n",
              "1924549               -73.993833            3377         Carroll St & Bond St   \n",
              "1924551               -73.983043            3411          Bond St & Bergen St   \n",
              "1924553               -73.958660            3093         N 6 St & Bedford Ave   \n",
              "1924555               -73.992005             507              E 25 St & 2 Ave   \n",
              "\n",
              "         end station latitude  end station longitude  bikeid    usertype  \\\n",
              "0                   40.765849             -73.986905   31170  Subscriber   \n",
              "3                   40.685376             -73.983021   32041  Subscriber   \n",
              "4                   40.747348             -73.997236   35237  Subscriber   \n",
              "6                   40.730477             -73.999061   15160  Subscriber   \n",
              "7                   40.726281             -73.989780   16742  Subscriber   \n",
              "...                       ...                    ...     ...         ...   \n",
              "1924548             40.795412             -73.944123   26794  Subscriber   \n",
              "1924549             40.678612             -73.990373   33433  Subscriber   \n",
              "1924551             40.684967             -73.986208   34972  Subscriber   \n",
              "1924553             40.717452             -73.958509   15228  Subscriber   \n",
              "1924555             40.739126             -73.979738   21562  Subscriber   \n",
              "\n",
              "         birth year  gender  \n",
              "0              1983       1  \n",
              "3              1997       1  \n",
              "4              1967       1  \n",
              "6              1988       1  \n",
              "7              1964       1  \n",
              "...             ...     ...  \n",
              "1924548        1992       1  \n",
              "1924549        1993       1  \n",
              "1924551        1974       1  \n",
              "1924553        1987       1  \n",
              "1924555        1995       1  \n",
              "\n",
              "[1121342 rows x 15 columns]"
            ],
            "text/html": [
              "\n",
              "  <div id=\"df-619c05cd-e152-4c3f-b652-15f24485ddde\">\n",
              "    <div class=\"colab-df-container\">\n",
              "      <div>\n",
              "<style scoped>\n",
              "    .dataframe tbody tr th:only-of-type {\n",
              "        vertical-align: middle;\n",
              "    }\n",
              "\n",
              "    .dataframe tbody tr th {\n",
              "        vertical-align: top;\n",
              "    }\n",
              "\n",
              "    .dataframe thead th {\n",
              "        text-align: right;\n",
              "    }\n",
              "</style>\n",
              "<table border=\"1\" class=\"dataframe\">\n",
              "  <thead>\n",
              "    <tr style=\"text-align: right;\">\n",
              "      <th></th>\n",
              "      <th>tripduration</th>\n",
              "      <th>starttime</th>\n",
              "      <th>stoptime</th>\n",
              "      <th>start station id</th>\n",
              "      <th>start station name</th>\n",
              "      <th>start station latitude</th>\n",
              "      <th>start station longitude</th>\n",
              "      <th>end station id</th>\n",
              "      <th>end station name</th>\n",
              "      <th>end station latitude</th>\n",
              "      <th>end station longitude</th>\n",
              "      <th>bikeid</th>\n",
              "      <th>usertype</th>\n",
              "      <th>birth year</th>\n",
              "      <th>gender</th>\n",
              "    </tr>\n",
              "  </thead>\n",
              "  <tbody>\n",
              "    <tr>\n",
              "      <th>0</th>\n",
              "      <td>139</td>\n",
              "      <td>2019-05-01 00:00:01.9010</td>\n",
              "      <td>2019-05-01 00:02:21.5170</td>\n",
              "      <td>447</td>\n",
              "      <td>8 Ave &amp; W 52 St</td>\n",
              "      <td>40.763707</td>\n",
              "      <td>-73.985162</td>\n",
              "      <td>423</td>\n",
              "      <td>W 54 St &amp; 9 Ave</td>\n",
              "      <td>40.765849</td>\n",
              "      <td>-73.986905</td>\n",
              "      <td>31170</td>\n",
              "      <td>Subscriber</td>\n",
              "      <td>1983</td>\n",
              "      <td>1</td>\n",
              "    </tr>\n",
              "    <tr>\n",
              "      <th>3</th>\n",
              "      <td>143</td>\n",
              "      <td>2019-05-01 00:00:19.3340</td>\n",
              "      <td>2019-05-01 00:02:42.5200</td>\n",
              "      <td>3486</td>\n",
              "      <td>Schermerhorn St &amp; Bond St</td>\n",
              "      <td>40.688417</td>\n",
              "      <td>-73.984517</td>\n",
              "      <td>3412</td>\n",
              "      <td>Pacific St &amp; Nevins St</td>\n",
              "      <td>40.685376</td>\n",
              "      <td>-73.983021</td>\n",
              "      <td>32041</td>\n",
              "      <td>Subscriber</td>\n",
              "      <td>1997</td>\n",
              "      <td>1</td>\n",
              "    </tr>\n",
              "    <tr>\n",
              "      <th>4</th>\n",
              "      <td>138</td>\n",
              "      <td>2019-05-01 00:00:22.1840</td>\n",
              "      <td>2019-05-01 00:02:40.6480</td>\n",
              "      <td>388</td>\n",
              "      <td>W 26 St &amp; 10 Ave</td>\n",
              "      <td>40.749718</td>\n",
              "      <td>-74.002950</td>\n",
              "      <td>494</td>\n",
              "      <td>W 26 St &amp; 8 Ave</td>\n",
              "      <td>40.747348</td>\n",
              "      <td>-73.997236</td>\n",
              "      <td>35237</td>\n",
              "      <td>Subscriber</td>\n",
              "      <td>1967</td>\n",
              "      <td>1</td>\n",
              "    </tr>\n",
              "    <tr>\n",
              "      <th>6</th>\n",
              "      <td>514</td>\n",
              "      <td>2019-05-01 00:01:06.0520</td>\n",
              "      <td>2019-05-01 00:09:40.1670</td>\n",
              "      <td>439</td>\n",
              "      <td>E 4 St &amp; 2 Ave</td>\n",
              "      <td>40.726281</td>\n",
              "      <td>-73.989780</td>\n",
              "      <td>336</td>\n",
              "      <td>Sullivan St &amp; Washington Sq</td>\n",
              "      <td>40.730477</td>\n",
              "      <td>-73.999061</td>\n",
              "      <td>15160</td>\n",
              "      <td>Subscriber</td>\n",
              "      <td>1988</td>\n",
              "      <td>1</td>\n",
              "    </tr>\n",
              "    <tr>\n",
              "      <th>7</th>\n",
              "      <td>524</td>\n",
              "      <td>2019-05-01 00:01:21.0070</td>\n",
              "      <td>2019-05-01 00:10:05.9440</td>\n",
              "      <td>380</td>\n",
              "      <td>W 4 St &amp; 7 Ave S</td>\n",
              "      <td>40.734011</td>\n",
              "      <td>-74.002939</td>\n",
              "      <td>439</td>\n",
              "      <td>E 4 St &amp; 2 Ave</td>\n",
              "      <td>40.726281</td>\n",
              "      <td>-73.989780</td>\n",
              "      <td>16742</td>\n",
              "      <td>Subscriber</td>\n",
              "      <td>1964</td>\n",
              "      <td>1</td>\n",
              "    </tr>\n",
              "    <tr>\n",
              "      <th>...</th>\n",
              "      <td>...</td>\n",
              "      <td>...</td>\n",
              "      <td>...</td>\n",
              "      <td>...</td>\n",
              "      <td>...</td>\n",
              "      <td>...</td>\n",
              "      <td>...</td>\n",
              "      <td>...</td>\n",
              "      <td>...</td>\n",
              "      <td>...</td>\n",
              "      <td>...</td>\n",
              "      <td>...</td>\n",
              "      <td>...</td>\n",
              "      <td>...</td>\n",
              "      <td>...</td>\n",
              "    </tr>\n",
              "    <tr>\n",
              "      <th>1924548</th>\n",
              "      <td>187</td>\n",
              "      <td>2019-05-31 23:59:21.1690</td>\n",
              "      <td>2019-06-01 00:02:28.7060</td>\n",
              "      <td>3496</td>\n",
              "      <td>1 Ave &amp; E 110 St</td>\n",
              "      <td>40.792327</td>\n",
              "      <td>-73.938300</td>\n",
              "      <td>3502</td>\n",
              "      <td>Lexington Ave &amp; E 111 St</td>\n",
              "      <td>40.795412</td>\n",
              "      <td>-73.944123</td>\n",
              "      <td>26794</td>\n",
              "      <td>Subscriber</td>\n",
              "      <td>1992</td>\n",
              "      <td>1</td>\n",
              "    </tr>\n",
              "    <tr>\n",
              "      <th>1924549</th>\n",
              "      <td>345</td>\n",
              "      <td>2019-05-31 23:59:22.6070</td>\n",
              "      <td>2019-06-01 00:05:08.5390</td>\n",
              "      <td>3298</td>\n",
              "      <td>Warren St &amp; Court St</td>\n",
              "      <td>40.686371</td>\n",
              "      <td>-73.993833</td>\n",
              "      <td>3377</td>\n",
              "      <td>Carroll St &amp; Bond St</td>\n",
              "      <td>40.678612</td>\n",
              "      <td>-73.990373</td>\n",
              "      <td>33433</td>\n",
              "      <td>Subscriber</td>\n",
              "      <td>1993</td>\n",
              "      <td>1</td>\n",
              "    </tr>\n",
              "    <tr>\n",
              "      <th>1924551</th>\n",
              "      <td>233</td>\n",
              "      <td>2019-05-31 23:59:28.4400</td>\n",
              "      <td>2019-06-01 00:03:21.5050</td>\n",
              "      <td>3232</td>\n",
              "      <td>Bond St &amp; Fulton St</td>\n",
              "      <td>40.689622</td>\n",
              "      <td>-73.983043</td>\n",
              "      <td>3411</td>\n",
              "      <td>Bond St &amp; Bergen St</td>\n",
              "      <td>40.684967</td>\n",
              "      <td>-73.986208</td>\n",
              "      <td>34972</td>\n",
              "      <td>Subscriber</td>\n",
              "      <td>1974</td>\n",
              "      <td>1</td>\n",
              "    </tr>\n",
              "    <tr>\n",
              "      <th>1924553</th>\n",
              "      <td>824</td>\n",
              "      <td>2019-05-31 23:59:29.8370</td>\n",
              "      <td>2019-06-01 00:13:13.8450</td>\n",
              "      <td>3117</td>\n",
              "      <td>Franklin St &amp; Dupont St</td>\n",
              "      <td>40.735640</td>\n",
              "      <td>-73.958660</td>\n",
              "      <td>3093</td>\n",
              "      <td>N 6 St &amp; Bedford Ave</td>\n",
              "      <td>40.717452</td>\n",
              "      <td>-73.958509</td>\n",
              "      <td>15228</td>\n",
              "      <td>Subscriber</td>\n",
              "      <td>1987</td>\n",
              "      <td>1</td>\n",
              "    </tr>\n",
              "    <tr>\n",
              "      <th>1924555</th>\n",
              "      <td>432</td>\n",
              "      <td>2019-05-31 23:59:41.6790</td>\n",
              "      <td>2019-06-01 00:06:54.2000</td>\n",
              "      <td>382</td>\n",
              "      <td>University Pl &amp; E 14 St</td>\n",
              "      <td>40.734927</td>\n",
              "      <td>-73.992005</td>\n",
              "      <td>507</td>\n",
              "      <td>E 25 St &amp; 2 Ave</td>\n",
              "      <td>40.739126</td>\n",
              "      <td>-73.979738</td>\n",
              "      <td>21562</td>\n",
              "      <td>Subscriber</td>\n",
              "      <td>1995</td>\n",
              "      <td>1</td>\n",
              "    </tr>\n",
              "  </tbody>\n",
              "</table>\n",
              "<p>1121342 rows × 15 columns</p>\n",
              "</div>\n",
              "      <button class=\"colab-df-convert\" onclick=\"convertToInteractive('df-619c05cd-e152-4c3f-b652-15f24485ddde')\"\n",
              "              title=\"Convert this dataframe to an interactive table.\"\n",
              "              style=\"display:none;\">\n",
              "        \n",
              "  <svg xmlns=\"http://www.w3.org/2000/svg\" height=\"24px\"viewBox=\"0 0 24 24\"\n",
              "       width=\"24px\">\n",
              "    <path d=\"M0 0h24v24H0V0z\" fill=\"none\"/>\n",
              "    <path d=\"M18.56 5.44l.94 2.06.94-2.06 2.06-.94-2.06-.94-.94-2.06-.94 2.06-2.06.94zm-11 1L8.5 8.5l.94-2.06 2.06-.94-2.06-.94L8.5 2.5l-.94 2.06-2.06.94zm10 10l.94 2.06.94-2.06 2.06-.94-2.06-.94-.94-2.06-.94 2.06-2.06.94z\"/><path d=\"M17.41 7.96l-1.37-1.37c-.4-.4-.92-.59-1.43-.59-.52 0-1.04.2-1.43.59L10.3 9.45l-7.72 7.72c-.78.78-.78 2.05 0 2.83L4 21.41c.39.39.9.59 1.41.59.51 0 1.02-.2 1.41-.59l7.78-7.78 2.81-2.81c.8-.78.8-2.07 0-2.86zM5.41 20L4 18.59l7.72-7.72 1.47 1.35L5.41 20z\"/>\n",
              "  </svg>\n",
              "      </button>\n",
              "      \n",
              "  <style>\n",
              "    .colab-df-container {\n",
              "      display:flex;\n",
              "      flex-wrap:wrap;\n",
              "      gap: 12px;\n",
              "    }\n",
              "\n",
              "    .colab-df-convert {\n",
              "      background-color: #E8F0FE;\n",
              "      border: none;\n",
              "      border-radius: 50%;\n",
              "      cursor: pointer;\n",
              "      display: none;\n",
              "      fill: #1967D2;\n",
              "      height: 32px;\n",
              "      padding: 0 0 0 0;\n",
              "      width: 32px;\n",
              "    }\n",
              "\n",
              "    .colab-df-convert:hover {\n",
              "      background-color: #E2EBFA;\n",
              "      box-shadow: 0px 1px 2px rgba(60, 64, 67, 0.3), 0px 1px 3px 1px rgba(60, 64, 67, 0.15);\n",
              "      fill: #174EA6;\n",
              "    }\n",
              "\n",
              "    [theme=dark] .colab-df-convert {\n",
              "      background-color: #3B4455;\n",
              "      fill: #D2E3FC;\n",
              "    }\n",
              "\n",
              "    [theme=dark] .colab-df-convert:hover {\n",
              "      background-color: #434B5C;\n",
              "      box-shadow: 0px 1px 3px 1px rgba(0, 0, 0, 0.15);\n",
              "      filter: drop-shadow(0px 1px 2px rgba(0, 0, 0, 0.3));\n",
              "      fill: #FFFFFF;\n",
              "    }\n",
              "  </style>\n",
              "\n",
              "      <script>\n",
              "        const buttonEl =\n",
              "          document.querySelector('#df-619c05cd-e152-4c3f-b652-15f24485ddde button.colab-df-convert');\n",
              "        buttonEl.style.display =\n",
              "          google.colab.kernel.accessAllowed ? 'block' : 'none';\n",
              "\n",
              "        async function convertToInteractive(key) {\n",
              "          const element = document.querySelector('#df-619c05cd-e152-4c3f-b652-15f24485ddde');\n",
              "          const dataTable =\n",
              "            await google.colab.kernel.invokeFunction('convertToInteractive',\n",
              "                                                     [key], {});\n",
              "          if (!dataTable) return;\n",
              "\n",
              "          const docLinkHtml = 'Like what you see? Visit the ' +\n",
              "            '<a target=\"_blank\" href=https://colab.research.google.com/notebooks/data_table.ipynb>data table notebook</a>'\n",
              "            + ' to learn more about interactive tables.';\n",
              "          element.innerHTML = '';\n",
              "          dataTable['output_type'] = 'display_data';\n",
              "          await google.colab.output.renderOutput(dataTable, element);\n",
              "          const docLink = document.createElement('div');\n",
              "          docLink.innerHTML = docLinkHtml;\n",
              "          element.appendChild(docLink);\n",
              "        }\n",
              "      </script>\n",
              "    </div>\n",
              "  </div>\n",
              "  "
            ]
          },
          "metadata": {},
          "execution_count": 12
        }
      ]
    },
    {
      "cell_type": "code",
      "source": [
        "df = pd.DataFrame(cbMay19_clean)\n",
        "women = df[df[\"gender\"] == 2]\n",
        "women"
      ],
      "metadata": {
        "colab": {
          "base_uri": "https://localhost:8080/",
          "height": 710
        },
        "id": "4_LkRjdp6wsL",
        "outputId": "3523d212-141b-4f69-e5cf-e7f1ba9acf73"
      },
      "execution_count": 13,
      "outputs": [
        {
          "output_type": "execute_result",
          "data": {
            "text/plain": [
              "         tripduration                 starttime                  stoptime  \\\n",
              "10                236  2019-05-01 00:01:36.4020  2019-05-01 00:05:33.1980   \n",
              "12                536  2019-05-01 00:01:44.6580  2019-05-01 00:10:41.3390   \n",
              "20                290  2019-05-01 00:02:27.8000  2019-05-01 00:07:18.1110   \n",
              "22                553  2019-05-01 00:02:37.0480  2019-05-01 00:11:50.9870   \n",
              "30                355  2019-05-01 00:03:23.7070  2019-05-01 00:09:18.8550   \n",
              "...               ...                       ...                       ...   \n",
              "1924554           699  2019-05-31 23:59:40.5130  2019-06-01 00:11:20.1020   \n",
              "1924556           432  2019-05-31 23:59:42.1250  2019-06-01 00:06:54.9420   \n",
              "1924558           304  2019-05-31 23:59:45.5760  2019-06-01 00:04:50.4620   \n",
              "1924559           324  2019-05-31 23:59:46.4650  2019-06-01 00:05:11.1630   \n",
              "1924562           964  2019-05-31 23:59:55.5500  2019-06-01 00:15:59.8680   \n",
              "\n",
              "         start station id             start station name  \\\n",
              "10                   3232            Bond St & Fulton St   \n",
              "12                    243        Fulton St & Rockwell Pl   \n",
              "20                    346            Bank St & Hudson St   \n",
              "22                    448               W 37 St & 10 Ave   \n",
              "30                    325                E 19 St & 3 Ave   \n",
              "...                   ...                            ...   \n",
              "1924554               368             Carmine St & 6 Ave   \n",
              "1924556               358  Christopher St & Greenwich St   \n",
              "1924558              3175        W 70 St & Amsterdam Ave   \n",
              "1924559              2003                1 Ave & E 18 St   \n",
              "1924562               285             Broadway & E 14 St   \n",
              "\n",
              "         start station latitude  start station longitude  end station id  \\\n",
              "10                    40.689622               -73.983043            3411   \n",
              "12                    40.688410               -73.979458             397   \n",
              "20                    40.736529               -74.006180             168   \n",
              "22                    40.756604               -73.997901             485   \n",
              "30                    40.736245               -73.984738             438   \n",
              "...                         ...                      ...             ...   \n",
              "1924554               40.730386               -74.002150             470   \n",
              "1924556               40.732916               -74.007114             405   \n",
              "1924558               40.777480               -73.982886             423   \n",
              "1924559               40.733812               -73.980544             536   \n",
              "1924562               40.734546               -73.990741            3656   \n",
              "\n",
              "                      end station name  end station latitude  \\\n",
              "10                 Bond St & Bergen St             40.684967   \n",
              "12            Fulton St & Clermont Ave             40.684157   \n",
              "20                     W 18 St & 6 Ave             40.739713   \n",
              "22                     W 37 St & 5 Ave             40.750380   \n",
              "30                 St Marks Pl & 1 Ave             40.727791   \n",
              "...                                ...                   ...   \n",
              "1924554                W 20 St & 8 Ave             40.743453   \n",
              "1924556  Washington St & Gansevoort St             40.739323   \n",
              "1924558                W 54 St & 9 Ave             40.765849   \n",
              "1924559                1 Ave & E 30 St             40.741444   \n",
              "1924562              E 2 St & Avenue A             40.723077   \n",
              "\n",
              "         end station longitude  bikeid    usertype  birth year  gender  \n",
              "10                  -73.986208   34411  Subscriber        1957       2  \n",
              "12                  -73.969223   30962  Subscriber        1974       2  \n",
              "20                  -73.994564   30209  Subscriber        1984       2  \n",
              "22                  -73.983390   21028  Subscriber        1989       2  \n",
              "30                  -73.985649   25468  Subscriber        1990       2  \n",
              "...                        ...     ...         ...         ...     ...  \n",
              "1924554             -74.000040   16373  Subscriber        1976       2  \n",
              "1924556             -74.008119   34352    Customer        1985       2  \n",
              "1924558             -73.986905   32285  Subscriber        1987       2  \n",
              "1924559             -73.975361   33874  Subscriber        1994       2  \n",
              "1924562             -73.985836   32565  Subscriber        1992       2  \n",
              "\n",
              "[376590 rows x 15 columns]"
            ],
            "text/html": [
              "\n",
              "  <div id=\"df-f109d8cf-d7c6-45c3-a571-4d09622a7f7c\">\n",
              "    <div class=\"colab-df-container\">\n",
              "      <div>\n",
              "<style scoped>\n",
              "    .dataframe tbody tr th:only-of-type {\n",
              "        vertical-align: middle;\n",
              "    }\n",
              "\n",
              "    .dataframe tbody tr th {\n",
              "        vertical-align: top;\n",
              "    }\n",
              "\n",
              "    .dataframe thead th {\n",
              "        text-align: right;\n",
              "    }\n",
              "</style>\n",
              "<table border=\"1\" class=\"dataframe\">\n",
              "  <thead>\n",
              "    <tr style=\"text-align: right;\">\n",
              "      <th></th>\n",
              "      <th>tripduration</th>\n",
              "      <th>starttime</th>\n",
              "      <th>stoptime</th>\n",
              "      <th>start station id</th>\n",
              "      <th>start station name</th>\n",
              "      <th>start station latitude</th>\n",
              "      <th>start station longitude</th>\n",
              "      <th>end station id</th>\n",
              "      <th>end station name</th>\n",
              "      <th>end station latitude</th>\n",
              "      <th>end station longitude</th>\n",
              "      <th>bikeid</th>\n",
              "      <th>usertype</th>\n",
              "      <th>birth year</th>\n",
              "      <th>gender</th>\n",
              "    </tr>\n",
              "  </thead>\n",
              "  <tbody>\n",
              "    <tr>\n",
              "      <th>10</th>\n",
              "      <td>236</td>\n",
              "      <td>2019-05-01 00:01:36.4020</td>\n",
              "      <td>2019-05-01 00:05:33.1980</td>\n",
              "      <td>3232</td>\n",
              "      <td>Bond St &amp; Fulton St</td>\n",
              "      <td>40.689622</td>\n",
              "      <td>-73.983043</td>\n",
              "      <td>3411</td>\n",
              "      <td>Bond St &amp; Bergen St</td>\n",
              "      <td>40.684967</td>\n",
              "      <td>-73.986208</td>\n",
              "      <td>34411</td>\n",
              "      <td>Subscriber</td>\n",
              "      <td>1957</td>\n",
              "      <td>2</td>\n",
              "    </tr>\n",
              "    <tr>\n",
              "      <th>12</th>\n",
              "      <td>536</td>\n",
              "      <td>2019-05-01 00:01:44.6580</td>\n",
              "      <td>2019-05-01 00:10:41.3390</td>\n",
              "      <td>243</td>\n",
              "      <td>Fulton St &amp; Rockwell Pl</td>\n",
              "      <td>40.688410</td>\n",
              "      <td>-73.979458</td>\n",
              "      <td>397</td>\n",
              "      <td>Fulton St &amp; Clermont Ave</td>\n",
              "      <td>40.684157</td>\n",
              "      <td>-73.969223</td>\n",
              "      <td>30962</td>\n",
              "      <td>Subscriber</td>\n",
              "      <td>1974</td>\n",
              "      <td>2</td>\n",
              "    </tr>\n",
              "    <tr>\n",
              "      <th>20</th>\n",
              "      <td>290</td>\n",
              "      <td>2019-05-01 00:02:27.8000</td>\n",
              "      <td>2019-05-01 00:07:18.1110</td>\n",
              "      <td>346</td>\n",
              "      <td>Bank St &amp; Hudson St</td>\n",
              "      <td>40.736529</td>\n",
              "      <td>-74.006180</td>\n",
              "      <td>168</td>\n",
              "      <td>W 18 St &amp; 6 Ave</td>\n",
              "      <td>40.739713</td>\n",
              "      <td>-73.994564</td>\n",
              "      <td>30209</td>\n",
              "      <td>Subscriber</td>\n",
              "      <td>1984</td>\n",
              "      <td>2</td>\n",
              "    </tr>\n",
              "    <tr>\n",
              "      <th>22</th>\n",
              "      <td>553</td>\n",
              "      <td>2019-05-01 00:02:37.0480</td>\n",
              "      <td>2019-05-01 00:11:50.9870</td>\n",
              "      <td>448</td>\n",
              "      <td>W 37 St &amp; 10 Ave</td>\n",
              "      <td>40.756604</td>\n",
              "      <td>-73.997901</td>\n",
              "      <td>485</td>\n",
              "      <td>W 37 St &amp; 5 Ave</td>\n",
              "      <td>40.750380</td>\n",
              "      <td>-73.983390</td>\n",
              "      <td>21028</td>\n",
              "      <td>Subscriber</td>\n",
              "      <td>1989</td>\n",
              "      <td>2</td>\n",
              "    </tr>\n",
              "    <tr>\n",
              "      <th>30</th>\n",
              "      <td>355</td>\n",
              "      <td>2019-05-01 00:03:23.7070</td>\n",
              "      <td>2019-05-01 00:09:18.8550</td>\n",
              "      <td>325</td>\n",
              "      <td>E 19 St &amp; 3 Ave</td>\n",
              "      <td>40.736245</td>\n",
              "      <td>-73.984738</td>\n",
              "      <td>438</td>\n",
              "      <td>St Marks Pl &amp; 1 Ave</td>\n",
              "      <td>40.727791</td>\n",
              "      <td>-73.985649</td>\n",
              "      <td>25468</td>\n",
              "      <td>Subscriber</td>\n",
              "      <td>1990</td>\n",
              "      <td>2</td>\n",
              "    </tr>\n",
              "    <tr>\n",
              "      <th>...</th>\n",
              "      <td>...</td>\n",
              "      <td>...</td>\n",
              "      <td>...</td>\n",
              "      <td>...</td>\n",
              "      <td>...</td>\n",
              "      <td>...</td>\n",
              "      <td>...</td>\n",
              "      <td>...</td>\n",
              "      <td>...</td>\n",
              "      <td>...</td>\n",
              "      <td>...</td>\n",
              "      <td>...</td>\n",
              "      <td>...</td>\n",
              "      <td>...</td>\n",
              "      <td>...</td>\n",
              "    </tr>\n",
              "    <tr>\n",
              "      <th>1924554</th>\n",
              "      <td>699</td>\n",
              "      <td>2019-05-31 23:59:40.5130</td>\n",
              "      <td>2019-06-01 00:11:20.1020</td>\n",
              "      <td>368</td>\n",
              "      <td>Carmine St &amp; 6 Ave</td>\n",
              "      <td>40.730386</td>\n",
              "      <td>-74.002150</td>\n",
              "      <td>470</td>\n",
              "      <td>W 20 St &amp; 8 Ave</td>\n",
              "      <td>40.743453</td>\n",
              "      <td>-74.000040</td>\n",
              "      <td>16373</td>\n",
              "      <td>Subscriber</td>\n",
              "      <td>1976</td>\n",
              "      <td>2</td>\n",
              "    </tr>\n",
              "    <tr>\n",
              "      <th>1924556</th>\n",
              "      <td>432</td>\n",
              "      <td>2019-05-31 23:59:42.1250</td>\n",
              "      <td>2019-06-01 00:06:54.9420</td>\n",
              "      <td>358</td>\n",
              "      <td>Christopher St &amp; Greenwich St</td>\n",
              "      <td>40.732916</td>\n",
              "      <td>-74.007114</td>\n",
              "      <td>405</td>\n",
              "      <td>Washington St &amp; Gansevoort St</td>\n",
              "      <td>40.739323</td>\n",
              "      <td>-74.008119</td>\n",
              "      <td>34352</td>\n",
              "      <td>Customer</td>\n",
              "      <td>1985</td>\n",
              "      <td>2</td>\n",
              "    </tr>\n",
              "    <tr>\n",
              "      <th>1924558</th>\n",
              "      <td>304</td>\n",
              "      <td>2019-05-31 23:59:45.5760</td>\n",
              "      <td>2019-06-01 00:04:50.4620</td>\n",
              "      <td>3175</td>\n",
              "      <td>W 70 St &amp; Amsterdam Ave</td>\n",
              "      <td>40.777480</td>\n",
              "      <td>-73.982886</td>\n",
              "      <td>423</td>\n",
              "      <td>W 54 St &amp; 9 Ave</td>\n",
              "      <td>40.765849</td>\n",
              "      <td>-73.986905</td>\n",
              "      <td>32285</td>\n",
              "      <td>Subscriber</td>\n",
              "      <td>1987</td>\n",
              "      <td>2</td>\n",
              "    </tr>\n",
              "    <tr>\n",
              "      <th>1924559</th>\n",
              "      <td>324</td>\n",
              "      <td>2019-05-31 23:59:46.4650</td>\n",
              "      <td>2019-06-01 00:05:11.1630</td>\n",
              "      <td>2003</td>\n",
              "      <td>1 Ave &amp; E 18 St</td>\n",
              "      <td>40.733812</td>\n",
              "      <td>-73.980544</td>\n",
              "      <td>536</td>\n",
              "      <td>1 Ave &amp; E 30 St</td>\n",
              "      <td>40.741444</td>\n",
              "      <td>-73.975361</td>\n",
              "      <td>33874</td>\n",
              "      <td>Subscriber</td>\n",
              "      <td>1994</td>\n",
              "      <td>2</td>\n",
              "    </tr>\n",
              "    <tr>\n",
              "      <th>1924562</th>\n",
              "      <td>964</td>\n",
              "      <td>2019-05-31 23:59:55.5500</td>\n",
              "      <td>2019-06-01 00:15:59.8680</td>\n",
              "      <td>285</td>\n",
              "      <td>Broadway &amp; E 14 St</td>\n",
              "      <td>40.734546</td>\n",
              "      <td>-73.990741</td>\n",
              "      <td>3656</td>\n",
              "      <td>E 2 St &amp; Avenue A</td>\n",
              "      <td>40.723077</td>\n",
              "      <td>-73.985836</td>\n",
              "      <td>32565</td>\n",
              "      <td>Subscriber</td>\n",
              "      <td>1992</td>\n",
              "      <td>2</td>\n",
              "    </tr>\n",
              "  </tbody>\n",
              "</table>\n",
              "<p>376590 rows × 15 columns</p>\n",
              "</div>\n",
              "      <button class=\"colab-df-convert\" onclick=\"convertToInteractive('df-f109d8cf-d7c6-45c3-a571-4d09622a7f7c')\"\n",
              "              title=\"Convert this dataframe to an interactive table.\"\n",
              "              style=\"display:none;\">\n",
              "        \n",
              "  <svg xmlns=\"http://www.w3.org/2000/svg\" height=\"24px\"viewBox=\"0 0 24 24\"\n",
              "       width=\"24px\">\n",
              "    <path d=\"M0 0h24v24H0V0z\" fill=\"none\"/>\n",
              "    <path d=\"M18.56 5.44l.94 2.06.94-2.06 2.06-.94-2.06-.94-.94-2.06-.94 2.06-2.06.94zm-11 1L8.5 8.5l.94-2.06 2.06-.94-2.06-.94L8.5 2.5l-.94 2.06-2.06.94zm10 10l.94 2.06.94-2.06 2.06-.94-2.06-.94-.94-2.06-.94 2.06-2.06.94z\"/><path d=\"M17.41 7.96l-1.37-1.37c-.4-.4-.92-.59-1.43-.59-.52 0-1.04.2-1.43.59L10.3 9.45l-7.72 7.72c-.78.78-.78 2.05 0 2.83L4 21.41c.39.39.9.59 1.41.59.51 0 1.02-.2 1.41-.59l7.78-7.78 2.81-2.81c.8-.78.8-2.07 0-2.86zM5.41 20L4 18.59l7.72-7.72 1.47 1.35L5.41 20z\"/>\n",
              "  </svg>\n",
              "      </button>\n",
              "      \n",
              "  <style>\n",
              "    .colab-df-container {\n",
              "      display:flex;\n",
              "      flex-wrap:wrap;\n",
              "      gap: 12px;\n",
              "    }\n",
              "\n",
              "    .colab-df-convert {\n",
              "      background-color: #E8F0FE;\n",
              "      border: none;\n",
              "      border-radius: 50%;\n",
              "      cursor: pointer;\n",
              "      display: none;\n",
              "      fill: #1967D2;\n",
              "      height: 32px;\n",
              "      padding: 0 0 0 0;\n",
              "      width: 32px;\n",
              "    }\n",
              "\n",
              "    .colab-df-convert:hover {\n",
              "      background-color: #E2EBFA;\n",
              "      box-shadow: 0px 1px 2px rgba(60, 64, 67, 0.3), 0px 1px 3px 1px rgba(60, 64, 67, 0.15);\n",
              "      fill: #174EA6;\n",
              "    }\n",
              "\n",
              "    [theme=dark] .colab-df-convert {\n",
              "      background-color: #3B4455;\n",
              "      fill: #D2E3FC;\n",
              "    }\n",
              "\n",
              "    [theme=dark] .colab-df-convert:hover {\n",
              "      background-color: #434B5C;\n",
              "      box-shadow: 0px 1px 3px 1px rgba(0, 0, 0, 0.15);\n",
              "      filter: drop-shadow(0px 1px 2px rgba(0, 0, 0, 0.3));\n",
              "      fill: #FFFFFF;\n",
              "    }\n",
              "  </style>\n",
              "\n",
              "      <script>\n",
              "        const buttonEl =\n",
              "          document.querySelector('#df-f109d8cf-d7c6-45c3-a571-4d09622a7f7c button.colab-df-convert');\n",
              "        buttonEl.style.display =\n",
              "          google.colab.kernel.accessAllowed ? 'block' : 'none';\n",
              "\n",
              "        async function convertToInteractive(key) {\n",
              "          const element = document.querySelector('#df-f109d8cf-d7c6-45c3-a571-4d09622a7f7c');\n",
              "          const dataTable =\n",
              "            await google.colab.kernel.invokeFunction('convertToInteractive',\n",
              "                                                     [key], {});\n",
              "          if (!dataTable) return;\n",
              "\n",
              "          const docLinkHtml = 'Like what you see? Visit the ' +\n",
              "            '<a target=\"_blank\" href=https://colab.research.google.com/notebooks/data_table.ipynb>data table notebook</a>'\n",
              "            + ' to learn more about interactive tables.';\n",
              "          element.innerHTML = '';\n",
              "          dataTable['output_type'] = 'display_data';\n",
              "          await google.colab.output.renderOutput(dataTable, element);\n",
              "          const docLink = document.createElement('div');\n",
              "          docLink.innerHTML = docLinkHtml;\n",
              "          element.appendChild(docLink);\n",
              "        }\n",
              "      </script>\n",
              "    </div>\n",
              "  </div>\n",
              "  "
            ]
          },
          "metadata": {},
          "execution_count": 13
        }
      ]
    },
    {
      "cell_type": "markdown",
      "source": [
        "## plot the trip duration distributions for gender=2 and gender=1\n",
        "\n"
      ],
      "metadata": {
        "id": "UOnTTHS7hQry"
      }
    },
    {
      "cell_type": "code",
      "source": [
        "# your code here\n",
        "plt.hist(men[\"tripduration\"])\n",
        "plt.title(\"Trip Duration for Men\")\n",
        "plt.xlabel(\"Trip Duration in minutes\")\n",
        "plt.ylabel(\"# of Trips\")"
      ],
      "metadata": {
        "id": "opjwo2PQhUM3",
        "colab": {
          "base_uri": "https://localhost:8080/",
          "height": 312
        },
        "outputId": "2a0d8fb2-e855-4d40-b1f5-35d99a862d95"
      },
      "execution_count": 39,
      "outputs": [
        {
          "output_type": "execute_result",
          "data": {
            "text/plain": [
              "Text(0, 0.5, '# of Trips')"
            ]
          },
          "metadata": {},
          "execution_count": 39
        },
        {
          "output_type": "display_data",
          "data": {
            "text/plain": [
              "<Figure size 432x288 with 1 Axes>"
            ],
            "image/png": "[encoded data removed]"
          },
          "metadata": {
            "needs_background": "light"
          }
        }
      ]
    },
    {
      "cell_type": "code",
      "source": [
        "plt.hist(women[\"tripduration\"])\n",
        "plt.title(\"Trip Duration for Women\")\n",
        "plt.xlabel(\"Trip Duration in minutes\")\n",
        "plt.ylabel(\"# of Trips\")"
      ],
      "metadata": {
        "colab": {
          "base_uri": "https://localhost:8080/",
          "height": 352
        },
        "id": "qa1eACf471Bf",
        "outputId": "cf0e026c-6c47-4dfa-bf7d-9186c0c09da8"
      },
      "execution_count": 15,
      "outputs": [
        {
          "output_type": "execute_result",
          "data": {
            "text/plain": [
              "(array([22211., 54633., 62644., 56324., 46141., 38224., 31205., 25421.,\n",
              "        21315., 18472.]),\n",
              " array([  61. ,  198.8,  336.6,  474.4,  612.2,  750. ,  887.8, 1025.6,\n",
              "        1163.4, 1301.2, 1439. ]),\n",
              " <a list of 10 Patch objects>)"
            ]
          },
          "metadata": {},
          "execution_count": 15
        },
        {
          "output_type": "display_data",
          "data": {
            "text/plain": [
              "<Figure size 432x288 with 1 Axes>"
            ],
            "image/png": "[encoded data removed]"
          },
          "metadata": {
            "needs_background": "light"
          }
        }
      ]
    },
    {
      "cell_type": "markdown",
      "source": [
        "Figure 3:..."
      ],
      "metadata": {
        "id": "iKCrWQq0Dcs6"
      }
    },
    {
      "cell_type": "markdown",
      "source": [
        "Women seem to have more trips than men."
      ],
      "metadata": {
        "id": "ggM0rKJEYb-c"
      }
    },
    {
      "cell_type": "markdown",
      "source": [
        "Notice how the histograms are differnt hights: one of the two categories has a lot more trips than the other one. Figure out which and discuss it in the caption"
      ],
      "metadata": {
        "id": "vayb-uH1hbnc"
      }
    },
    {
      "cell_type": "markdown",
      "source": [
        "# Statistical analysis\n",
        "Run two statistical tests: the t-test and the KS-test. \n"
      ],
      "metadata": {
        "id": "4AA7Qgp02wLa"
      }
    },
    {
      "cell_type": "markdown",
      "source": [
        "# Check if the mean of the samples is the same\n",
        "\n",
        "Your Null hypothesis _H0_ and Alternative hypotehsis _HA_ are respectively:\n",
        "\n",
        "H0: µ1 = µ2 (the two sample means are equal)\n",
        "\n",
        "HA: µ1 ≠µ2 (the two sample means are not equal)\n",
        "\n",
        "First look at the data summary statistics: are the means the same number? are the means contained within each other's standard deviations --- i.e. is \n",
        "\n",
        "_mean1 > mean2 - std2 and mean1 < mean2 + std2_ \n",
        "\n",
        "or \n",
        "\n",
        "_mean2 > mean1 - std1 and mean2 < mean1 + std1_ \n",
        "\n",
        "this will set some expextation.\n",
        "\n",
        "\n",
        "\n"
      ],
      "metadata": {
        "id": "-NL1cHQD3ccc"
      }
    },
    {
      "cell_type": "code",
      "source": [
        "men[\"tripduration\"].mean()"
      ],
      "metadata": {
        "id": "I1FUdJcF9rSV",
        "colab": {
          "base_uri": "https://localhost:8080/"
        },
        "outputId": "5e6a75b4-c689-41da-ca9f-55407e5bc828"
      },
      "execution_count": 20,
      "outputs": [
        {
          "output_type": "execute_result",
          "data": {
            "text/plain": [
              "588.2070911461445"
            ]
          },
          "metadata": {},
          "execution_count": 20
        }
      ]
    },
    {
      "cell_type": "code",
      "source": [
        "women[\"tripduration\"].mean()-women[\"tripduration\"].std()"
      ],
      "metadata": {
        "colab": {
          "base_uri": "https://localhost:8080/"
        },
        "id": "VpYfkU95RTQU",
        "outputId": "417b2602-ca7c-4d7a-8db6-8da95c1f3976"
      },
      "execution_count": 22,
      "outputs": [
        {
          "output_type": "execute_result",
          "data": {
            "text/plain": [
              "310.1468929924374"
            ]
          },
          "metadata": {},
          "execution_count": 22
        }
      ]
    },
    {
      "cell_type": "markdown",
      "source": [
        "The means are not the same for men and women.\n"
      ],
      "metadata": {
        "id": "wC_llSGm9s-c"
      }
    },
    {
      "cell_type": "markdown",
      "source": [
        "\n",
        "To answer the question more formally  test you can use the t-test. You can use the ```ttest_ind`` function in python ```scipy.stats.ttest_ind()``` passing the first sample for a and the other for b (ind stands for independent, i.e. the assumption is that the sample are independent samples)"
      ],
      "metadata": {
        "id": "DaybiE919rsy"
      }
    },
    {
      "cell_type": "code",
      "source": [
        "# get the usage information for the function here or on the webpage of the function\n",
        "#stats.ttest_ind? "
      ],
      "metadata": {
        "id": "jmgUz1XH41q9",
        "colab": {
          "base_uri": "https://localhost:8080/",
          "height": 130
        },
        "outputId": "c813911e-c9ab-4938-825a-b03f7e620924"
      },
      "execution_count": 19,
      "outputs": [
        {
          "output_type": "error",
          "ename": "SyntaxError",
          "evalue": "ignored",
          "traceback": [
            "\u001b[0;36m  File \u001b[0;32m\"<ipython-input-19-36a6d020209e>\"\u001b[0;36m, line \u001b[0;32m2\u001b[0m\n\u001b[0;31m    stats.ttest_ind?\u001b[0m\n\u001b[0m                   ^\u001b[0m\n\u001b[0;31mSyntaxError\u001b[0m\u001b[0;31m:\u001b[0m invalid syntax\n"
          ]
        }
      ]
    },
    {
      "cell_type": "code",
      "source": [
        "# your code here\n",
        "stats.ttest_ind(men[\"tripduration\"],women[\"tripduration\"])"
      ],
      "metadata": {
        "id": "L64xiLnF3vuq",
        "colab": {
          "base_uri": "https://localhost:8080/"
        },
        "outputId": "74cbefdd-16a8-4cfe-f6c6-f023874f72ac"
      },
      "execution_count": 18,
      "outputs": [
        {
          "output_type": "execute_result",
          "data": {
            "text/plain": [
              "Ttest_indResult(statistic=-100.84403665697793, pvalue=0.0)"
            ]
          },
          "metadata": {},
          "execution_count": 18
        }
      ]
    },
    {
      "cell_type": "markdown",
      "source": [
        "interpret the result based on your chosen confidence threshold and on the results of the ```ttest_ind`` function.\n",
        "\n"
      ],
      "metadata": {
        "id": "Zi5cvldc4JTC"
      }
    },
    {
      "cell_type": "markdown",
      "source": [
        "Women and men do not have the same trip duration when riding bikes, women seem to ride bikes longer than men do.\n"
      ],
      "metadata": {
        "id": "EWHoC6yP929C"
      }
    },
    {
      "cell_type": "markdown",
      "source": [
        "# Are the sample coming from the same parent distribution\n",
        "\n",
        "The next test answers the questions: do the samples come from the same generative process (or \"parent function\"). Often we write the hypothesis for this test more simple as \"are the distributions the same\"\n",
        "\n",
        "\n",
        "\n"
      ],
      "metadata": {
        "id": "p3A3h0AX3fyc"
      }
    },
    {
      "cell_type": "markdown",
      "source": [
        "Write the NULL and Alternative hypothesis here"
      ],
      "metadata": {
        "id": "4AdnfZpA-E0Y"
      }
    },
    {
      "cell_type": "markdown",
      "source": [
        "Run the test ```stats.ks_2samp```"
      ],
      "metadata": {
        "id": "Uej9-Fp4-I_M"
      }
    },
    {
      "cell_type": "code",
      "source": [
        "# your code here\n",
        "stats.ks_2samp(men[\"tripduration\"],women[\"tripduration\"])"
      ],
      "metadata": {
        "id": "rT58jrwfiWE0",
        "colab": {
          "base_uri": "https://localhost:8080/"
        },
        "outputId": "382f2d7b-c76e-4109-cd86-9db57ae65655"
      },
      "execution_count": 17,
      "outputs": [
        {
          "output_type": "execute_result",
          "data": {
            "text/plain": [
              "KstestResult(statistic=0.08422140452629323, pvalue=0.0)"
            ]
          },
          "metadata": {},
          "execution_count": 17
        }
      ]
    },
    {
      "cell_type": "markdown",
      "source": [
        "In fact this test is very sensitive to differences in the mean of the sample. To use the test properly one should first normalize the data. That is: subtract the mean and divide by the standard deviation. This is how you would do it (my two clean samples for gender = 1 and gender = 2 are called cbMay19_m and cbMay19_f, yours will be possibly called differently)"
      ],
      "metadata": {
        "id": "8SJCLvi_-OE1"
      }
    },
    {
      "cell_type": "code",
      "source": [
        "normed_f = (women[\"tripduration\"] - women[\"tripduration\"].mean()) / women[\"tripduration\"].std()\n",
        "normed_m = (men[\"tripduration\"] - men[\"tripduration\"].mean()) / men[\"tripduration\"].std()"
      ],
      "metadata": {
        "id": "7M1cvMNi-XNH"
      },
      "execution_count": 24,
      "outputs": []
    },
    {
      "cell_type": "markdown",
      "source": [
        "rerun the test after normalizing, did the conclusion change?"
      ],
      "metadata": {
        "id": "AYgiRMrA-7HD"
      }
    },
    {
      "cell_type": "code",
      "source": [
        "# your code here\n",
        "stats.ks_2samp(normed_m,normed_f)"
      ],
      "metadata": {
        "id": "9jXluvjE-6mD",
        "colab": {
          "base_uri": "https://localhost:8080/"
        },
        "outputId": "1141c91c-e0e9-4ae2-d5f2-780a4751ca73"
      },
      "execution_count": 26,
      "outputs": [
        {
          "output_type": "execute_result",
          "data": {
            "text/plain": [
              "KstestResult(statistic=0.022785464212612745, pvalue=1.4148236782790818e-127)"
            ]
          },
          "metadata": {},
          "execution_count": 26
        }
      ]
    },
    {
      "cell_type": "markdown",
      "source": [
        "# Extra Credit : do the same for week days only and weekends only"
      ],
      "metadata": {
        "id": "1mi3yn645F7D"
      }
    },
    {
      "cell_type": "markdown",
      "source": [
        "Pandas uses an excellent package to process dates! the datetime package\n",
        "\n",
        "The current date columns are starttime and stoptime. You can convert starttime, which is currently a column containing simple strings, to a python datetime variable as follows\n",
        "\n"
      ],
      "metadata": {
        "id": "ZpQWeL1N5MUW"
      }
    },
    {
      "cell_type": "code",
      "source": [
        "cbMay19[\"starttime\"]"
      ],
      "metadata": {
        "id": "9rOLXJgg5Z9B",
        "colab": {
          "base_uri": "https://localhost:8080/"
        },
        "outputId": "63cb8fe1-6a2f-4c78-aef9-4c051e1b35d4"
      },
      "execution_count": 27,
      "outputs": [
        {
          "output_type": "execute_result",
          "data": {
            "text/plain": [
              "0          2019-05-01 00:00:01.9010\n",
              "1          2019-05-01 00:00:03.0210\n",
              "2          2019-05-01 00:00:04.6270\n",
              "3          2019-05-01 00:00:19.3340\n",
              "4          2019-05-01 00:00:22.1840\n",
              "                     ...           \n",
              "1924558    2019-05-31 23:59:45.5760\n",
              "1924559    2019-05-31 23:59:46.4650\n",
              "1924560    2019-05-31 23:59:51.5060\n",
              "1924561    2019-05-31 23:59:52.4170\n",
              "1924562    2019-05-31 23:59:55.5500\n",
              "Name: starttime, Length: 1924563, dtype: object"
            ]
          },
          "metadata": {},
          "execution_count": 27
        }
      ]
    },
    {
      "cell_type": "code",
      "source": [
        "cbMay19[\"tripdate\"] = pd.to_datetime(cbMay19.starttime)\n",
        "cbMay19[\"tripdate\"]"
      ],
      "metadata": {
        "id": "H77q8aL75qSk",
        "colab": {
          "base_uri": "https://localhost:8080/"
        },
        "outputId": "1065199b-5662-40ff-fa9b-af8e32108f26"
      },
      "execution_count": 28,
      "outputs": [
        {
          "output_type": "execute_result",
          "data": {
            "text/plain": [
              "0         2019-05-01 00:00:01.901\n",
              "1         2019-05-01 00:00:03.021\n",
              "2         2019-05-01 00:00:04.627\n",
              "3         2019-05-01 00:00:19.334\n",
              "4         2019-05-01 00:00:22.184\n",
              "                    ...          \n",
              "1924558   2019-05-31 23:59:45.576\n",
              "1924559   2019-05-31 23:59:46.465\n",
              "1924560   2019-05-31 23:59:51.506\n",
              "1924561   2019-05-31 23:59:52.417\n",
              "1924562   2019-05-31 23:59:55.550\n",
              "Name: tripdate, Length: 1924563, dtype: datetime64[ns]"
            ]
          },
          "metadata": {},
          "execution_count": 28
        }
      ]
    },
    {
      "cell_type": "code",
      "source": [
        "wkday = cbMay19[\"tripdate\"].dt.weekday < 5"
      ],
      "metadata": {
        "id": "as5dNRXBb0t5"
      },
      "execution_count": 29,
      "outputs": []
    },
    {
      "cell_type": "code",
      "source": [
        "wkend = cbMay19[\"tripdate\"].dt.weekday >= 5"
      ],
      "metadata": {
        "id": "xuJ67x2EVVCg"
      },
      "execution_count": 30,
      "outputs": []
    },
    {
      "cell_type": "code",
      "source": [
        "stats.ttest_ind(wkday,wkend)"
      ],
      "metadata": {
        "colab": {
          "base_uri": "https://localhost:8080/"
        },
        "id": "-KpyBAJqVmkx",
        "outputId": "5abce68f-ca31-4214-b7cc-d5187c58889b"
      },
      "execution_count": 32,
      "outputs": [
        {
          "output_type": "execute_result",
          "data": {
            "text/plain": [
              "Ttest_indResult(statistic=1392.893077503494, pvalue=0.0)"
            ]
          },
          "metadata": {},
          "execution_count": 32
        }
      ]
    },
    {
      "cell_type": "code",
      "source": [
        "normed_wd = (wkday - wkday.mean()) / wkday.std()\n",
        "normed_we = (wkend - wkend.mean()) / wkend.std()\n",
        "stats.ks_2samp(normed_wd,normed_we)"
      ],
      "metadata": {
        "colab": {
          "base_uri": "https://localhost:8080/"
        },
        "id": "1xT0XVHAV37L",
        "outputId": "e4826aad-ad54-408f-87c8-c96b001ea9bf"
      },
      "execution_count": 34,
      "outputs": [
        {
          "output_type": "execute_result",
          "data": {
            "text/plain": [
              "KstestResult(statistic=0.5789028470359245, pvalue=0.0)"
            ]
          },
          "metadata": {},
          "execution_count": 34
        }
      ]
    },
    {
      "cell_type": "markdown",
      "source": [
        "Once you have a datetime column for the start of the trip you can separate week days and weekends using the condition \n",
        "\n",
        "```cbMay19[\"tripdate\"].dt.weekday < 5```\n",
        "\n",
        "for weekdays and \n",
        "\n",
        "```cbMay19[\"tripdate\"].dt.weekday >= 5```\n",
        "\n",
        "for weekends. \n",
        "\n",
        "With the dataset separate in weekend and weekdays you can ask the same kind of questions: is trip duration characteristically different on weekends than on week days, or, are the gender-based differences you found for the overall sample the same for weekdays and weekends?\n"
      ],
      "metadata": {
        "id": "ZOw-t8z450Gn"
      }
    }
  ]
}