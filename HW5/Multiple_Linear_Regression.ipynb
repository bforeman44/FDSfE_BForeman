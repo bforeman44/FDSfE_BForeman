{
 "cells": [
  {
   "cell_type": "markdown",
   "metadata": {
    "colab_type": "text",
    "id": "view-in-github"
   },
   "source": [
    "<a href=\"https://colab.research.google.com/github/bforeman44/FDSfE_BForeman/blob/main/HW5/Multiple_Linear_Regression.ipynb\" target=\"_parent\"><img src=\"https://colab.research.google.com/assets/colab-badge.svg\" alt=\"Open In Colab\"/></a>"
   ]
  },
  {
   "cell_type": "markdown",
   "metadata": {
    "id": "kBKIrBnIlHg8"
   },
   "source": [
    "# **Multiple Linear Regression**\n",
    "\n",
    "---\n",
    "\n",
    "###Data\n",
    "\n",
    "The data used in this assignment contains a cleaned and curated version of the market real estate valuations collected from Sindian Dist., New Taipei City, Taiwan, by Prof. I-Cheng Yeh, Department of Civil Engineering, Tamkang University, Taiwan.\n",
    "\n",
    "The features in the data are the following:\n",
    "\n",
    "* ```transaction_date```: the transaction date (for example, 2013.250=2013 March, 2013.500=2013 June, etc.)\n",
    "* ```house_age```: the house age (unit: year)\n",
    "* ```distance_nearest_MRT_station```: the distance to the nearest MRT station (unit: meter)\n",
    "* ```convenience_stores```: the number of convenience stores in the living circle on foot (integer)\n",
    "\n",
    "The target is:\n",
    "* ```house_price_unit_area```house price of unit area (10000 New Taiwan Dollar/Ping, where Ping is a local unit, 1 Ping = 3.3 meter squared)\n",
    "\n",
    "---\n",
    "\n",
    "## HW instructions:\n",
    "\n",
    "Similar to what was done in class, your task is to do the following:\n",
    "1.   create a simple regression model that utilizes only one feature: the log10 of ```distance_nearest_MRT_station``` to predict the house price/unit area, and find the model's metrics ($R^2$ and Adjusted-$R^2$), as well as the the coeffient (slope) of the line.\n",
    "\n",
    "2.   create a multiple regression model that utilizes all features in the dataset to predict the house price/unit area, and find the model's metrics ($R^2$ and Adjusted-$R^2$), as well as the the coeffient for each variable.\n",
    "\n",
    "--"
   ]
  },
  {
   "cell_type": "code",
   "execution_count": 1,
   "metadata": {
    "id": "ATylBaqD5ljg"
   },
   "outputs": [],
   "source": [
    "# -- import libraries here\n",
    "import pandas as pd\n",
    "import numpy as np\n",
    "from sklearn.linear_model import LinearRegression\n",
    "import statsmodels.api as sm\n",
    "import pylab as plt"
   ]
  },
  {
   "cell_type": "markdown",
   "metadata": {
    "id": "S4YEe0nUgWG1"
   },
   "source": [
    "Read the data file from the class repo which can be found in the folder \"data\" and is called \"Real_estate.csv\""
   ]
  },
  {
   "cell_type": "code",
   "execution_count": 2,
   "metadata": {
    "id": "7vu7tgc3CrxL"
   },
   "outputs": [],
   "source": [
    "# -- your code here \n",
    "RE = pd.read_csv(\"https://github.com/fedhere/FDSfE_FBianco/raw/main/data/Real_estate.csv\")"
   ]
  },
  {
   "cell_type": "code",
   "execution_count": 3,
   "metadata": {
    "colab": {
     "base_uri": "https://localhost:8080/",
     "height": 206
    },
    "id": "TgtWd9Z4kJOR",
    "outputId": "818f4d62-8868-41d3-f6b4-85122f09f2f0"
   },
   "outputs": [
    {
     "data": {
      "text/html": [
       "\n",
       "  <div id=\"df-64924934-1f44-46f5-bb0a-986c96755c35\">\n",
       "    <div class=\"colab-df-container\">\n",
       "      <div>\n",
       "<style scoped>\n",
       "    .dataframe tbody tr th:only-of-type {\n",
       "        vertical-align: middle;\n",
       "    }\n",
       "\n",
       "    .dataframe tbody tr th {\n",
       "        vertical-align: top;\n",
       "    }\n",
       "\n",
       "    .dataframe thead th {\n",
       "        text-align: right;\n",
       "    }\n",
       "</style>\n",
       "<table border=\"1\" class=\"dataframe\">\n",
       "  <thead>\n",
       "    <tr style=\"text-align: right;\">\n",
       "      <th></th>\n",
       "      <th>transaction_date</th>\n",
       "      <th>house_age</th>\n",
       "      <th>distance_nearest_MRT_station</th>\n",
       "      <th>convenience_stores</th>\n",
       "      <th>house_price_unit_area</th>\n",
       "    </tr>\n",
       "  </thead>\n",
       "  <tbody>\n",
       "    <tr>\n",
       "      <th>0</th>\n",
       "      <td>2012.917</td>\n",
       "      <td>32.0</td>\n",
       "      <td>84.87882</td>\n",
       "      <td>10</td>\n",
       "      <td>37.9</td>\n",
       "    </tr>\n",
       "    <tr>\n",
       "      <th>1</th>\n",
       "      <td>2012.917</td>\n",
       "      <td>19.5</td>\n",
       "      <td>306.59470</td>\n",
       "      <td>9</td>\n",
       "      <td>42.2</td>\n",
       "    </tr>\n",
       "    <tr>\n",
       "      <th>2</th>\n",
       "      <td>2013.583</td>\n",
       "      <td>13.3</td>\n",
       "      <td>561.98450</td>\n",
       "      <td>5</td>\n",
       "      <td>47.3</td>\n",
       "    </tr>\n",
       "    <tr>\n",
       "      <th>3</th>\n",
       "      <td>2013.500</td>\n",
       "      <td>13.3</td>\n",
       "      <td>561.98450</td>\n",
       "      <td>5</td>\n",
       "      <td>54.8</td>\n",
       "    </tr>\n",
       "    <tr>\n",
       "      <th>4</th>\n",
       "      <td>2012.833</td>\n",
       "      <td>5.0</td>\n",
       "      <td>390.56840</td>\n",
       "      <td>5</td>\n",
       "      <td>43.1</td>\n",
       "    </tr>\n",
       "  </tbody>\n",
       "</table>\n",
       "</div>\n",
       "      <button class=\"colab-df-convert\" onclick=\"convertToInteractive('df-64924934-1f44-46f5-bb0a-986c96755c35')\"\n",
       "              title=\"Convert this dataframe to an interactive table.\"\n",
       "              style=\"display:none;\">\n",
       "        \n",
       "  <svg xmlns=\"http://www.w3.org/2000/svg\" height=\"24px\"viewBox=\"0 0 24 24\"\n",
       "       width=\"24px\">\n",
       "    <path d=\"M0 0h24v24H0V0z\" fill=\"none\"/>\n",
       "    <path d=\"M18.56 5.44l.94 2.06.94-2.06 2.06-.94-2.06-.94-.94-2.06-.94 2.06-2.06.94zm-11 1L8.5 8.5l.94-2.06 2.06-.94-2.06-.94L8.5 2.5l-.94 2.06-2.06.94zm10 10l.94 2.06.94-2.06 2.06-.94-2.06-.94-.94-2.06-.94 2.06-2.06.94z\"/><path d=\"M17.41 7.96l-1.37-1.37c-.4-.4-.92-.59-1.43-.59-.52 0-1.04.2-1.43.59L10.3 9.45l-7.72 7.72c-.78.78-.78 2.05 0 2.83L4 21.41c.39.39.9.59 1.41.59.51 0 1.02-.2 1.41-.59l7.78-7.78 2.81-2.81c.8-.78.8-2.07 0-2.86zM5.41 20L4 18.59l7.72-7.72 1.47 1.35L5.41 20z\"/>\n",
       "  </svg>\n",
       "      </button>\n",
       "      \n",
       "  <style>\n",
       "    .colab-df-container {\n",
       "      display:flex;\n",
       "      flex-wrap:wrap;\n",
       "      gap: 12px;\n",
       "    }\n",
       "\n",
       "    .colab-df-convert {\n",
       "      background-color: #E8F0FE;\n",
       "      border: none;\n",
       "      border-radius: 50%;\n",
       "      cursor: pointer;\n",
       "      display: none;\n",
       "      fill: #1967D2;\n",
       "      height: 32px;\n",
       "      padding: 0 0 0 0;\n",
       "      width: 32px;\n",
       "    }\n",
       "\n",
       "    .colab-df-convert:hover {\n",
       "      background-color: #E2EBFA;\n",
       "      box-shadow: 0px 1px 2px rgba(60, 64, 67, 0.3), 0px 1px 3px 1px rgba(60, 64, 67, 0.15);\n",
       "      fill: #174EA6;\n",
       "    }\n",
       "\n",
       "    [theme=dark] .colab-df-convert {\n",
       "      background-color: #3B4455;\n",
       "      fill: #D2E3FC;\n",
       "    }\n",
       "\n",
       "    [theme=dark] .colab-df-convert:hover {\n",
       "      background-color: #434B5C;\n",
       "      box-shadow: 0px 1px 3px 1px rgba(0, 0, 0, 0.15);\n",
       "      filter: drop-shadow(0px 1px 2px rgba(0, 0, 0, 0.3));\n",
       "      fill: #FFFFFF;\n",
       "    }\n",
       "  </style>\n",
       "\n",
       "      <script>\n",
       "        const buttonEl =\n",
       "          document.querySelector('#df-64924934-1f44-46f5-bb0a-986c96755c35 button.colab-df-convert');\n",
       "        buttonEl.style.display =\n",
       "          google.colab.kernel.accessAllowed ? 'block' : 'none';\n",
       "\n",
       "        async function convertToInteractive(key) {\n",
       "          const element = document.querySelector('#df-64924934-1f44-46f5-bb0a-986c96755c35');\n",
       "          const dataTable =\n",
       "            await google.colab.kernel.invokeFunction('convertToInteractive',\n",
       "                                                     [key], {});\n",
       "          if (!dataTable) return;\n",
       "\n",
       "          const docLinkHtml = 'Like what you see? Visit the ' +\n",
       "            '<a target=\"_blank\" href=https://colab.research.google.com/notebooks/data_table.ipynb>data table notebook</a>'\n",
       "            + ' to learn more about interactive tables.';\n",
       "          element.innerHTML = '';\n",
       "          dataTable['output_type'] = 'display_data';\n",
       "          await google.colab.output.renderOutput(dataTable, element);\n",
       "          const docLink = document.createElement('div');\n",
       "          docLink.innerHTML = docLinkHtml;\n",
       "          element.appendChild(docLink);\n",
       "        }\n",
       "      </script>\n",
       "    </div>\n",
       "  </div>\n",
       "  "
      ],
      "text/plain": [
       "   transaction_date  house_age  distance_nearest_MRT_station  \\\n",
       "0          2012.917       32.0                      84.87882   \n",
       "1          2012.917       19.5                     306.59470   \n",
       "2          2013.583       13.3                     561.98450   \n",
       "3          2013.500       13.3                     561.98450   \n",
       "4          2012.833        5.0                     390.56840   \n",
       "\n",
       "   convenience_stores  house_price_unit_area  \n",
       "0                  10                   37.9  \n",
       "1                   9                   42.2  \n",
       "2                   5                   47.3  \n",
       "3                   5                   54.8  \n",
       "4                   5                   43.1  "
      ]
     },
     "execution_count": 3,
     "metadata": {},
     "output_type": "execute_result"
    }
   ],
   "source": [
    "RE.head()"
   ]
  },
  {
   "cell_type": "markdown",
   "metadata": {
    "id": "tP10cnl7UBJg"
   },
   "source": [
    "## Task 1: simple linear regression\n",
    "\n",
    "create a simple regression model that utilizes only one feature: the log10 of ```distance_nearest_MRT_station``` to predict the house price/unit area, and find the model's metrics ($R^2$ and Adjusted-$R^2$), as well as the the coeffient (slope) of the line.\n",
    "\n",
    "---\n"
   ]
  },
  {
   "cell_type": "markdown",
   "metadata": {
    "id": "YGx9scRQU8C0"
   },
   "source": [
    "Calculate the log10 of the ```distance_nearest_MRT_station``` column and add it as a new column to the data frame"
   ]
  },
  {
   "cell_type": "code",
   "execution_count": 4,
   "metadata": {
    "id": "p4cNG_YBCr0M"
   },
   "outputs": [],
   "source": [
    "# -- your code here \n",
    "RE[\"log_distance_nearest_MRT_station\"] = np.log10(RE.distance_nearest_MRT_station)"
   ]
  },
  {
   "cell_type": "code",
   "execution_count": 5,
   "metadata": {
    "colab": {
     "base_uri": "https://localhost:8080/",
     "height": 206
    },
    "id": "nMCbRMLnkwBd",
    "outputId": "3ef1c29f-0d9c-4ebb-8456-2665eba74666"
   },
   "outputs": [
    {
     "data": {
      "text/html": [
       "\n",
       "  <div id=\"df-740eeaf1-a173-4c2a-bbba-3c67a4d19089\">\n",
       "    <div class=\"colab-df-container\">\n",
       "      <div>\n",
       "<style scoped>\n",
       "    .dataframe tbody tr th:only-of-type {\n",
       "        vertical-align: middle;\n",
       "    }\n",
       "\n",
       "    .dataframe tbody tr th {\n",
       "        vertical-align: top;\n",
       "    }\n",
       "\n",
       "    .dataframe thead th {\n",
       "        text-align: right;\n",
       "    }\n",
       "</style>\n",
       "<table border=\"1\" class=\"dataframe\">\n",
       "  <thead>\n",
       "    <tr style=\"text-align: right;\">\n",
       "      <th></th>\n",
       "      <th>transaction_date</th>\n",
       "      <th>house_age</th>\n",
       "      <th>distance_nearest_MRT_station</th>\n",
       "      <th>convenience_stores</th>\n",
       "      <th>house_price_unit_area</th>\n",
       "      <th>log_distance_nearest_MRT_station</th>\n",
       "    </tr>\n",
       "  </thead>\n",
       "  <tbody>\n",
       "    <tr>\n",
       "      <th>0</th>\n",
       "      <td>2012.917</td>\n",
       "      <td>32.0</td>\n",
       "      <td>84.87882</td>\n",
       "      <td>10</td>\n",
       "      <td>37.9</td>\n",
       "      <td>1.928799</td>\n",
       "    </tr>\n",
       "    <tr>\n",
       "      <th>1</th>\n",
       "      <td>2012.917</td>\n",
       "      <td>19.5</td>\n",
       "      <td>306.59470</td>\n",
       "      <td>9</td>\n",
       "      <td>42.2</td>\n",
       "      <td>2.486565</td>\n",
       "    </tr>\n",
       "    <tr>\n",
       "      <th>2</th>\n",
       "      <td>2013.583</td>\n",
       "      <td>13.3</td>\n",
       "      <td>561.98450</td>\n",
       "      <td>5</td>\n",
       "      <td>47.3</td>\n",
       "      <td>2.749724</td>\n",
       "    </tr>\n",
       "    <tr>\n",
       "      <th>3</th>\n",
       "      <td>2013.500</td>\n",
       "      <td>13.3</td>\n",
       "      <td>561.98450</td>\n",
       "      <td>5</td>\n",
       "      <td>54.8</td>\n",
       "      <td>2.749724</td>\n",
       "    </tr>\n",
       "    <tr>\n",
       "      <th>4</th>\n",
       "      <td>2012.833</td>\n",
       "      <td>5.0</td>\n",
       "      <td>390.56840</td>\n",
       "      <td>5</td>\n",
       "      <td>43.1</td>\n",
       "      <td>2.591697</td>\n",
       "    </tr>\n",
       "  </tbody>\n",
       "</table>\n",
       "</div>\n",
       "      <button class=\"colab-df-convert\" onclick=\"convertToInteractive('df-740eeaf1-a173-4c2a-bbba-3c67a4d19089')\"\n",
       "              title=\"Convert this dataframe to an interactive table.\"\n",
       "              style=\"display:none;\">\n",
       "        \n",
       "  <svg xmlns=\"http://www.w3.org/2000/svg\" height=\"24px\"viewBox=\"0 0 24 24\"\n",
       "       width=\"24px\">\n",
       "    <path d=\"M0 0h24v24H0V0z\" fill=\"none\"/>\n",
       "    <path d=\"M18.56 5.44l.94 2.06.94-2.06 2.06-.94-2.06-.94-.94-2.06-.94 2.06-2.06.94zm-11 1L8.5 8.5l.94-2.06 2.06-.94-2.06-.94L8.5 2.5l-.94 2.06-2.06.94zm10 10l.94 2.06.94-2.06 2.06-.94-2.06-.94-.94-2.06-.94 2.06-2.06.94z\"/><path d=\"M17.41 7.96l-1.37-1.37c-.4-.4-.92-.59-1.43-.59-.52 0-1.04.2-1.43.59L10.3 9.45l-7.72 7.72c-.78.78-.78 2.05 0 2.83L4 21.41c.39.39.9.59 1.41.59.51 0 1.02-.2 1.41-.59l7.78-7.78 2.81-2.81c.8-.78.8-2.07 0-2.86zM5.41 20L4 18.59l7.72-7.72 1.47 1.35L5.41 20z\"/>\n",
       "  </svg>\n",
       "      </button>\n",
       "      \n",
       "  <style>\n",
       "    .colab-df-container {\n",
       "      display:flex;\n",
       "      flex-wrap:wrap;\n",
       "      gap: 12px;\n",
       "    }\n",
       "\n",
       "    .colab-df-convert {\n",
       "      background-color: #E8F0FE;\n",
       "      border: none;\n",
       "      border-radius: 50%;\n",
       "      cursor: pointer;\n",
       "      display: none;\n",
       "      fill: #1967D2;\n",
       "      height: 32px;\n",
       "      padding: 0 0 0 0;\n",
       "      width: 32px;\n",
       "    }\n",
       "\n",
       "    .colab-df-convert:hover {\n",
       "      background-color: #E2EBFA;\n",
       "      box-shadow: 0px 1px 2px rgba(60, 64, 67, 0.3), 0px 1px 3px 1px rgba(60, 64, 67, 0.15);\n",
       "      fill: #174EA6;\n",
       "    }\n",
       "\n",
       "    [theme=dark] .colab-df-convert {\n",
       "      background-color: #3B4455;\n",
       "      fill: #D2E3FC;\n",
       "    }\n",
       "\n",
       "    [theme=dark] .colab-df-convert:hover {\n",
       "      background-color: #434B5C;\n",
       "      box-shadow: 0px 1px 3px 1px rgba(0, 0, 0, 0.15);\n",
       "      filter: drop-shadow(0px 1px 2px rgba(0, 0, 0, 0.3));\n",
       "      fill: #FFFFFF;\n",
       "    }\n",
       "  </style>\n",
       "\n",
       "      <script>\n",
       "        const buttonEl =\n",
       "          document.querySelector('#df-740eeaf1-a173-4c2a-bbba-3c67a4d19089 button.colab-df-convert');\n",
       "        buttonEl.style.display =\n",
       "          google.colab.kernel.accessAllowed ? 'block' : 'none';\n",
       "\n",
       "        async function convertToInteractive(key) {\n",
       "          const element = document.querySelector('#df-740eeaf1-a173-4c2a-bbba-3c67a4d19089');\n",
       "          const dataTable =\n",
       "            await google.colab.kernel.invokeFunction('convertToInteractive',\n",
       "                                                     [key], {});\n",
       "          if (!dataTable) return;\n",
       "\n",
       "          const docLinkHtml = 'Like what you see? Visit the ' +\n",
       "            '<a target=\"_blank\" href=https://colab.research.google.com/notebooks/data_table.ipynb>data table notebook</a>'\n",
       "            + ' to learn more about interactive tables.';\n",
       "          element.innerHTML = '';\n",
       "          dataTable['output_type'] = 'display_data';\n",
       "          await google.colab.output.renderOutput(dataTable, element);\n",
       "          const docLink = document.createElement('div');\n",
       "          docLink.innerHTML = docLinkHtml;\n",
       "          element.appendChild(docLink);\n",
       "        }\n",
       "      </script>\n",
       "    </div>\n",
       "  </div>\n",
       "  "
      ],
      "text/plain": [
       "   transaction_date  house_age  distance_nearest_MRT_station  \\\n",
       "0          2012.917       32.0                      84.87882   \n",
       "1          2012.917       19.5                     306.59470   \n",
       "2          2013.583       13.3                     561.98450   \n",
       "3          2013.500       13.3                     561.98450   \n",
       "4          2012.833        5.0                     390.56840   \n",
       "\n",
       "   convenience_stores  house_price_unit_area  log_distance_nearest_MRT_station  \n",
       "0                  10                   37.9                          1.928799  \n",
       "1                   9                   42.2                          2.486565  \n",
       "2                   5                   47.3                          2.749724  \n",
       "3                   5                   54.8                          2.749724  \n",
       "4                   5                   43.1                          2.591697  "
      ]
     },
     "execution_count": 5,
     "metadata": {},
     "output_type": "execute_result"
    }
   ],
   "source": [
    "RE.head()"
   ]
  },
  {
   "cell_type": "markdown",
   "metadata": {
    "id": "RK2zIVwAVSlx"
   },
   "source": [
    "Standardize your feature and target data (setting their mean to 0 and standard deviation to 1)"
   ]
  },
  {
   "cell_type": "code",
   "execution_count": 6,
   "metadata": {
    "id": "rryGybFQFDja"
   },
   "outputs": [],
   "source": [
    "# -- your code here\n",
    "feat = RE[[\"log_distance_nearest_MRT_station\"]]\n",
    "targ = RE['house_price_unit_area']\n",
    "feat_s = (feat - feat.mean())/feat.std()\n",
    "targ_s = (targ - targ.mean())/targ.std()"
   ]
  },
  {
   "cell_type": "markdown",
   "metadata": {
    "id": "RYDBgtWMVlSg"
   },
   "source": [
    "Using the code library of your choice, fit a linear regression model to the data"
   ]
  },
  {
   "cell_type": "code",
   "execution_count": 7,
   "metadata": {
    "colab": {
     "base_uri": "https://localhost:8080/"
    },
    "id": "p_x1r6JYVksb",
    "outputId": "e2eb3dde-39c6-47fc-91ac-19d05f174ac3"
   },
   "outputs": [
    {
     "data": {
      "text/plain": [
       "LinearRegression()"
      ]
     },
     "execution_count": 7,
     "metadata": {},
     "output_type": "execute_result"
    }
   ],
   "source": [
    "# -- your code here\n",
    "mlr = LinearRegression()\n",
    "mlr.fit(feat_s,targ_s)"
   ]
  },
  {
   "cell_type": "markdown",
   "metadata": {
    "id": "k_hktZmTVs6m"
   },
   "source": [
    "Print both the $R^2$ and Adjusted-$R^2$ of this model \n",
    "\n",
    "(+1 bonus point for using the `.format()` method in `print` to show the two values and round them to 3 decimal places)"
   ]
  },
  {
   "cell_type": "code",
   "execution_count": 8,
   "metadata": {
    "colab": {
     "base_uri": "https://localhost:8080/"
    },
    "id": "WIWsXaPKVdTr",
    "outputId": "ecc4f048-45ad-443c-8010-0b2ec634aca3"
   },
   "outputs": [
    {
     "name": "stdout",
     "output_type": "stream",
     "text": [
      "The r2 of the model is 0.539\n",
      "The adjusted r2 of the model is 0.538\n"
     ]
    }
   ],
   "source": [
    "# -- your code here\n",
    "adj_r2 = 1 - (1-mlr.score(feat_s, targ_s))*(len(targ_s)-1)/(len(targ_s)-feat_s.shape[1]-1)\n",
    "print('The r2 of the model is {0:.3f}'.format(mlr.score(feat_s,targ_s)))\n",
    "print('The adjusted r2 of the model is {0:.3f}'.format(adj_r2))"
   ]
  },
  {
   "cell_type": "markdown",
   "metadata": {},
   "source": [
    "# <mark>WFF</mark> Very good."
   ]
  },
  {
   "cell_type": "markdown",
   "metadata": {
    "id": "6spcmbZ-XQhs"
   },
   "source": [
    "Print the coefficient (slope) of the line"
   ]
  },
  {
   "cell_type": "code",
   "execution_count": 9,
   "metadata": {
    "colab": {
     "base_uri": "https://localhost:8080/"
    },
    "id": "aCKHU3o-VdjC",
    "outputId": "3e23cd68-56b1-4d54-da98-9b5cf9ff38e0"
   },
   "outputs": [
    {
     "name": "stdout",
     "output_type": "stream",
     "text": [
      "The Coefficient of the line is -0.734\n"
     ]
    }
   ],
   "source": [
    "# -- your code here\n",
    "print(\"The Coefficient of the line is {0:.3f}\".format(mlr.coef_[0]))"
   ]
  },
  {
   "cell_type": "markdown",
   "metadata": {
    "id": "EYs3arrqePbn"
   },
   "source": [
    "From looking at the coefficient, what can you say about the relationship between the feature (the distance to the nearest MRT station) and the target (the house price/unit area)?"
   ]
  },
  {
   "cell_type": "markdown",
   "metadata": {
    "id": "gBsZRNV3ePV5"
   },
   "source": [
    "***After looking at the coefficient we can say that there is a negative correlation between the distance to the nearest MRT station and the price of the house.*** "
   ]
  },
  {
   "cell_type": "markdown",
   "metadata": {},
   "source": [
    "# <mark>WFF</mark> Very good."
   ]
  },
  {
   "cell_type": "markdown",
   "metadata": {
    "id": "MHqiI52lXvSr"
   },
   "source": [
    "Plot the actual vs. model predicted values for the house price/unit area for all log10(distance to MRT station) values in the data"
   ]
  },
  {
   "cell_type": "code",
   "execution_count": 10,
   "metadata": {
    "colab": {
     "base_uri": "https://localhost:8080/",
     "height": 344
    },
    "id": "9Gblf2UCVdo4",
    "outputId": "0bb5ccd5-340d-426b-ab23-5b76ab9b7e27"
   },
   "outputs": [
    {
     "data": {
      "image/png": "[encoded data removed]",
      "text/plain": [
       "<Figure size 432x288 with 1 Axes>"
      ]
     },
     "metadata": {
      "needs_background": "light"
     },
     "output_type": "display_data"
    }
   ],
   "source": [
    "# -- your code here\n",
    "prediction1 = mlr.predict(feat_s)\n",
    "plt.plot(targ, prediction1,\"o\",alpha = 0.5)\n",
    "plt.xlabel('house_price_unit_area')\n",
    "plt.ylabel('prediction')\n",
    "plt.text(-3.5,-3.5, \"This figure shows the predicted vs actual values for the house price/unit area for all log10(distance to MRT station) values in the data\");"
   ]
  },
  {
   "cell_type": "markdown",
   "metadata": {},
   "source": [
    "# <mark>WFF</mark> This figure is good, though you may want to add another sentence that explains the significance of the plot. Still though, this is good :)"
   ]
  },
  {
   "cell_type": "markdown",
   "metadata": {
    "id": "iFAO4QfCbgGN"
   },
   "source": [
    "## Task 2: multiple linear regression (all variables)\n",
    "\n",
    "create a multiple regression model that utilizes all features to predict the house price/unit area, and find the model's metrics ($R^2$ and Adjusted-$R^2$), as well as the the coeffient for each variable.\n",
    "\n",
    "---"
   ]
  },
  {
   "cell_type": "markdown",
   "metadata": {
    "id": "PT2-ClOFcXjQ"
   },
   "source": [
    "Make sure all your features and target columns are standardized, and that you are using all the features in the data frame (also make sure to use ```log10(distance_nearest_MRT_station)``` rather than ```distance_nearest_MRT_station``` as a feature)"
   ]
  },
  {
   "cell_type": "code",
   "execution_count": 11,
   "metadata": {
    "colab": {
     "base_uri": "https://localhost:8080/",
     "height": 206
    },
    "id": "lzlg3ZaZEeKS",
    "outputId": "90f86fa2-6aa3-4701-a26d-fb354341fe03"
   },
   "outputs": [
    {
     "data": {
      "text/html": [
       "\n",
       "  <div id=\"df-8b021337-ef3a-42d8-b3de-6e4543f46d03\">\n",
       "    <div class=\"colab-df-container\">\n",
       "      <div>\n",
       "<style scoped>\n",
       "    .dataframe tbody tr th:only-of-type {\n",
       "        vertical-align: middle;\n",
       "    }\n",
       "\n",
       "    .dataframe tbody tr th {\n",
       "        vertical-align: top;\n",
       "    }\n",
       "\n",
       "    .dataframe thead th {\n",
       "        text-align: right;\n",
       "    }\n",
       "</style>\n",
       "<table border=\"1\" class=\"dataframe\">\n",
       "  <thead>\n",
       "    <tr style=\"text-align: right;\">\n",
       "      <th></th>\n",
       "      <th>transaction_date</th>\n",
       "      <th>house_age</th>\n",
       "      <th>distance_nearest_MRT_station</th>\n",
       "      <th>convenience_stores</th>\n",
       "      <th>house_price_unit_area</th>\n",
       "      <th>log_distance_nearest_MRT_station</th>\n",
       "    </tr>\n",
       "  </thead>\n",
       "  <tbody>\n",
       "    <tr>\n",
       "      <th>0</th>\n",
       "      <td>2012.917</td>\n",
       "      <td>32.0</td>\n",
       "      <td>84.87882</td>\n",
       "      <td>10</td>\n",
       "      <td>37.9</td>\n",
       "      <td>1.928799</td>\n",
       "    </tr>\n",
       "    <tr>\n",
       "      <th>1</th>\n",
       "      <td>2012.917</td>\n",
       "      <td>19.5</td>\n",
       "      <td>306.59470</td>\n",
       "      <td>9</td>\n",
       "      <td>42.2</td>\n",
       "      <td>2.486565</td>\n",
       "    </tr>\n",
       "    <tr>\n",
       "      <th>2</th>\n",
       "      <td>2013.583</td>\n",
       "      <td>13.3</td>\n",
       "      <td>561.98450</td>\n",
       "      <td>5</td>\n",
       "      <td>47.3</td>\n",
       "      <td>2.749724</td>\n",
       "    </tr>\n",
       "    <tr>\n",
       "      <th>3</th>\n",
       "      <td>2013.500</td>\n",
       "      <td>13.3</td>\n",
       "      <td>561.98450</td>\n",
       "      <td>5</td>\n",
       "      <td>54.8</td>\n",
       "      <td>2.749724</td>\n",
       "    </tr>\n",
       "    <tr>\n",
       "      <th>4</th>\n",
       "      <td>2012.833</td>\n",
       "      <td>5.0</td>\n",
       "      <td>390.56840</td>\n",
       "      <td>5</td>\n",
       "      <td>43.1</td>\n",
       "      <td>2.591697</td>\n",
       "    </tr>\n",
       "  </tbody>\n",
       "</table>\n",
       "</div>\n",
       "      <button class=\"colab-df-convert\" onclick=\"convertToInteractive('df-8b021337-ef3a-42d8-b3de-6e4543f46d03')\"\n",
       "              title=\"Convert this dataframe to an interactive table.\"\n",
       "              style=\"display:none;\">\n",
       "        \n",
       "  <svg xmlns=\"http://www.w3.org/2000/svg\" height=\"24px\"viewBox=\"0 0 24 24\"\n",
       "       width=\"24px\">\n",
       "    <path d=\"M0 0h24v24H0V0z\" fill=\"none\"/>\n",
       "    <path d=\"M18.56 5.44l.94 2.06.94-2.06 2.06-.94-2.06-.94-.94-2.06-.94 2.06-2.06.94zm-11 1L8.5 8.5l.94-2.06 2.06-.94-2.06-.94L8.5 2.5l-.94 2.06-2.06.94zm10 10l.94 2.06.94-2.06 2.06-.94-2.06-.94-.94-2.06-.94 2.06-2.06.94z\"/><path d=\"M17.41 7.96l-1.37-1.37c-.4-.4-.92-.59-1.43-.59-.52 0-1.04.2-1.43.59L10.3 9.45l-7.72 7.72c-.78.78-.78 2.05 0 2.83L4 21.41c.39.39.9.59 1.41.59.51 0 1.02-.2 1.41-.59l7.78-7.78 2.81-2.81c.8-.78.8-2.07 0-2.86zM5.41 20L4 18.59l7.72-7.72 1.47 1.35L5.41 20z\"/>\n",
       "  </svg>\n",
       "      </button>\n",
       "      \n",
       "  <style>\n",
       "    .colab-df-container {\n",
       "      display:flex;\n",
       "      flex-wrap:wrap;\n",
       "      gap: 12px;\n",
       "    }\n",
       "\n",
       "    .colab-df-convert {\n",
       "      background-color: #E8F0FE;\n",
       "      border: none;\n",
       "      border-radius: 50%;\n",
       "      cursor: pointer;\n",
       "      display: none;\n",
       "      fill: #1967D2;\n",
       "      height: 32px;\n",
       "      padding: 0 0 0 0;\n",
       "      width: 32px;\n",
       "    }\n",
       "\n",
       "    .colab-df-convert:hover {\n",
       "      background-color: #E2EBFA;\n",
       "      box-shadow: 0px 1px 2px rgba(60, 64, 67, 0.3), 0px 1px 3px 1px rgba(60, 64, 67, 0.15);\n",
       "      fill: #174EA6;\n",
       "    }\n",
       "\n",
       "    [theme=dark] .colab-df-convert {\n",
       "      background-color: #3B4455;\n",
       "      fill: #D2E3FC;\n",
       "    }\n",
       "\n",
       "    [theme=dark] .colab-df-convert:hover {\n",
       "      background-color: #434B5C;\n",
       "      box-shadow: 0px 1px 3px 1px rgba(0, 0, 0, 0.15);\n",
       "      filter: drop-shadow(0px 1px 2px rgba(0, 0, 0, 0.3));\n",
       "      fill: #FFFFFF;\n",
       "    }\n",
       "  </style>\n",
       "\n",
       "      <script>\n",
       "        const buttonEl =\n",
       "          document.querySelector('#df-8b021337-ef3a-42d8-b3de-6e4543f46d03 button.colab-df-convert');\n",
       "        buttonEl.style.display =\n",
       "          google.colab.kernel.accessAllowed ? 'block' : 'none';\n",
       "\n",
       "        async function convertToInteractive(key) {\n",
       "          const element = document.querySelector('#df-8b021337-ef3a-42d8-b3de-6e4543f46d03');\n",
       "          const dataTable =\n",
       "            await google.colab.kernel.invokeFunction('convertToInteractive',\n",
       "                                                     [key], {});\n",
       "          if (!dataTable) return;\n",
       "\n",
       "          const docLinkHtml = 'Like what you see? Visit the ' +\n",
       "            '<a target=\"_blank\" href=https://colab.research.google.com/notebooks/data_table.ipynb>data table notebook</a>'\n",
       "            + ' to learn more about interactive tables.';\n",
       "          element.innerHTML = '';\n",
       "          dataTable['output_type'] = 'display_data';\n",
       "          await google.colab.output.renderOutput(dataTable, element);\n",
       "          const docLink = document.createElement('div');\n",
       "          docLink.innerHTML = docLinkHtml;\n",
       "          element.appendChild(docLink);\n",
       "        }\n",
       "      </script>\n",
       "    </div>\n",
       "  </div>\n",
       "  "
      ],
      "text/plain": [
       "   transaction_date  house_age  distance_nearest_MRT_station  \\\n",
       "0          2012.917       32.0                      84.87882   \n",
       "1          2012.917       19.5                     306.59470   \n",
       "2          2013.583       13.3                     561.98450   \n",
       "3          2013.500       13.3                     561.98450   \n",
       "4          2012.833        5.0                     390.56840   \n",
       "\n",
       "   convenience_stores  house_price_unit_area  log_distance_nearest_MRT_station  \n",
       "0                  10                   37.9                          1.928799  \n",
       "1                   9                   42.2                          2.486565  \n",
       "2                   5                   47.3                          2.749724  \n",
       "3                   5                   54.8                          2.749724  \n",
       "4                   5                   43.1                          2.591697  "
      ]
     },
     "execution_count": 11,
     "metadata": {},
     "output_type": "execute_result"
    }
   ],
   "source": [
    "RE.head()"
   ]
  },
  {
   "cell_type": "code",
   "execution_count": 12,
   "metadata": {
    "id": "qc0keSNZZ4Zu"
   },
   "outputs": [],
   "source": [
    "# -- your code here\n",
    "feats = RE[[\"convenience_stores\",\"log_distance_nearest_MRT_station\", \"house_age\", \"transaction_date\"]]\n",
    "targs = RE['house_price_unit_area']\n",
    "feats_s = (feats - feats.mean())/feats.std()\n",
    "targs_s = (targs - targs.mean())/targs.std()"
   ]
  },
  {
   "cell_type": "markdown",
   "metadata": {
    "id": "sSYvBMkXcxjx"
   },
   "source": [
    "Using the code library of your choice, fit a multiple linear regression model to the data"
   ]
  },
  {
   "cell_type": "code",
   "execution_count": 13,
   "metadata": {
    "colab": {
     "base_uri": "https://localhost:8080/"
    },
    "id": "_EPrB-FdZ4cE",
    "outputId": "6392a78f-aa9b-46e1-bfe0-b50835f1ac1f"
   },
   "outputs": [
    {
     "data": {
      "text/plain": [
       "LinearRegression()"
      ]
     },
     "execution_count": 13,
     "metadata": {},
     "output_type": "execute_result"
    }
   ],
   "source": [
    "# -- your code here\n",
    "mlrs = LinearRegression()\n",
    "mlrs.fit(feats_s,targs_s)"
   ]
  },
  {
   "cell_type": "markdown",
   "metadata": {
    "id": "tlAbv9Gpc5Vz"
   },
   "source": [
    "Print the coefficients of each of the features"
   ]
  },
  {
   "cell_type": "code",
   "execution_count": 14,
   "metadata": {
    "colab": {
     "base_uri": "https://localhost:8080/"
    },
    "id": "IQtGO6lcZ4eF",
    "outputId": "74f4ca1e-5c87-44c0-b28f-bdef7e351c27"
   },
   "outputs": [
    {
     "name": "stdout",
     "output_type": "stream",
     "text": [
      "The Coefficient for convenience stores is 0.137\n",
      "The Coefficient for log_distance_nearest_MRT_station is -0.643\n",
      "The Coefficient for house_age is -0.177\n",
      "The Coefficient for transaction_date is 0.152\n"
     ]
    }
   ],
   "source": [
    "# -- your code here\n",
    "print(\"The Coefficient for convenience stores is {0:.3f}\".format(mlrs.coef_[0]))\n",
    "print(\"The Coefficient for log_distance_nearest_MRT_station is {0:.3f}\".format(mlrs.coef_[1]))\n",
    "print(\"The Coefficient for house_age is {0:.3f}\".format(mlrs.coef_[2]))\n",
    "print(\"The Coefficient for transaction_date is {0:.3f}\".format(mlrs.coef_[3]))"
   ]
  },
  {
   "cell_type": "markdown",
   "metadata": {
    "id": "d5doqy3rdHLW"
   },
   "source": [
    "What can you claim about the relative correlation and influence of each feature on the prediction of the target variable?"
   ]
  },
  {
   "cell_type": "markdown",
   "metadata": {
    "id": "X63QO1tAdIgF"
   },
   "source": [
    "*You can claim that the relative correlation between convience stores and transaction date and house price is positive,and negative for distance to the nearest MRT station, and house age.*"
   ]
  },
  {
   "cell_type": "markdown",
   "metadata": {
    "id": "X8K0ZhrMdLcG"
   },
   "source": [
    "Print the $R^2$ of this model"
   ]
  },
  {
   "cell_type": "code",
   "execution_count": 15,
   "metadata": {
    "colab": {
     "base_uri": "https://localhost:8080/"
    },
    "id": "9Qc4BC8BVdy9",
    "outputId": "124ff7b9-46f2-4fcd-ac41-074c2c1b2ee3"
   },
   "outputs": [
    {
     "name": "stdout",
     "output_type": "stream",
     "text": [
      "The r2 of the model is 0.601\n"
     ]
    }
   ],
   "source": [
    "# -- your code here\n",
    "print('The r2 of the model is {0:.3f}'.format(mlrs.score(feats_s,targs_s)))"
   ]
  },
  {
   "cell_type": "markdown",
   "metadata": {
    "id": "7P5iogz_dSfD"
   },
   "source": [
    "Looking only at the $R^2$ scores for this model relative to the previous model in Task 1, would you say the model has improved with the addition of the remaining features or not? and Why?"
   ]
  },
  {
   "cell_type": "markdown",
   "metadata": {
    "id": "sMUCOhQOdXaE"
   },
   "source": [
    "*Yes I would say that the model has improved with the addition of the remaining features because in task one the R^2 was at 54% and now it is at around 60%.*"
   ]
  },
  {
   "cell_type": "markdown",
   "metadata": {
    "id": "zMWT8U7mdY0p"
   },
   "source": [
    "Print the Adjusted-$R^2$ of this model"
   ]
  },
  {
   "cell_type": "code",
   "execution_count": 16,
   "metadata": {
    "colab": {
     "base_uri": "https://localhost:8080/"
    },
    "id": "tvV_wPfKVd1f",
    "outputId": "ce1da499-490d-4991-b6f2-4877501bef5c"
   },
   "outputs": [
    {
     "name": "stdout",
     "output_type": "stream",
     "text": [
      "The adjusted r2 of the model is 0.597\n"
     ]
    }
   ],
   "source": [
    "# -- your code here\n",
    "adjs_r2 = 1 - (1-mlrs.score(feats_s, targs_s))*(len(targs_s)-1)/(len(targs_s)-feats_s.shape[1]-1)\n",
    "print('The adjusted r2 of the model is {0:.3f}'.format(adjs_r2))"
   ]
  },
  {
   "cell_type": "markdown",
   "metadata": {
    "id": "xCpFXai6dkpL"
   },
   "source": [
    "Looking at both $R^2$ and Ajusted-$R^2$ scores for this model relative to the previous model in Task 1, would you say the model has improved with the addition of the remaining features or not? and Why?"
   ]
  },
  {
   "cell_type": "markdown",
   "metadata": {
    "id": "4BO8fq6odqrA"
   },
   "source": [
    "*Yes i would say that the model has improved with the addition of the remaining features because the R^2 and adjusted R^2 have both increased from task one.*"
   ]
  },
  {
   "cell_type": "markdown",
   "metadata": {
    "id": "mgIAi9C9duLy"
   },
   "source": [
    "Plot the actual vs. model predicted values for the house price/unit area for all objects in the data. Is there any visible improvement in the quality of the prediction that you can claim from comparing this plot with the one from Task 2? "
   ]
  },
  {
   "cell_type": "code",
   "execution_count": 17,
   "metadata": {
    "colab": {
     "base_uri": "https://localhost:8080/",
     "height": 330
    },
    "id": "JOwT7fmfVd3x",
    "outputId": "9a3b7b8f-c050-409e-bd30-2088ab14f1a6"
   },
   "outputs": [
    {
     "data": {
      "image/png": "[encoded data removed]",
      "text/plain": [
       "<Figure size 432x288 with 1 Axes>"
      ]
     },
     "metadata": {
      "needs_background": "light"
     },
     "output_type": "display_data"
    }
   ],
   "source": [
    "# -- your code here\n",
    "prediction2 = mlrs.predict(feats_s)\n",
    "plt.plot(targs, prediction2,\"o\",alpha = 0.5)\n",
    "plt.xlabel('house_price_unit_area')\n",
    "plt.ylabel('prediction')\n",
    "plt.text(-3.5,-3.5, \"This figure shows the actual vs. model predicted values for the house price/unit area for all objects in the data.\");"
   ]
  },
  {
   "cell_type": "markdown",
   "metadata": {
    "id": "xMPutk8EC801"
   },
   "source": [
    "*The visible improvement that I am noticing from task one is that the points on the graph seem to be more condensed leaving me to beleive that a more accurate regression is present.*"
   ]
  },
  {
   "cell_type": "code",
   "execution_count": 17,
   "metadata": {
    "id": "yROgV9i-Vd-W"
   },
   "outputs": [],
   "source": []
  }
 ],
 "metadata": {
  "colab": {
   "collapsed_sections": [],
   "include_colab_link": true,
   "provenance": []
  },
  "kernelspec": {
   "display_name": "Python 3 (ipykernel)",
   "language": "python",
   "name": "python3"
  },
  "language_info": {
   "codemirror_mode": {
    "name": "ipython",
    "version": 3
   },
   "file_extension": ".py",
   "mimetype": "text/x-python",
   "name": "python",
   "nbconvert_exporter": "python",
   "pygments_lexer": "ipython3",
   "version": "3.10.6"
  }
 },
 "nbformat": 4,
 "nbformat_minor": 4
}
